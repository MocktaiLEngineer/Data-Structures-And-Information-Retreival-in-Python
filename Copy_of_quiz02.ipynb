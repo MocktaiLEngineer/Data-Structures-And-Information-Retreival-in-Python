{
  "cells": [
    {
      "cell_type": "markdown",
      "metadata": {
        "id": "view-in-github",
        "colab_type": "text"
      },
      "source": [
        "<a href=\"https://colab.research.google.com/github/MocktaiLEngineer/Data-Structures-And-Information-Retreival-in-Python/blob/main/Copy_of_quiz02.ipynb\" target=\"_parent\"><img src=\"https://colab.research.google.com/assets/colab-badge.svg\" alt=\"Open In Colab\"/></a>"
      ]
    },
    {
      "cell_type": "markdown",
      "metadata": {
        "id": "cniSiI1F_AC9"
      },
      "source": [
        "# Quiz 2\n",
        "\n",
        "BEFORE YOU START THIS QUIZ:\n",
        "\n",
        "1. Click on \"Copy to Drive\" to make a copy of the quiz,\n",
        "\n",
        "2. Click on \"Share\",\n",
        "    \n",
        "3. Click on \"Change\" and select \"Anyone with this link can edit\"\n",
        "    \n",
        "4. Click \"Copy link\" and\n",
        "\n",
        "5. Paste the link into [this Canvas assignment](https://canvas.olin.edu/courses/313/assignments/4929). \n",
        "\n",
        "This quiz is open notes, open internet. The only thing you can't do is ask for help.\n",
        "\n",
        "Copyright 2021 Allen Downey, [MIT License](http://opensource.org/licenses/MIT)"
      ]
    },
    {
      "cell_type": "markdown",
      "metadata": {
        "id": "q9Pk9PJx_AC-"
      },
      "source": [
        "## Question 1\n",
        "\n",
        "Suppose you have a function that takes a lot of options; some are required and some are optional.\n",
        "\n",
        "Before you run the function, you might want to check that:\n",
        "\n",
        "1. All required options are provided, and\n",
        "\n",
        "2. No illegal options are provided.\n",
        "\n",
        "For example, suppose this dictionary contains the provided options and their values:"
      ]
    },
    {
      "cell_type": "code",
      "execution_count": null,
      "metadata": {
        "colab": {
          "base_uri": "https://localhost:8080/"
        },
        "id": "VXmmKr_r_AC_",
        "outputId": "81251b99-d3b2-4924-c47f-b75e3f87487d"
      },
      "outputs": [
        {
          "output_type": "execute_result",
          "data": {
            "text/plain": [
              "{'a': 1, 'b': 2}"
            ]
          },
          "metadata": {},
          "execution_count": 1
        }
      ],
      "source": [
        "options = dict(a=1, b=2)\n",
        "options"
      ]
    },
    {
      "cell_type": "markdown",
      "metadata": {
        "id": "e23Ury4K_AC_"
      },
      "source": [
        "And suppose that only `a` is required."
      ]
    },
    {
      "cell_type": "code",
      "execution_count": null,
      "metadata": {
        "id": "6dVzLwi0_AC_"
      },
      "outputs": [],
      "source": [
        "required = ['a'] "
      ]
    },
    {
      "cell_type": "markdown",
      "metadata": {
        "id": "lhQ979oc_AC_"
      },
      "source": [
        "And the optional arguments are `b`, and `c`:"
      ]
    },
    {
      "cell_type": "code",
      "execution_count": null,
      "metadata": {
        "id": "JKSLsNEq_AC_"
      },
      "outputs": [],
      "source": [
        "optional = ['b', 'c'] "
      ]
    },
    {
      "cell_type": "markdown",
      "metadata": {
        "id": "jLsA83S6_ADA"
      },
      "source": [
        "An option is legal if it is required or optional. All other options are illegal.\n",
        "\n",
        "Write a function called `check_options` that takes a dictionary of options and their values, a sequence of required options, and a sequence of options that are legal but not required.\n",
        "\n",
        "1. It should check that all required options are provided and, if not, print an error message that lists the ones that are missing.\n",
        "\n",
        "2. It should check that all provided options are legal and, if not, print an error message that lists the ones that are illegal.\n",
        "\n",
        "For full credit, you must use set operations when they are appropriate rather than writing `for` loops."
      ]
    },
    {
      "cell_type": "code",
      "execution_count": null,
      "metadata": {
        "id": "qVCZH9ft_ADA"
      },
      "outputs": [],
      "source": [
        "from typing import Dict\n",
        "\n",
        "def check_options(options: Dict, required, optional):\n",
        "    required_set = set(required)\n",
        "    if not required_set.issubset(set(options)):\n",
        "        print(\"Required options missing:\", required_set - set(options))\n",
        "\n",
        "    legal_set = set(required) | set(optional)\n",
        "\n",
        "    if not set(options).issubset(legal_set):\n",
        "        print(\"Illegal options provided:\", set(options) - legal_set)"
      ]
    },
    {
      "cell_type": "markdown",
      "metadata": {
        "id": "11wFpPoy_ADA"
      },
      "source": [
        "The following test should display nothing because the dictionary contains all required options and no illegal ones."
      ]
    },
    {
      "cell_type": "code",
      "execution_count": null,
      "metadata": {
        "id": "IUWGY5tE_ADA"
      },
      "outputs": [],
      "source": [
        "options = dict(a=1, b=2)\n",
        "check_options(options, required, optional)"
      ]
    },
    {
      "cell_type": "markdown",
      "metadata": {
        "id": "49E__bnD_ADA"
      },
      "source": [
        "The following test should print an error message because the dictionary is missing a required option."
      ]
    },
    {
      "cell_type": "code",
      "execution_count": null,
      "metadata": {
        "colab": {
          "base_uri": "https://localhost:8080/"
        },
        "id": "3dw8PvN__ADA",
        "outputId": "5dce94b8-ae81-43f3-addc-adfbbb6650e4"
      },
      "outputs": [
        {
          "output_type": "stream",
          "name": "stdout",
          "text": [
            "Required options missing: {'a'}\n"
          ]
        }
      ],
      "source": [
        "options = dict(b=2, c=3)\n",
        "check_options(options, required, optional)"
      ]
    },
    {
      "cell_type": "markdown",
      "metadata": {
        "id": "hZqxsxYp_ADA"
      },
      "source": [
        "The following test should display an error message because the dictionary contains an illegal option."
      ]
    },
    {
      "cell_type": "code",
      "execution_count": null,
      "metadata": {
        "colab": {
          "base_uri": "https://localhost:8080/"
        },
        "id": "AtNoc15K_ADB",
        "outputId": "a3acbed5-ebf6-4e6f-a9c6-42abc770274d"
      },
      "outputs": [
        {
          "output_type": "stream",
          "name": "stdout",
          "text": [
            "Illegal options provided: {'d'}\n"
          ]
        }
      ],
      "source": [
        "options = dict(a=1, b=2, d=4)\n",
        "check_options(options, required, optional)"
      ]
    },
    {
      "cell_type": "markdown",
      "metadata": {
        "id": "qwYEBe1V_ADB"
      },
      "source": [
        "## Question 2\n",
        "\n",
        "The set method `symmetric_difference` operates on two sets and computes the set of elements that appear in either set but not both."
      ]
    },
    {
      "cell_type": "code",
      "execution_count": null,
      "metadata": {
        "colab": {
          "base_uri": "https://localhost:8080/"
        },
        "id": "C2xfnLks_ADB",
        "outputId": "ad9db23a-a808-43f8-dc37-389c162cfe13"
      },
      "outputs": [
        {
          "output_type": "execute_result",
          "data": {
            "text/plain": [
              "{1, 3}"
            ]
          },
          "metadata": {},
          "execution_count": 15
        }
      ],
      "source": [
        "s1 = {1, 2}\n",
        "s2 = {2, 3}\n",
        "\n",
        "s1.symmetric_difference(s2)"
      ]
    },
    {
      "cell_type": "markdown",
      "metadata": {
        "id": "i86R6vQi_ADB"
      },
      "source": [
        "The symmetric difference operation is also defined for more that two sets. It computes **the set of elements that appear in an odd number of sets**.\n",
        "\n",
        "The `symmetric_difference` method can only handle two sets (unlike some of the other set methods), but you can chain the method like this:"
      ]
    },
    {
      "cell_type": "code",
      "execution_count": null,
      "metadata": {
        "colab": {
          "base_uri": "https://localhost:8080/"
        },
        "id": "_2IfY5IK_ADB",
        "outputId": "e3e6203d-f543-4da9-eeb9-c2c9965e53db"
      },
      "outputs": [
        {
          "output_type": "execute_result",
          "data": {
            "text/plain": [
              "{1, 4}"
            ]
          },
          "metadata": {},
          "execution_count": 16
        }
      ],
      "source": [
        "s3 = {3, 4}\n",
        "s1.symmetric_difference(s2).symmetric_difference(s3)"
      ]
    },
    {
      "cell_type": "markdown",
      "metadata": {
        "id": "_37YsfAy_ADB"
      },
      "source": [
        "However, for the sake of the exercise, let's suppose we don't have the set method `symmetric_difference` the equivalent `^` operator.\n",
        "\n",
        "Write a function that takes a list of sets as a parameter, computes their symmetric difference, and returns the result as a `set`."
      ]
    },
    {
      "cell_type": "code",
      "execution_count": null,
      "metadata": {
        "id": "ndkTwEi3_ADB"
      },
      "outputs": [],
      "source": [
        "from typing import List\n",
        "\n",
        "def symmetric_difference(sets: List[set], result = {}):\n",
        "    result = sets[0]\n",
        "    if len(sets) == 1:\n",
        "        return result\n",
        "    return result - symmetric_difference(sets[1:]) | symmetric_difference(sets[1:]) - result"
      ]
    },
    {
      "cell_type": "markdown",
      "metadata": {
        "id": "W_IbcV1S_ADB"
      },
      "source": [
        "Use the following tests to check your function."
      ]
    },
    {
      "cell_type": "code",
      "execution_count": null,
      "metadata": {
        "colab": {
          "base_uri": "https://localhost:8080/"
        },
        "id": "Szvfb2yn_ADB",
        "outputId": "93b5e46d-284a-4649-aefb-e9f4c7c0e170"
      },
      "outputs": [
        {
          "output_type": "execute_result",
          "data": {
            "text/plain": [
              "{1, 3}"
            ]
          },
          "metadata": {},
          "execution_count": 20
        }
      ],
      "source": [
        "symmetric_difference([s1, s2])    # should be {1, 3}"
      ]
    },
    {
      "cell_type": "code",
      "execution_count": null,
      "metadata": {
        "colab": {
          "base_uri": "https://localhost:8080/"
        },
        "id": "xNKVDvsB_ADB",
        "outputId": "d38b839c-e7f8-47dc-efcf-3d9b841efb49"
      },
      "outputs": [
        {
          "output_type": "execute_result",
          "data": {
            "text/plain": [
              "{2, 4}"
            ]
          },
          "metadata": {},
          "execution_count": 21
        }
      ],
      "source": [
        "symmetric_difference([s2, s3])     # should be {2, 4}"
      ]
    },
    {
      "cell_type": "code",
      "execution_count": null,
      "metadata": {
        "colab": {
          "base_uri": "https://localhost:8080/"
        },
        "id": "B952JQ90_ADC",
        "outputId": "35ffd0ee-2a42-4a50-c43e-1cc37801a695"
      },
      "outputs": [
        {
          "output_type": "execute_result",
          "data": {
            "text/plain": [
              "{1, 4}"
            ]
          },
          "metadata": {},
          "execution_count": 22
        }
      ],
      "source": [
        "symmetric_difference([s1, s2, s3]) # should be {1, 4}"
      ]
    },
    {
      "cell_type": "code",
      "execution_count": null,
      "metadata": {
        "id": "ljH95kpw_ADC"
      },
      "outputs": [],
      "source": []
    },
    {
      "cell_type": "code",
      "execution_count": null,
      "metadata": {
        "id": "1qGpsJ44_ADC"
      },
      "outputs": [],
      "source": []
    },
    {
      "cell_type": "code",
      "execution_count": null,
      "metadata": {
        "id": "dy1NzdRo_ADC"
      },
      "outputs": [],
      "source": []
    },
    {
      "cell_type": "code",
      "execution_count": null,
      "metadata": {
        "id": "wVBnwdhW_ADC"
      },
      "outputs": [],
      "source": []
    },
    {
      "cell_type": "code",
      "execution_count": null,
      "metadata": {
        "id": "ihgXSqAH_ADC"
      },
      "outputs": [],
      "source": []
    },
    {
      "cell_type": "markdown",
      "metadata": {
        "id": "FpwEueVj_ADC"
      },
      "source": [
        "## Question 3\n",
        "\n",
        "Write a generator function called `evens_and_odds` that takes a list of integers and yields:\n",
        "\n",
        "* All of the elements of the list that are even, followed by\n",
        "\n",
        "* All of the elements of the list that are odd.\n",
        "\n",
        "For example, if the list is `[1, 2, 4, 7]`, the sequence of values generated should be `2, 4, 1, 7`."
      ]
    },
    {
      "cell_type": "code",
      "execution_count": null,
      "metadata": {
        "id": "useqXiwa_ADC"
      },
      "outputs": [],
      "source": [
        "from typing import List\n",
        "\n",
        "def evens_and_odds(seq: List[int]):\n",
        "    for num in seq:\n",
        "        if num % 2 == 0:\n",
        "            yield num\n",
        "\n",
        "    for num in seq:\n",
        "        if num % 2 != 0:\n",
        "            yield num"
      ]
    },
    {
      "cell_type": "markdown",
      "metadata": {
        "id": "lEBc0N89_ADC"
      },
      "source": [
        "Use this example to test your function."
      ]
    },
    {
      "cell_type": "code",
      "execution_count": null,
      "metadata": {
        "colab": {
          "base_uri": "https://localhost:8080/"
        },
        "id": "T9RWu7-__ADC",
        "outputId": "aa87bf45-dcc8-4c45-b81d-145f1aeff17a"
      },
      "outputs": [
        {
          "output_type": "stream",
          "name": "stdout",
          "text": [
            "2\n",
            "4\n",
            "1\n",
            "7\n"
          ]
        }
      ],
      "source": [
        "t = [1, 2, 4, 7]\n",
        "\n",
        "for x in evens_and_odds(t):\n",
        "    print(x)"
      ]
    },
    {
      "cell_type": "markdown",
      "metadata": {
        "id": "AzDrKJWL_ADC"
      },
      "source": [
        "As a challenge, JUST FOR FUN, write a version of this function that works if the argument is an iterator that you can only iterate once."
      ]
    },
    {
      "cell_type": "code",
      "execution_count": null,
      "metadata": {
        "id": "Wg7PYE3b_ADC"
      },
      "outputs": [],
      "source": [
        "def evens_and_odds(seq: List[int]):\n",
        "    odds = []\n",
        "    for num in seq:\n",
        "        if num % 2 == 0:\n",
        "            yield num\n",
        "        else:\n",
        "            odds.append(num)\n",
        "\n",
        "    yield from odds"
      ]
    },
    {
      "cell_type": "code",
      "execution_count": null,
      "metadata": {
        "id": "LukmSnpw_ADC",
        "colab": {
          "base_uri": "https://localhost:8080/"
        },
        "outputId": "bb6796e4-109e-4373-c19b-708aa9b06221"
      },
      "outputs": [
        {
          "output_type": "stream",
          "name": "stdout",
          "text": [
            "2\n",
            "4\n",
            "1\n",
            "7\n"
          ]
        }
      ],
      "source": [
        "t = [1,2,4,7]\n",
        "\n",
        "for x in evens_and_odds(t):\n",
        "    print(x)"
      ]
    },
    {
      "cell_type": "markdown",
      "metadata": {
        "id": "3xXylE2T_ADC"
      },
      "source": [
        "## Question 4\n",
        "\n",
        "The following string contains the lyrics of a [well-known song](https://youtu.be/dQw4w9WgXcQ?t=43)."
      ]
    },
    {
      "cell_type": "code",
      "execution_count": 3,
      "metadata": {
        "id": "SmfxWy5Q_ADC"
      },
      "outputs": [],
      "source": [
        "lyrics = \"\"\"\n",
        "Never gonna give you up\n",
        "Never gonna let you down\n",
        "Never gonna run around and desert you\n",
        "Never gonna make you cry\n",
        "Never gonna say goodbye\n",
        "Never gonna tell a lie and hurt you \n",
        "\"\"\""
      ]
    },
    {
      "cell_type": "markdown",
      "metadata": {
        "id": "QeOkmdC__ADC"
      },
      "source": [
        "The following generator function yields the words in `lyrics` one at a time."
      ]
    },
    {
      "cell_type": "code",
      "execution_count": 4,
      "metadata": {
        "id": "k9-F3J-O_ADC"
      },
      "outputs": [],
      "source": [
        "def generate_lyrics(lyrics):\n",
        "    for word in lyrics.split():\n",
        "        yield word"
      ]
    },
    {
      "cell_type": "markdown",
      "metadata": {
        "id": "QZjqANnj_ADC"
      },
      "source": [
        "Write a few lines of code that use `generate_lyrics` to iterate through the words **only once** and build a dictionary that maps from each word to the set of words that follow it.\n",
        "\n",
        "For example, the first two entries in the dictionary should be\n",
        "\n",
        "```\n",
        "{'Never': {'gonna'},\n",
        " 'gonna': {'give', 'let', 'make', 'run', 'say', 'tell'},\n",
        " ...\n",
        "```\n",
        "\n",
        "because in `lyrics`, the word \"Never\" is always followed by \"gonna\", and the word \"gonna\" is followed by six different words."
      ]
    },
    {
      "cell_type": "code",
      "execution_count": 12,
      "metadata": {
        "id": "NPWIxgQo_ADC"
      },
      "outputs": [],
      "source": [
        "from collections import defaultdict\n",
        "\n",
        "def buildDict():\n",
        "    lyricsDict = defaultdict(set)\n",
        "\n",
        "    it = generate_lyrics(lyrics)\n",
        "    word1 = next(it)\n",
        "\n",
        "    for word2 in it:\n",
        "        lyricsDict[word1].add(word2)\n",
        "        word1 = word2\n",
        "\n",
        "    return lyricsDict"
      ]
    },
    {
      "cell_type": "code",
      "execution_count": 13,
      "metadata": {
        "id": "gHvzSd2v_ADC",
        "colab": {
          "base_uri": "https://localhost:8080/"
        },
        "outputId": "6b7d3849-cceb-4a60-dfa8-6d33f6a96fb4"
      },
      "outputs": [
        {
          "output_type": "execute_result",
          "data": {
            "text/plain": [
              "defaultdict(set,\n",
              "            {'Never': {'gonna'},\n",
              "             'gonna': {'give', 'let', 'make', 'run', 'say', 'tell'},\n",
              "             'give': {'you'},\n",
              "             'you': {'Never', 'cry', 'down', 'up'},\n",
              "             'up': {'Never'},\n",
              "             'let': {'you'},\n",
              "             'down': {'Never'},\n",
              "             'run': {'around'},\n",
              "             'around': {'and'},\n",
              "             'and': {'desert', 'hurt'},\n",
              "             'desert': {'you'},\n",
              "             'make': {'you'},\n",
              "             'cry': {'Never'},\n",
              "             'say': {'goodbye'},\n",
              "             'goodbye': {'Never'},\n",
              "             'tell': {'a'},\n",
              "             'a': {'lie'},\n",
              "             'lie': {'and'},\n",
              "             'hurt': {'you'}})"
            ]
          },
          "metadata": {},
          "execution_count": 13
        }
      ],
      "source": [
        "buildDict()"
      ]
    },
    {
      "cell_type": "code",
      "execution_count": null,
      "metadata": {
        "id": "WYFkf2gR_ADC"
      },
      "outputs": [],
      "source": []
    },
    {
      "cell_type": "code",
      "execution_count": null,
      "metadata": {
        "id": "DXhqxEkC_ADC"
      },
      "outputs": [],
      "source": []
    }
  ],
  "metadata": {
    "kernelspec": {
      "display_name": "Python 3",
      "language": "python",
      "name": "python3"
    },
    "language_info": {
      "codemirror_mode": {
        "name": "ipython",
        "version": 3
      },
      "file_extension": ".py",
      "mimetype": "text/x-python",
      "name": "python",
      "nbconvert_exporter": "python",
      "pygments_lexer": "ipython3",
      "version": "3.9.4"
    },
    "colab": {
      "provenance": [],
      "include_colab_link": true
    }
  },
  "nbformat": 4,
  "nbformat_minor": 0
}