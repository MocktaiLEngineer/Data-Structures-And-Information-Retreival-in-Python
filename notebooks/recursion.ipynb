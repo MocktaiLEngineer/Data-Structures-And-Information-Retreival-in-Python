{
  "cells": [
    {
      "cell_type": "markdown",
      "metadata": {
        "id": "view-in-github",
        "colab_type": "text"
      },
      "source": [
        "<a href=\"https://colab.research.google.com/github/MocktaiLEngineer/Data-Structures-And-Information-Retreival-in-Python/blob/main/notebooks/recursion.ipynb\" target=\"_parent\"><img src=\"https://colab.research.google.com/assets/colab-badge.svg\" alt=\"Open In Colab\"/></a>"
      ]
    },
    {
      "cell_type": "markdown",
      "id": "af0fce85",
      "metadata": {
        "id": "af0fce85"
      },
      "source": [
        "# Recursion"
      ]
    },
    {
      "cell_type": "markdown",
      "id": "c91bcf8f",
      "metadata": {
        "id": "c91bcf8f"
      },
      "source": [
        "[Click here to run this chapter on Colab](https://colab.research.google.com/github/AllenDowney/DSIRP/blob/main/notebooks/recursion.ipynb)"
      ]
    },
    {
      "cell_type": "markdown",
      "id": "3c45976d",
      "metadata": {
        "id": "3c45976d"
      },
      "source": [
        "## Example 1\n",
        "\n",
        "Here's an example of recursion from [this section of Think Python](https://greenteapress.com/thinkpython2/html/thinkpython2006.html#sec62)."
      ]
    },
    {
      "cell_type": "code",
      "execution_count": null,
      "id": "680f0927",
      "metadata": {
        "tags": [],
        "id": "680f0927"
      },
      "outputs": [],
      "source": [
        "def countdown(n):\n",
        "    if n == 0:\n",
        "        print('Blastoff!')\n",
        "    else:\n",
        "        print(n)\n",
        "        countdown(n-1)"
      ]
    },
    {
      "cell_type": "code",
      "execution_count": null,
      "id": "ca1913c3",
      "metadata": {
        "tags": [],
        "id": "ca1913c3",
        "outputId": "9afdc68a-574d-4c3d-a301-16a88d554a90",
        "colab": {
          "base_uri": "https://localhost:8080/"
        }
      },
      "outputs": [
        {
          "output_type": "stream",
          "name": "stdout",
          "text": [
            "3\n",
            "2\n",
            "1\n",
            "Blastoff!\n"
          ]
        }
      ],
      "source": [
        "countdown(3)"
      ]
    },
    {
      "cell_type": "markdown",
      "id": "b8122d2f",
      "metadata": {
        "id": "b8122d2f"
      },
      "source": [
        "To understand recursion, it's important to have a good mental model of what happens when you run a function:\n",
        "\n",
        "1. Python interprets the arguments.\n",
        "\n",
        "2. It creates a stack frame, which will contain the parameters and local variables.\n",
        "\n",
        "3. Next it assigns the values of the arguments to the parameters.\n",
        "\n",
        "4. Python runs the body of the function.\n",
        "\n",
        "5. Then it recycles the stack frame.\n",
        "\n",
        "The runtime stack contains the stack frames of currently-running functions."
      ]
    },
    {
      "cell_type": "markdown",
      "id": "13be8c33",
      "metadata": {
        "id": "13be8c33"
      },
      "source": [
        "Here's a stack diagram that shows what happens when this `countdown` runs.\n",
        "\n",
        "<img src=\"https://greenteapress.com/thinkpython2/html/thinkpython2005.png\">"
      ]
    },
    {
      "cell_type": "markdown",
      "id": "d3656030",
      "metadata": {
        "id": "d3656030"
      },
      "source": [
        "**Exercise:** What happens if you run countdown with a negative number?  [See here for more info]()"
      ]
    },
    {
      "cell_type": "code",
      "execution_count": null,
      "id": "926b7e09",
      "metadata": {
        "id": "926b7e09",
        "outputId": "d9292a0e-2543-4c2f-90e7-0a107f45aecc",
        "colab": {
          "base_uri": "https://localhost:8080/",
          "height": 1000
        }
      },
      "outputs": [
        {
          "output_type": "stream",
          "name": "stdout",
          "text": [
            "-4\n",
            "-5\n",
            "-6\n",
            "-7\n",
            "-8\n",
            "-9\n",
            "-10\n",
            "-11\n",
            "-12\n",
            "-13\n",
            "-14\n",
            "-15\n",
            "-16\n",
            "-17\n",
            "-18\n",
            "-19\n",
            "-20\n",
            "-21\n",
            "-22\n",
            "-23\n",
            "-24\n",
            "-25\n",
            "-26\n",
            "-27\n",
            "-28\n",
            "-29\n",
            "-30\n",
            "-31\n",
            "-32\n",
            "-33\n",
            "-34\n",
            "-35\n",
            "-36\n",
            "-37\n",
            "-38\n",
            "-39\n",
            "-40\n",
            "-41\n",
            "-42\n",
            "-43\n",
            "-44\n",
            "-45\n",
            "-46\n",
            "-47\n",
            "-48\n",
            "-49\n",
            "-50\n",
            "-51\n",
            "-52\n",
            "-53\n",
            "-54\n",
            "-55\n",
            "-56\n",
            "-57\n",
            "-58\n",
            "-59\n",
            "-60\n",
            "-61\n",
            "-62\n",
            "-63\n",
            "-64\n",
            "-65\n",
            "-66\n",
            "-67\n",
            "-68\n",
            "-69\n",
            "-70\n",
            "-71\n",
            "-72\n",
            "-73\n",
            "-74\n",
            "-75\n",
            "-76\n",
            "-77\n",
            "-78\n",
            "-79\n",
            "-80\n",
            "-81\n",
            "-82\n",
            "-83\n",
            "-84\n",
            "-85\n",
            "-86\n",
            "-87\n",
            "-88\n",
            "-89\n",
            "-90\n",
            "-91\n",
            "-92\n",
            "-93\n",
            "-94\n",
            "-95\n",
            "-96\n",
            "-97\n",
            "-98\n",
            "-99\n",
            "-100\n",
            "-101\n",
            "-102\n",
            "-103\n",
            "-104\n",
            "-105\n",
            "-106\n",
            "-107\n",
            "-108\n",
            "-109\n",
            "-110\n",
            "-111\n",
            "-112\n",
            "-113\n",
            "-114\n",
            "-115\n",
            "-116\n",
            "-117\n",
            "-118\n",
            "-119\n",
            "-120\n",
            "-121\n",
            "-122\n",
            "-123\n",
            "-124\n",
            "-125\n",
            "-126\n",
            "-127\n",
            "-128\n",
            "-129\n",
            "-130\n",
            "-131\n",
            "-132\n",
            "-133\n",
            "-134\n",
            "-135\n",
            "-136\n",
            "-137\n",
            "-138\n",
            "-139\n",
            "-140\n",
            "-141\n",
            "-142\n",
            "-143\n",
            "-144\n",
            "-145\n",
            "-146\n",
            "-147\n",
            "-148\n",
            "-149\n",
            "-150\n",
            "-151\n",
            "-152\n",
            "-153\n",
            "-154\n",
            "-155\n",
            "-156\n",
            "-157\n",
            "-158\n",
            "-159\n",
            "-160\n",
            "-161\n",
            "-162\n",
            "-163\n",
            "-164\n",
            "-165\n",
            "-166\n",
            "-167\n",
            "-168\n",
            "-169\n",
            "-170\n",
            "-171\n",
            "-172\n",
            "-173\n",
            "-174\n",
            "-175\n",
            "-176\n",
            "-177\n",
            "-178\n",
            "-179\n",
            "-180\n",
            "-181\n",
            "-182\n",
            "-183\n",
            "-184\n",
            "-185\n",
            "-186\n",
            "-187\n",
            "-188\n",
            "-189\n",
            "-190\n",
            "-191\n",
            "-192\n",
            "-193\n",
            "-194\n",
            "-195\n",
            "-196\n",
            "-197\n",
            "-198\n",
            "-199\n",
            "-200\n",
            "-201\n",
            "-202\n",
            "-203\n",
            "-204\n",
            "-205\n",
            "-206\n",
            "-207\n",
            "-208\n",
            "-209\n",
            "-210\n",
            "-211\n",
            "-212\n",
            "-213\n",
            "-214\n",
            "-215\n",
            "-216\n",
            "-217\n",
            "-218\n",
            "-219\n",
            "-220\n",
            "-221\n",
            "-222\n",
            "-223\n",
            "-224\n",
            "-225\n",
            "-226\n",
            "-227\n",
            "-228\n",
            "-229\n",
            "-230\n",
            "-231\n",
            "-232\n",
            "-233\n",
            "-234\n",
            "-235\n",
            "-236\n",
            "-237\n",
            "-238\n",
            "-239\n",
            "-240\n",
            "-241\n",
            "-242\n",
            "-243\n",
            "-244\n",
            "-245\n",
            "-246\n",
            "-247\n",
            "-248\n",
            "-249\n",
            "-250\n",
            "-251\n",
            "-252\n",
            "-253\n",
            "-254\n",
            "-255\n",
            "-256\n",
            "-257\n",
            "-258\n",
            "-259\n",
            "-260\n",
            "-261\n",
            "-262\n",
            "-263\n",
            "-264\n",
            "-265\n",
            "-266\n",
            "-267\n",
            "-268\n",
            "-269\n",
            "-270\n",
            "-271\n",
            "-272\n",
            "-273\n",
            "-274\n",
            "-275\n",
            "-276\n",
            "-277\n",
            "-278\n",
            "-279\n",
            "-280\n",
            "-281\n",
            "-282\n",
            "-283\n",
            "-284\n",
            "-285\n",
            "-286\n",
            "-287\n",
            "-288\n",
            "-289\n",
            "-290\n",
            "-291\n",
            "-292\n",
            "-293\n",
            "-294\n",
            "-295\n",
            "-296\n",
            "-297\n",
            "-298\n",
            "-299\n",
            "-300\n",
            "-301\n",
            "-302\n",
            "-303\n",
            "-304\n",
            "-305\n",
            "-306\n",
            "-307\n",
            "-308\n",
            "-309\n",
            "-310\n",
            "-311\n",
            "-312\n",
            "-313\n",
            "-314\n",
            "-315\n",
            "-316\n",
            "-317\n",
            "-318\n",
            "-319\n",
            "-320\n",
            "-321\n",
            "-322\n",
            "-323\n",
            "-324\n",
            "-325\n",
            "-326\n",
            "-327\n",
            "-328\n",
            "-329\n",
            "-330\n",
            "-331\n",
            "-332\n",
            "-333\n",
            "-334\n",
            "-335\n",
            "-336\n",
            "-337\n",
            "-338\n",
            "-339\n",
            "-340\n",
            "-341\n",
            "-342\n",
            "-343\n",
            "-344\n",
            "-345\n",
            "-346\n",
            "-347\n",
            "-348\n",
            "-349\n",
            "-350\n",
            "-351\n",
            "-352\n",
            "-353\n",
            "-354\n",
            "-355\n",
            "-356\n",
            "-357\n",
            "-358\n",
            "-359\n",
            "-360\n",
            "-361\n",
            "-362\n",
            "-363\n",
            "-364\n",
            "-365\n",
            "-366\n",
            "-367\n",
            "-368\n",
            "-369\n",
            "-370\n",
            "-371\n",
            "-372\n",
            "-373\n",
            "-374\n",
            "-375\n",
            "-376\n",
            "-377\n",
            "-378\n",
            "-379\n",
            "-380\n",
            "-381\n",
            "-382\n",
            "-383\n",
            "-384\n",
            "-385\n",
            "-386\n",
            "-387\n",
            "-388\n",
            "-389\n",
            "-390\n",
            "-391\n",
            "-392\n",
            "-393\n",
            "-394\n",
            "-395\n",
            "-396\n",
            "-397\n",
            "-398\n",
            "-399\n",
            "-400\n",
            "-401\n",
            "-402\n",
            "-403\n",
            "-404\n",
            "-405\n",
            "-406\n",
            "-407\n",
            "-408\n",
            "-409\n",
            "-410\n",
            "-411\n",
            "-412\n",
            "-413\n",
            "-414\n",
            "-415\n",
            "-416\n",
            "-417\n",
            "-418\n",
            "-419\n",
            "-420\n",
            "-421\n",
            "-422\n",
            "-423\n",
            "-424\n",
            "-425\n",
            "-426\n",
            "-427\n",
            "-428\n",
            "-429\n",
            "-430\n",
            "-431\n",
            "-432\n",
            "-433\n",
            "-434\n",
            "-435\n",
            "-436\n",
            "-437\n",
            "-438\n",
            "-439\n",
            "-440\n",
            "-441\n",
            "-442\n",
            "-443\n",
            "-444\n",
            "-445\n",
            "-446\n",
            "-447\n",
            "-448\n",
            "-449\n",
            "-450\n",
            "-451\n",
            "-452\n",
            "-453\n",
            "-454\n",
            "-455\n",
            "-456\n",
            "-457\n",
            "-458\n",
            "-459\n",
            "-460\n",
            "-461\n",
            "-462\n",
            "-463\n",
            "-464\n",
            "-465\n",
            "-466\n",
            "-467\n",
            "-468\n",
            "-469\n",
            "-470\n",
            "-471\n",
            "-472\n",
            "-473\n",
            "-474\n",
            "-475\n",
            "-476\n",
            "-477\n",
            "-478\n",
            "-479\n",
            "-480\n",
            "-481\n",
            "-482\n",
            "-483\n",
            "-484\n",
            "-485\n",
            "-486\n",
            "-487\n",
            "-488\n",
            "-489\n",
            "-490\n",
            "-491\n",
            "-492\n",
            "-493\n",
            "-494\n",
            "-495\n",
            "-496\n",
            "-497\n",
            "-498\n",
            "-499\n",
            "-500\n",
            "-501\n",
            "-502\n",
            "-503\n",
            "-504\n",
            "-505\n",
            "-506\n",
            "-507\n",
            "-508\n",
            "-509\n",
            "-510\n",
            "-511\n",
            "-512\n",
            "-513\n",
            "-514\n",
            "-515\n",
            "-516\n",
            "-517\n",
            "-518\n",
            "-519\n",
            "-520\n",
            "-521\n",
            "-522\n",
            "-523\n",
            "-524\n",
            "-525\n",
            "-526\n",
            "-527\n",
            "-528\n",
            "-529\n",
            "-530\n",
            "-531\n",
            "-532\n",
            "-533\n",
            "-534\n",
            "-535\n",
            "-536\n",
            "-537\n",
            "-538\n",
            "-539\n",
            "-540\n",
            "-541\n",
            "-542\n",
            "-543\n",
            "-544\n",
            "-545\n",
            "-546\n",
            "-547\n",
            "-548\n",
            "-549\n",
            "-550\n",
            "-551\n",
            "-552\n",
            "-553\n",
            "-554\n",
            "-555\n",
            "-556\n",
            "-557\n",
            "-558\n",
            "-559\n",
            "-560\n",
            "-561\n",
            "-562\n",
            "-563\n",
            "-564\n",
            "-565\n",
            "-566\n",
            "-567\n",
            "-568\n",
            "-569\n",
            "-570\n",
            "-571\n",
            "-572\n",
            "-573\n",
            "-574\n",
            "-575\n",
            "-576\n",
            "-577\n",
            "-578\n",
            "-579\n",
            "-580\n",
            "-581\n",
            "-582\n",
            "-583\n",
            "-584\n",
            "-585\n",
            "-586\n",
            "-587\n",
            "-588\n",
            "-589\n",
            "-590\n",
            "-591\n",
            "-592\n",
            "-593\n",
            "-594\n",
            "-595\n",
            "-596\n",
            "-597\n",
            "-598\n",
            "-599\n",
            "-600\n",
            "-601\n",
            "-602\n",
            "-603\n",
            "-604\n",
            "-605\n",
            "-606\n",
            "-607\n",
            "-608\n",
            "-609\n",
            "-610\n",
            "-611\n",
            "-612\n",
            "-613\n",
            "-614\n",
            "-615\n",
            "-616\n",
            "-617\n",
            "-618\n",
            "-619\n",
            "-620\n",
            "-621\n",
            "-622\n",
            "-623\n",
            "-624\n",
            "-625\n",
            "-626\n",
            "-627\n",
            "-628\n",
            "-629\n",
            "-630\n",
            "-631\n",
            "-632\n",
            "-633\n",
            "-634\n",
            "-635\n",
            "-636\n",
            "-637\n",
            "-638\n",
            "-639\n",
            "-640\n",
            "-641\n",
            "-642\n",
            "-643\n",
            "-644\n",
            "-645\n",
            "-646\n",
            "-647\n",
            "-648\n",
            "-649\n",
            "-650\n",
            "-651\n",
            "-652\n",
            "-653\n",
            "-654\n",
            "-655\n",
            "-656\n",
            "-657\n",
            "-658\n",
            "-659\n",
            "-660\n",
            "-661\n",
            "-662\n",
            "-663\n",
            "-664\n",
            "-665\n",
            "-666\n",
            "-667\n",
            "-668\n",
            "-669\n",
            "-670\n",
            "-671\n",
            "-672\n",
            "-673\n",
            "-674\n",
            "-675\n",
            "-676\n",
            "-677\n",
            "-678\n",
            "-679\n",
            "-680\n",
            "-681\n",
            "-682\n",
            "-683\n",
            "-684\n",
            "-685\n",
            "-686\n",
            "-687\n",
            "-688\n",
            "-689\n",
            "-690\n",
            "-691\n",
            "-692\n",
            "-693\n",
            "-694\n",
            "-695\n",
            "-696\n",
            "-697\n",
            "-698\n",
            "-699\n",
            "-700\n",
            "-701\n",
            "-702\n",
            "-703\n",
            "-704\n",
            "-705\n",
            "-706\n",
            "-707\n",
            "-708\n",
            "-709\n",
            "-710\n",
            "-711\n",
            "-712\n",
            "-713\n",
            "-714\n",
            "-715\n",
            "-716\n",
            "-717\n",
            "-718\n",
            "-719\n",
            "-720\n",
            "-721\n",
            "-722\n",
            "-723\n",
            "-724\n",
            "-725\n",
            "-726\n",
            "-727\n",
            "-728\n",
            "-729\n",
            "-730\n",
            "-731\n",
            "-732\n",
            "-733\n",
            "-734\n",
            "-735\n",
            "-736\n",
            "-737\n",
            "-738\n",
            "-739\n",
            "-740\n",
            "-741\n",
            "-742\n",
            "-743\n",
            "-744\n",
            "-745\n",
            "-746\n",
            "-747\n",
            "-748\n",
            "-749\n",
            "-750\n",
            "-751\n",
            "-752\n",
            "-753\n",
            "-754\n",
            "-755\n",
            "-756\n",
            "-757\n",
            "-758\n",
            "-759\n",
            "-760\n",
            "-761\n",
            "-762\n",
            "-763\n",
            "-764\n",
            "-765\n",
            "-766\n",
            "-767\n",
            "-768\n",
            "-769\n",
            "-770\n",
            "-771\n",
            "-772\n",
            "-773\n",
            "-774\n",
            "-775\n",
            "-776\n",
            "-777\n",
            "-778\n",
            "-779\n",
            "-780\n",
            "-781\n",
            "-782\n",
            "-783\n",
            "-784\n",
            "-785\n",
            "-786\n",
            "-787\n",
            "-788\n",
            "-789\n",
            "-790\n",
            "-791\n",
            "-792\n",
            "-793\n",
            "-794\n",
            "-795\n",
            "-796\n",
            "-797\n",
            "-798\n",
            "-799\n",
            "-800\n",
            "-801\n",
            "-802\n",
            "-803\n",
            "-804\n",
            "-805\n",
            "-806\n",
            "-807\n",
            "-808\n",
            "-809\n",
            "-810\n",
            "-811\n",
            "-812\n",
            "-813\n",
            "-814\n",
            "-815\n",
            "-816\n",
            "-817\n",
            "-818\n",
            "-819\n",
            "-820\n",
            "-821\n",
            "-822\n",
            "-823\n",
            "-824\n",
            "-825\n",
            "-826\n",
            "-827\n",
            "-828\n",
            "-829\n",
            "-830\n",
            "-831\n",
            "-832\n",
            "-833\n",
            "-834\n",
            "-835\n",
            "-836\n",
            "-837\n",
            "-838\n",
            "-839\n",
            "-840\n",
            "-841\n",
            "-842\n",
            "-843\n",
            "-844\n",
            "-845\n",
            "-846\n",
            "-847\n",
            "-848\n",
            "-849\n",
            "-850\n",
            "-851\n",
            "-852\n",
            "-853\n",
            "-854\n",
            "-855\n",
            "-856\n",
            "-857\n",
            "-858\n",
            "-859\n",
            "-860\n",
            "-861\n",
            "-862\n",
            "-863\n",
            "-864\n",
            "-865\n",
            "-866\n",
            "-867\n",
            "-868\n",
            "-869\n",
            "-870\n",
            "-871\n",
            "-872\n",
            "-873\n",
            "-874\n",
            "-875\n",
            "-876\n",
            "-877\n",
            "-878\n",
            "-879\n",
            "-880\n",
            "-881\n",
            "-882\n",
            "-883\n",
            "-884\n",
            "-885\n",
            "-886\n",
            "-887\n",
            "-888\n",
            "-889\n",
            "-890\n",
            "-891\n",
            "-892\n",
            "-893\n",
            "-894\n",
            "-895\n",
            "-896\n",
            "-897\n",
            "-898\n",
            "-899\n",
            "-900\n",
            "-901\n",
            "-902\n",
            "-903\n",
            "-904\n",
            "-905\n",
            "-906\n",
            "-907\n",
            "-908\n",
            "-909\n",
            "-910\n",
            "-911\n",
            "-912\n",
            "-913\n",
            "-914\n",
            "-915\n",
            "-916\n",
            "-917\n",
            "-918\n",
            "-919\n",
            "-920\n",
            "-921\n",
            "-922\n",
            "-923\n",
            "-924\n",
            "-925\n",
            "-926\n",
            "-927\n",
            "-928\n",
            "-929\n",
            "-930\n",
            "-931\n",
            "-932\n",
            "-933\n",
            "-934\n",
            "-935\n",
            "-936\n",
            "-937\n",
            "-938\n",
            "-939\n",
            "-940\n",
            "-941\n",
            "-942\n",
            "-943\n",
            "-944\n",
            "-945\n",
            "-946\n",
            "-947\n",
            "-948\n",
            "-949\n",
            "-950\n",
            "-951\n",
            "-952\n",
            "-953\n",
            "-954\n",
            "-955\n",
            "-956\n",
            "-957\n",
            "-958\n",
            "-959\n",
            "-960\n"
          ]
        },
        {
          "output_type": "error",
          "ename": "RecursionError",
          "evalue": "ignored",
          "traceback": [
            "\u001b[0;31m---------------------------------------------------------------------------\u001b[0m",
            "\u001b[0;31mRecursionError\u001b[0m                            Traceback (most recent call last)",
            "\u001b[0;32m<ipython-input-3-4c78ed401525>\u001b[0m in \u001b[0;36m<module>\u001b[0;34m\u001b[0m\n\u001b[0;32m----> 1\u001b[0;31m \u001b[0mcountdown\u001b[0m\u001b[0;34m(\u001b[0m\u001b[0;34m-\u001b[0m\u001b[0;36m4\u001b[0m\u001b[0;34m)\u001b[0m\u001b[0;34m\u001b[0m\u001b[0;34m\u001b[0m\u001b[0m\n\u001b[0m",
            "\u001b[0;32m<ipython-input-1-85140f6e8a23>\u001b[0m in \u001b[0;36mcountdown\u001b[0;34m(n)\u001b[0m\n\u001b[1;32m      4\u001b[0m     \u001b[0;32melse\u001b[0m\u001b[0;34m:\u001b[0m\u001b[0;34m\u001b[0m\u001b[0;34m\u001b[0m\u001b[0m\n\u001b[1;32m      5\u001b[0m         \u001b[0mprint\u001b[0m\u001b[0;34m(\u001b[0m\u001b[0mn\u001b[0m\u001b[0;34m)\u001b[0m\u001b[0;34m\u001b[0m\u001b[0;34m\u001b[0m\u001b[0m\n\u001b[0;32m----> 6\u001b[0;31m         \u001b[0mcountdown\u001b[0m\u001b[0;34m(\u001b[0m\u001b[0mn\u001b[0m\u001b[0;34m-\u001b[0m\u001b[0;36m1\u001b[0m\u001b[0;34m)\u001b[0m\u001b[0;34m\u001b[0m\u001b[0;34m\u001b[0m\u001b[0m\n\u001b[0m",
            "... last 1 frames repeated, from the frame below ...\n",
            "\u001b[0;32m<ipython-input-1-85140f6e8a23>\u001b[0m in \u001b[0;36mcountdown\u001b[0;34m(n)\u001b[0m\n\u001b[1;32m      4\u001b[0m     \u001b[0;32melse\u001b[0m\u001b[0;34m:\u001b[0m\u001b[0;34m\u001b[0m\u001b[0;34m\u001b[0m\u001b[0m\n\u001b[1;32m      5\u001b[0m         \u001b[0mprint\u001b[0m\u001b[0;34m(\u001b[0m\u001b[0mn\u001b[0m\u001b[0;34m)\u001b[0m\u001b[0;34m\u001b[0m\u001b[0;34m\u001b[0m\u001b[0m\n\u001b[0;32m----> 6\u001b[0;31m         \u001b[0mcountdown\u001b[0m\u001b[0;34m(\u001b[0m\u001b[0mn\u001b[0m\u001b[0;34m-\u001b[0m\u001b[0;36m1\u001b[0m\u001b[0;34m)\u001b[0m\u001b[0;34m\u001b[0m\u001b[0;34m\u001b[0m\u001b[0m\n\u001b[0m",
            "\u001b[0;31mRecursionError\u001b[0m: maximum recursion depth exceeded while calling a Python object"
          ]
        }
      ],
      "source": [
        "countdown(-4)"
      ]
    },
    {
      "cell_type": "markdown",
      "id": "65453461",
      "metadata": {
        "id": "65453461"
      },
      "source": [
        "## Example 2\n",
        "\n",
        "Here's an example of recursion with a function that returns a value, from [this section of Think Python](https://greenteapress.com/thinkpython2/html/thinkpython2007.html#sec74)."
      ]
    },
    {
      "cell_type": "code",
      "execution_count": null,
      "id": "05f2cbae",
      "metadata": {
        "tags": [],
        "id": "05f2cbae"
      },
      "outputs": [],
      "source": [
        "def factorial(n):\n",
        "    if n == 0:\n",
        "        print(n, 1)\n",
        "        return 1\n",
        "    else:\n",
        "        recurse = factorial(n-1)\n",
        "        result = n * recurse\n",
        "        print(n, recurse, result)\n",
        "        return result"
      ]
    },
    {
      "cell_type": "code",
      "execution_count": null,
      "id": "4b28a55a",
      "metadata": {
        "tags": [],
        "id": "4b28a55a",
        "outputId": "c7af4fa9-d9b6-4b03-8adf-da52f1052d58",
        "colab": {
          "base_uri": "https://localhost:8080/"
        }
      },
      "outputs": [
        {
          "output_type": "stream",
          "name": "stdout",
          "text": [
            "0 1\n",
            "1 1 1\n",
            "2 1 2\n",
            "3 2 6\n"
          ]
        },
        {
          "output_type": "execute_result",
          "data": {
            "text/plain": [
              "6"
            ]
          },
          "metadata": {},
          "execution_count": 5
        }
      ],
      "source": [
        "factorial(3)"
      ]
    },
    {
      "cell_type": "markdown",
      "id": "88e729ef",
      "metadata": {
        "id": "88e729ef"
      },
      "source": [
        "Here's the stack frame."
      ]
    },
    {
      "cell_type": "markdown",
      "id": "05dab401",
      "metadata": {
        "id": "05dab401"
      },
      "source": [
        "<img src=\"https://greenteapress.com/thinkpython2/html/thinkpython2007.png\">"
      ]
    },
    {
      "cell_type": "markdown",
      "id": "5501bd21",
      "metadata": {
        "id": "5501bd21"
      },
      "source": [
        "**Exercise:** Suppose you want to raise a number, `x`, to an integer power, `k`. An efficient way to do that is:\n",
        "\n",
        "* If `k` is even, raise `x` to `k/2` and square it.\n",
        "\n",
        "* If `k` is odd, raise `x` to `(k-1)/2`, square it, and multiply by `x` one more time.\n",
        "\n",
        "Write a recursive function that implements this algorithm."
      ]
    },
    {
      "cell_type": "code",
      "execution_count": null,
      "id": "c4efae39",
      "metadata": {
        "id": "c4efae39"
      },
      "outputs": [],
      "source": [
        "def power(x: int, k: int) -> int:\n",
        "    if k == 0:\n",
        "        return 1\n",
        "    return x * power(x, k - 1)"
      ]
    },
    {
      "cell_type": "code",
      "execution_count": null,
      "id": "305c176f",
      "metadata": {
        "id": "305c176f",
        "outputId": "07df590d-de06-4b87-955b-322a804987ff",
        "colab": {
          "base_uri": "https://localhost:8080/"
        }
      },
      "outputs": [
        {
          "output_type": "execute_result",
          "data": {
            "text/plain": [
              "8"
            ]
          },
          "metadata": {},
          "execution_count": 9
        }
      ],
      "source": [
        "power(2,3)"
      ]
    },
    {
      "cell_type": "code",
      "execution_count": null,
      "id": "1d537011",
      "metadata": {
        "id": "1d537011",
        "outputId": "ef4d8180-b7a0-42d1-fe28-c14aafd5984b",
        "colab": {
          "base_uri": "https://localhost:8080/"
        }
      },
      "outputs": [
        {
          "output_type": "execute_result",
          "data": {
            "text/plain": [
              "1024"
            ]
          },
          "metadata": {},
          "execution_count": 11
        }
      ],
      "source": [
        "power(4,5)"
      ]
    },
    {
      "cell_type": "markdown",
      "id": "52f8ff4a",
      "metadata": {
        "id": "52f8ff4a"
      },
      "source": [
        "What is the order of growth of this algorithm?\n",
        "To keep it simple, suppose `k` is a power of two.\n",
        "How many times do we have to divide `k` by two before we get to 1?\n",
        "\n",
        "Thinking about it in reverse, starting with 1, how many times do we have to double 1 before we get to `k`? In math notation, the question is\n",
        "\n",
        "$$2^y = k$$\n",
        "\n",
        "where `y` is the unknown number of steps. Taking the log of both sides, base 2:\n",
        "\n",
        "$$y = log_2 k$$\n",
        "\n",
        "In terms of order of growth, this algorithm is in `O(log k)`. We don't have to specify the base of the logarithm, because a log in one base is a constant multiple of a log in any other base."
      ]
    },
    {
      "cell_type": "markdown",
      "id": "2b004c03",
      "metadata": {
        "id": "2b004c03"
      },
      "source": [
        "## Example 3\n",
        "\n",
        "Here's another example of recursion from [this section of Think Python](https://greenteapress.com/thinkpython2/html/thinkpython2007.html#sec76)."
      ]
    },
    {
      "cell_type": "code",
      "execution_count": null,
      "id": "6e0b79eb",
      "metadata": {
        "tags": [],
        "id": "6e0b79eb"
      },
      "outputs": [],
      "source": [
        "def fibonacci(n):\n",
        "    print(n)\n",
        "    if n == 0:\n",
        "        return 0\n",
        "    elif  n == 1:\n",
        "        return 1\n",
        "    else:\n",
        "        return fibonacci(n-1) + fibonacci(n-2)"
      ]
    },
    {
      "cell_type": "code",
      "execution_count": null,
      "id": "d049364c",
      "metadata": {
        "tags": [],
        "id": "d049364c",
        "outputId": "f99ac5b4-b303-4ff7-8f26-ae3822a79eb2",
        "colab": {
          "base_uri": "https://localhost:8080/"
        }
      },
      "outputs": [
        {
          "output_type": "stream",
          "name": "stdout",
          "text": [
            "4\n",
            "3\n",
            "2\n",
            "1\n",
            "0\n",
            "1\n",
            "2\n",
            "1\n",
            "0\n"
          ]
        },
        {
          "output_type": "execute_result",
          "data": {
            "text/plain": [
              "3"
            ]
          },
          "metadata": {},
          "execution_count": 13
        }
      ],
      "source": [
        "fibonacci(4)"
      ]
    },
    {
      "cell_type": "markdown",
      "id": "029884a3",
      "metadata": {
        "id": "029884a3"
      },
      "source": [
        "Here's a stack graph that shows all stack frames created during this function call.\n",
        "\n",
        "Note that these frames are not all on the stack at the same time."
      ]
    },
    {
      "cell_type": "markdown",
      "id": "fbb61c50",
      "metadata": {
        "id": "fbb61c50"
      },
      "source": [
        "<img src=\"https://greenteapress.com/thinkpython2/html/thinkpython2017.png\">"
      ]
    },
    {
      "cell_type": "markdown",
      "id": "365ece74",
      "metadata": {
        "id": "365ece74"
      },
      "source": [
        "Here's the [section from Think Python](https://greenteapress.com/thinkpython2/html/thinkpython2012.html#sec135) that shows how we can make fibonacci faster by \"memoizing\" it. That's not a typo; the word is really [memoize](https://en.wikipedia.org/wiki/Memoization)."
      ]
    },
    {
      "cell_type": "code",
      "execution_count": null,
      "id": "200c66d3",
      "metadata": {
        "tags": [],
        "id": "200c66d3"
      },
      "outputs": [],
      "source": [
        "known = {0:0, 1:1}\n",
        "\n",
        "def fibonacci_memo(n):\n",
        "    if n in known:\n",
        "        return known[n]\n",
        "\n",
        "    print(n)\n",
        "    res = fibonacci_memo(n-1) + fibonacci_memo(n-2)\n",
        "    known[n] = res\n",
        "    return res"
      ]
    },
    {
      "cell_type": "code",
      "execution_count": null,
      "id": "da2c92b5",
      "metadata": {
        "tags": [],
        "id": "da2c92b5",
        "outputId": "23f1c99d-9b55-46ad-ba5c-b713f8f15135",
        "colab": {
          "base_uri": "https://localhost:8080/"
        }
      },
      "outputs": [
        {
          "output_type": "stream",
          "name": "stdout",
          "text": [
            "4\n",
            "3\n",
            "2\n"
          ]
        },
        {
          "output_type": "execute_result",
          "data": {
            "text/plain": [
              "3"
            ]
          },
          "metadata": {},
          "execution_count": 15
        }
      ],
      "source": [
        "fibonacci_memo(4)"
      ]
    },
    {
      "cell_type": "markdown",
      "id": "af40054a",
      "metadata": {
        "id": "af40054a"
      },
      "source": [
        "**Exercise:** The [Ackermann function](http://en.wikipedia.org/wiki/Ackermann_function), $A(m, n)$, is defined:\n",
        "\n",
        "$$\n",
        "A(m, n) = \\begin{cases} \n",
        "              n+1 & \\mbox{if } m = 0 \\\\ \n",
        "        A(m-1, 1) & \\mbox{if } m > 0 \\mbox{ and } n = 0 \\\\ \n",
        "A(m-1, A(m, n-1)) & \\mbox{if } m > 0 \\mbox{ and } n > 0.\n",
        "\\end{cases} \n",
        "$$\n",
        "\n",
        "Write a function named `ackermann` that evaluates the Ackermann function.\n",
        "Use your function to evaluate `ackermann(3, 4)`, which should be 125.\n",
        "\n",
        "What happens for larger values of `m` and `n`?\n",
        "\n",
        "If you memoize it, can you evaluate the function with bigger values? "
      ]
    },
    {
      "cell_type": "code",
      "execution_count": null,
      "id": "cb5278e3",
      "metadata": {
        "id": "cb5278e3"
      },
      "outputs": [],
      "source": [
        "from functools import lru_cache\n",
        "\n",
        "@lru_cache(maxsize=999999999999999999)\n",
        "def ackermann(m: int, n: int) -> int:\n",
        "    if m == 0:\n",
        "        return n + 1\n",
        "    elif m > 0 and n == 0:\n",
        "        return ackermann(m - 1, 1)\n",
        "    elif m > 0 and n > 0:\n",
        "        return ackermann(m - 1, ackermann(m, n - 1))"
      ]
    },
    {
      "cell_type": "code",
      "execution_count": null,
      "id": "f9b3e242",
      "metadata": {
        "id": "f9b3e242",
        "outputId": "b3219249-a53d-45e5-8793-2f68bdcece9f",
        "colab": {
          "base_uri": "https://localhost:8080/"
        }
      },
      "outputs": [
        {
          "output_type": "execute_result",
          "data": {
            "text/plain": [
              "1003"
            ]
          },
          "metadata": {},
          "execution_count": 56
        }
      ],
      "source": [
        "ackermann(2,500)"
      ]
    },
    {
      "cell_type": "markdown",
      "id": "fd5c67a1",
      "metadata": {
        "id": "fd5c67a1"
      },
      "source": [
        "## String functions\n",
        "\n",
        "Many things we do iteratively can be expressed recursively as well."
      ]
    },
    {
      "cell_type": "code",
      "execution_count": null,
      "id": "ceea0cb3",
      "metadata": {
        "tags": [],
        "id": "ceea0cb3"
      },
      "outputs": [],
      "source": [
        "def reverse(s):\n",
        "    if len(s) < 2:\n",
        "        return s\n",
        "    \n",
        "    first, rest = s[0], s[1:]\n",
        "    return reverse(rest) + first"
      ]
    },
    {
      "cell_type": "code",
      "execution_count": null,
      "id": "7f033242",
      "metadata": {
        "tags": [],
        "id": "7f033242",
        "outputId": "ab449901-c901-419d-8f2d-a4efc49a6991",
        "colab": {
          "base_uri": "https://localhost:8080/",
          "height": 35
        }
      },
      "outputs": [
        {
          "output_type": "execute_result",
          "data": {
            "text/plain": [
              "'esrever'"
            ],
            "application/vnd.google.colaboratory.intrinsic+json": {
              "type": "string"
            }
          },
          "metadata": {},
          "execution_count": 61
        }
      ],
      "source": [
        "reverse('reverse')"
      ]
    },
    {
      "cell_type": "markdown",
      "id": "2b69c809",
      "metadata": {
        "id": "2b69c809"
      },
      "source": [
        "For sequences and mapping types, there's usually no advantage of the recursive version. But for trees and graphs, a recursive implementation can be clearer, more concise, and more demonstrably correct."
      ]
    },
    {
      "cell_type": "markdown",
      "id": "39577761",
      "metadata": {
        "id": "39577761"
      },
      "source": [
        "**Exercise:** Here's an exercise from, of all places, [StackOverflow](https://stackoverflow.com/questions/28977737/writing-a-recursive-string-function):\n",
        "\n",
        "> Write a recursive, string-valued function, `replace`, that accepts a string and returns a new string consisting of the original string with each blank replaced with an asterisk (*) \n",
        ">\n",
        "> Replacing the blanks in a string involves:\n",
        ">\n",
        "> 1. Nothing if the string is empty\n",
        ">\n",
        "> 2. Otherwise: If the first character is not a blank, simply concatenate it with the result of replacing the rest of the string\n",
        ">\n",
        "> 3. If the first character IS a blank, concatenate an * with the result of replacing the rest of the string\n"
      ]
    },
    {
      "cell_type": "code",
      "execution_count": null,
      "id": "cdfe44c6",
      "metadata": {
        "id": "cdfe44c6"
      },
      "outputs": [],
      "source": [
        "def replace(string: str):\n",
        "    if len(string) == 0:\n",
        "        return string\n",
        "    else:\n",
        "        first,rest = string[0],string[1:]\n",
        "        if first == ' ':\n",
        "            return '*' + replace(rest)\n",
        "        else:\n",
        "            return first + replace(rest)"
      ]
    },
    {
      "cell_type": "code",
      "execution_count": null,
      "id": "f8e5fdbe",
      "metadata": {
        "id": "f8e5fdbe",
        "outputId": "be72175c-6a91-4eaf-8045-9636d722ab4f",
        "colab": {
          "base_uri": "https://localhost:8080/",
          "height": 35
        }
      },
      "outputs": [
        {
          "output_type": "execute_result",
          "data": {
            "text/plain": [
              "'hello*world'"
            ],
            "application/vnd.google.colaboratory.intrinsic+json": {
              "type": "string"
            }
          },
          "metadata": {},
          "execution_count": 67
        }
      ],
      "source": [
        "replace(\"hello world\")"
      ]
    },
    {
      "cell_type": "markdown",
      "source": [
        "# Practise Recursion\n",
        "\n",
        "I'm practising recursion by the methodology they've suggested in this video - [Recursion (Think like a Programmer)](https://www.youtube.com/watch?v=oKndim5-G94) , which is by first trying out the iterative approach and then trying to think about it recursively.\n",
        "\n",
        "I have got a list of problems from [here](https://www.w3resource.com/python-exercises/data-structures-and-algorithms/python-recursion.php) - \n",
        "\n",
        "1. Write a Python program to calculate the sum of a list of numbers.\n",
        "\n",
        "2. Write a Python program to converting an Integer to a string in any base.\n",
        "\n",
        "3. Write a Python program of recursion list sum.\n",
        "```\n",
        "Test Data: [1, 2, [3,4], [5,6]]\n",
        "Expected Result: 21\n",
        "```\n",
        "4. Write a Python program to get the factorial of a non-negative integer.\n",
        "\n",
        "5. Write a Python program to solve the Fibonacci sequence using recursion.\n",
        "\n",
        "6. Write a Python program to get the sum of a non-negative integer.\n",
        "```\n",
        "Test Data:\n",
        "sumDigits(345) -> 12\n",
        "sumDigits(45) -> 9\n",
        "```\n",
        "7. Write a Python program to calculate the sum of the positive integers of n+(n-2)+(n-4)... (until n-x =< 0).\n",
        "```\n",
        "Test Data:\n",
        "sum_series(6) -> 12\n",
        "sum_series(10) -> 30\n",
        "```\n",
        "\n",
        "8. Write a Python program to calculate the harmonic sum of n-1.\n",
        "Note: The harmonic sum is the sum of reciprocals of the positive integers.\n",
        "\n",
        "9. Write a Python program to calculate the geometric sum of n-1.\n",
        "Note: In mathematics, a geometric series is a series with a constant ratio between successive terms.\n",
        "\n",
        "10. Write a Python program to calculate the value of 'a' to the power 'b'.\n",
        "```\n",
        "Test Data :\n",
        "(power(3,4) -> 81\n",
        "```\n",
        "11. Write a Python program to find  the greatest common divisor (gcd) of two integers."
      ],
      "metadata": {
        "id": "fFpTBdvc_JqI"
      },
      "id": "fFpTBdvc_JqI"
    },
    {
      "cell_type": "markdown",
      "source": [
        "# Problem 1"
      ],
      "metadata": {
        "id": "ribQ8u24E0De"
      },
      "id": "ribQ8u24E0De"
    },
    {
      "cell_type": "code",
      "source": [
        "# Write a Python program to calculate the sum of a list of numbers (Iterative Solution)\n",
        "def calculateSum(num_list):\n",
        "    sum = 0\n",
        "    for num in num_list:\n",
        "        sum += num\n",
        "    \n",
        "    return sum\n",
        "\n",
        "num_list = [1,3,5,7,9,11]\n",
        "print(calculateSum(num_list))  "
      ],
      "metadata": {
        "colab": {
          "base_uri": "https://localhost:8080/"
        },
        "id": "SZsIupGbEkCz",
        "outputId": "b119625c-da27-4781-86fe-f27e4197bda4"
      },
      "id": "SZsIupGbEkCz",
      "execution_count": 6,
      "outputs": [
        {
          "output_type": "stream",
          "name": "stdout",
          "text": [
            "36\n"
          ]
        }
      ]
    },
    {
      "cell_type": "code",
      "source": [
        "# Write a Python program to calculate the sum of a list of numbers. (Recursive Solution)\n",
        "def calculateSumRecursively(num_list, sum):\n",
        "    if len(num_list) == 0:\n",
        "        return sum\n",
        "    sum += num_list[0]\n",
        "    return calculateSumRecursively(num_list[1:], sum)\n",
        "\n",
        "num_list = [1,3,5,7,9,11]  \n",
        "print(calculateSumRecursively(num_list,0))"
      ],
      "metadata": {
        "colab": {
          "base_uri": "https://localhost:8080/"
        },
        "id": "WB2yEwUuB623",
        "outputId": "53647a41-4af5-4fbe-8905-461c216401c2"
      },
      "id": "WB2yEwUuB623",
      "execution_count": 5,
      "outputs": [
        {
          "output_type": "stream",
          "name": "stdout",
          "text": [
            "36\n"
          ]
        }
      ]
    },
    {
      "cell_type": "markdown",
      "source": [
        "# Problem 2"
      ],
      "metadata": {
        "id": "ldkYTRWEGpyB"
      },
      "id": "ldkYTRWEGpyB"
    },
    {
      "cell_type": "code",
      "source": [
        "# Write a Python program to converting an Integer to a string in any base.\n"
      ],
      "metadata": {
        "id": "GPVqtAyLD46k"
      },
      "id": "GPVqtAyLD46k",
      "execution_count": null,
      "outputs": []
    },
    {
      "cell_type": "markdown",
      "source": [
        "# Problem 3"
      ],
      "metadata": {
        "id": "DbmpgOn7GswQ"
      },
      "id": "DbmpgOn7GswQ"
    },
    {
      "cell_type": "code",
      "source": [
        "# Write a Python program of recursion list sum.\n",
        "\n",
        "def calculateSumNestedListsRecursively(num_list, sum):\n",
        "    if len(num_list) == 0:\n",
        "        return sum\n",
        "    if type(num_list[0]) is int:\n",
        "        sum += num_list[0]\n",
        "    else:\n",
        "        sum = calculateSumNestedListsRecursively(num_list[0], sum)\n",
        "    return calculateSumNestedListsRecursively(num_list[1:], sum)\n",
        "    \n",
        "num_list = [1, 2, [3,4], [5,6]]\n",
        "print(calculateSumNestedListsRecursively(num_list, 0))"
      ],
      "metadata": {
        "id": "Ry4XfA5oGwOq",
        "outputId": "1830282f-e07d-4cc6-d442-447831bdaeb1",
        "colab": {
          "base_uri": "https://localhost:8080/"
        }
      },
      "id": "Ry4XfA5oGwOq",
      "execution_count": 8,
      "outputs": [
        {
          "output_type": "stream",
          "name": "stdout",
          "text": [
            "21\n"
          ]
        }
      ]
    },
    {
      "cell_type": "code",
      "source": [],
      "metadata": {
        "id": "XiMU9YE0GwDB"
      },
      "id": "XiMU9YE0GwDB",
      "execution_count": null,
      "outputs": []
    },
    {
      "cell_type": "markdown",
      "id": "97ece24e",
      "metadata": {
        "id": "97ece24e"
      },
      "source": [
        "## Exercises"
      ]
    },
    {
      "cell_type": "markdown",
      "id": "8a0380a7",
      "metadata": {
        "id": "8a0380a7"
      },
      "source": [
        "This one is from [Structure and Interpretation of Computer Programs](https://mitpress.mit.edu/sites/default/files/sicp/index.html):\n",
        "\n",
        "> The greatest common divisor (GCD) of two integers `a` and `b` is defined to be the largest integer that divides both `a` and `b` with no remainder. For example, the GCD of 16 and 28 is 4. [...] One way to find the GCD of two integers is to factor them and search for common factors, but there is a [famous algorithm](https://en.wikipedia.org/wiki/Euclidean_algorithm) that is much more efficient.\n",
        ">\n",
        "> The idea of the algorithm is based on the observation that, if `r` is the remainder when `a` is divided by `b`, then the common divisors of `a` and `b` are precisely the same as the common divisors of `b` and `r`. \n",
        ">\n",
        "> Thus, we can use the equation\n",
        ">\n",
        "> $$GCD(a, b) = GCD(b, r)$$\n",
        ">\n",
        ">to successively reduce the problem of computing a GCD to the problem of computing the GCD of smaller and smaller pairs of integers.\n",
        ">\n",
        "> It is possible to show that starting with any two positive integers and performing repeated reductions will always eventually produce a pair where the second number is 0. Then the GCD is the other number in the pair.\n",
        "\n",
        "Write a function called `gcd` that takes two integers and uses this algorithm to compute their greatest common divisor."
      ]
    },
    {
      "cell_type": "code",
      "execution_count": null,
      "id": "51bce3ad",
      "metadata": {
        "id": "51bce3ad"
      },
      "outputs": [],
      "source": []
    },
    {
      "cell_type": "code",
      "execution_count": null,
      "id": "e00ef245",
      "metadata": {
        "id": "e00ef245"
      },
      "outputs": [],
      "source": []
    },
    {
      "cell_type": "markdown",
      "id": "9f61ddfc",
      "metadata": {
        "id": "9f61ddfc"
      },
      "source": [
        "This one is from [Structure and Interpretation of Computer Programs](https://mitpress.mit.edu/sites/default/files/sicp/index.html):\n",
        "\n",
        "> How many different ways can we make change of \\$1.00, given half-dollars, quarters, dimes, nickels, and pennies? [...]\n",
        ">\n",
        ">[...] Suppose we think of the types of coins available as arranged in some order. [..] observe that the ways to make change can be divided into two groups: those that do not use any of the first kind of coin, and those that do. Therefore, the total number of ways to make change for some amount is equal to the number of ways to make change for the amount without using any of the first kind of coin, plus the number of ways to make change assuming that we do use the first kind of coin.\n",
        "\n",
        "Write a function that takes as parameters an amount of money in cents and a sequence of coin denominations. It should return the number of combinations of coins that add up to the given amount.\n",
        "\n",
        "The result for one dollar (`100` cents) with coins of denominations `(50, 25, 10, 5, 1)` should be `292`.\n",
        "\n",
        "You might have to give some thought to the base cases."
      ]
    },
    {
      "cell_type": "code",
      "execution_count": null,
      "id": "62c10987",
      "metadata": {
        "id": "62c10987"
      },
      "outputs": [],
      "source": []
    },
    {
      "cell_type": "code",
      "execution_count": null,
      "id": "4b89658b",
      "metadata": {
        "id": "4b89658b"
      },
      "outputs": [],
      "source": []
    },
    {
      "cell_type": "markdown",
      "id": "0596803c",
      "metadata": {
        "id": "0596803c"
      },
      "source": [
        "**Exercise:** Here's one of my favorite Car Talk Puzzlers (http://www.cartalk.com/content/puzzlers):\n",
        "\n",
        ">What is the longest English word, that remains a valid English word, as you remove its letters one at a time?\n",
        ">\n",
        ">Now, letters can be removed from either end, or the middle, but you can’t rearrange any of the letters. Every time you drop a letter, you wind up with another English word. If you do that, you’re eventually going to wind up with one letter and that too is going to be an English word—one that’s found in the dictionary. I want to know what’s the longest word and how many letters does it have?\n",
        ">\n",
        ">I’m going to give you a little modest example: Sprite. Ok? You start off with sprite, you take a letter off, one from the interior of the word, take the r away, and we’re left with the word spite, then we take the e off the end, we’re left with spit, we take the s off, we’re left with pit, it, and I. \n",
        "\n",
        "Write a program to find all words that can be reduced in this way, and then find the longest one.\n",
        "\n",
        "This exercise is a little more challenging than most, so here are some suggestions:\n",
        "\n",
        "* You might want to write a function that takes a word and computes a list of all the words that can be formed by removing one letter. These are the “children” of the word.\n",
        "    \n",
        "* Recursively, a word is reducible if any of its children are reducible. As base cases, you can consider the single letter words “I”, “a” to be reducible.\n",
        "    \n",
        "* To improve the performance of your program, you might want to memoize the words that are known to be reducible."
      ]
    },
    {
      "cell_type": "code",
      "execution_count": null,
      "id": "2a6a1f2c",
      "metadata": {
        "id": "2a6a1f2c"
      },
      "outputs": [],
      "source": [
        "from os.path import basename, exists\n",
        "\n",
        "def download(url):\n",
        "    filename = basename(url)\n",
        "    if not exists(filename):\n",
        "        from urllib.request import urlretrieve\n",
        "        local, _ = urlretrieve(url, filename)\n",
        "        print('Downloaded ' + local)\n",
        "    \n",
        "download('https://github.com/AllenDowney/DSIRP/raw/main/american-english')"
      ]
    },
    {
      "cell_type": "code",
      "execution_count": null,
      "id": "b1abe9e3",
      "metadata": {
        "id": "b1abe9e3"
      },
      "outputs": [],
      "source": [
        "def read_words(filename):\n",
        "    \"\"\"Read lines from a file and split them into words.\"\"\"\n",
        "    res = set()\n",
        "    for line in open(filename):\n",
        "        for word in line.split():\n",
        "            res.add(word.strip().lower())\n",
        "    return res"
      ]
    },
    {
      "cell_type": "code",
      "execution_count": null,
      "id": "07100ed0",
      "metadata": {
        "id": "07100ed0"
      },
      "outputs": [],
      "source": [
        "word_set = read_words('american-english')\n",
        "len(word_set)"
      ]
    },
    {
      "cell_type": "code",
      "execution_count": null,
      "id": "1e8ecbff",
      "metadata": {
        "id": "1e8ecbff"
      },
      "outputs": [],
      "source": []
    },
    {
      "cell_type": "code",
      "execution_count": null,
      "id": "17ffca66",
      "metadata": {
        "id": "17ffca66"
      },
      "outputs": [],
      "source": []
    },
    {
      "cell_type": "code",
      "execution_count": null,
      "id": "142591b4",
      "metadata": {
        "tags": [],
        "id": "142591b4"
      },
      "outputs": [],
      "source": []
    },
    {
      "cell_type": "code",
      "execution_count": null,
      "id": "b0764433",
      "metadata": {
        "tags": [],
        "id": "b0764433"
      },
      "outputs": [],
      "source": []
    },
    {
      "cell_type": "code",
      "execution_count": null,
      "id": "af0a7034",
      "metadata": {
        "tags": [],
        "id": "af0a7034"
      },
      "outputs": [],
      "source": []
    },
    {
      "cell_type": "code",
      "execution_count": null,
      "id": "234ac5fa",
      "metadata": {
        "tags": [],
        "id": "234ac5fa"
      },
      "outputs": [],
      "source": []
    },
    {
      "cell_type": "code",
      "execution_count": null,
      "id": "aac76078",
      "metadata": {
        "tags": [],
        "id": "aac76078"
      },
      "outputs": [],
      "source": []
    },
    {
      "cell_type": "code",
      "execution_count": null,
      "id": "1186d411",
      "metadata": {
        "id": "1186d411"
      },
      "outputs": [],
      "source": []
    },
    {
      "cell_type": "markdown",
      "id": "28320e58",
      "metadata": {
        "id": "28320e58"
      },
      "source": [
        "*Data Structures and Information Retrieval in Python*\n",
        "\n",
        "Copyright 2021 Allen Downey\n",
        "\n",
        "License: [Creative Commons Attribution-NonCommercial-ShareAlike 4.0 International](https://creativecommons.org/licenses/by-nc-sa/4.0/)"
      ]
    }
  ],
  "metadata": {
    "celltoolbar": "Tags",
    "kernelspec": {
      "display_name": "Python 3 (ipykernel)",
      "language": "python",
      "name": "python3"
    },
    "language_info": {
      "codemirror_mode": {
        "name": "ipython",
        "version": 3
      },
      "file_extension": ".py",
      "mimetype": "text/x-python",
      "name": "python",
      "nbconvert_exporter": "python",
      "pygments_lexer": "ipython3",
      "version": "3.10.1"
    },
    "colab": {
      "provenance": [],
      "include_colab_link": true
    }
  },
  "nbformat": 4,
  "nbformat_minor": 5
}