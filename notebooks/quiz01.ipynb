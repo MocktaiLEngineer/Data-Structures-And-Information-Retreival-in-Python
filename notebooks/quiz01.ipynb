{
  "cells": [
    {
      "cell_type": "markdown",
      "metadata": {
        "id": "view-in-github",
        "colab_type": "text"
      },
      "source": [
        "<a href=\"https://colab.research.google.com/github/MocktaiLEngineer/Data-Structures-And-Information-Retreival-in-Python/blob/main/notebooks/quiz01.ipynb\" target=\"_parent\"><img src=\"https://colab.research.google.com/assets/colab-badge.svg\" alt=\"Open In Colab\"/></a>"
      ]
    },
    {
      "cell_type": "markdown",
      "metadata": {
        "id": "JT23lcIv18x3"
      },
      "source": [
        "# Quiz 1\n",
        "\n",
        "BEFORE YOU START THIS QUIZ:\n",
        "\n",
        "1. Click on \"Copy to Drive\" to make a copy of the quiz,\n",
        "\n",
        "2. Click on \"Share\",\n",
        "    \n",
        "3. Click on \"Change\" and select \"Anyone with this link can edit\"\n",
        "    \n",
        "4. Click \"Copy link\" and\n",
        "\n",
        "5. Paste the link into [this Canvas assignment](https://canvas.olin.edu/courses/313/assignments/4866). \n",
        "\n",
        "Copyright 2021 Allen Downey, [MIT License](http://opensource.org/licenses/MIT)"
      ]
    },
    {
      "cell_type": "markdown",
      "metadata": {
        "id": "Ih6F39CZ18x5"
      },
      "source": [
        "## Setup"
      ]
    },
    {
      "cell_type": "markdown",
      "metadata": {
        "id": "lMKhvm8x18x5"
      },
      "source": [
        "The following cells download a file that contains a list of words, reads the words, and stores them in a `set`."
      ]
    },
    {
      "cell_type": "code",
      "execution_count": 27,
      "metadata": {
        "id": "UEJS-XFU18x5"
      },
      "outputs": [],
      "source": [
        "from os.path import basename, exists\n",
        "\n",
        "def download(url):\n",
        "    filename = basename(url)\n",
        "    if not exists(filename):\n",
        "        from urllib.request import urlretrieve\n",
        "        local, _ = urlretrieve(url, filename)\n",
        "        print('Downloaded ' + local)\n",
        "    \n",
        "download('https://github.com/AllenDowney/DSIRP/raw/main/american-english')"
      ]
    },
    {
      "cell_type": "code",
      "execution_count": 28,
      "metadata": {
        "id": "d8f-XI9V18x6"
      },
      "outputs": [],
      "source": [
        "def read_words(filename):\n",
        "    \"\"\"Read lines from a file and split them into words.\"\"\"\n",
        "    res = set()\n",
        "    for line in open(filename):\n",
        "        for word in line.split():\n",
        "            res.add(word.strip().lower())\n",
        "    return res"
      ]
    },
    {
      "cell_type": "code",
      "execution_count": 29,
      "metadata": {
        "colab": {
          "base_uri": "https://localhost:8080/"
        },
        "id": "JAs9GUBT18x6",
        "outputId": "ae20c9ca-a1ab-42b7-edc5-a1e8662a6a3f"
      },
      "outputs": [
        {
          "output_type": "execute_result",
          "data": {
            "text/plain": [
              "100781"
            ]
          },
          "metadata": {},
          "execution_count": 29
        }
      ],
      "source": [
        "word_list = read_words('american-english')\n",
        "len(word_list)"
      ]
    },
    {
      "cell_type": "markdown",
      "metadata": {
        "id": "Xc6OWKre18x6"
      },
      "source": [
        "## Question 1\n",
        "\n",
        "The following function takes a string and returns `True` if the letters in the string appear in alphabetical order."
      ]
    },
    {
      "cell_type": "code",
      "execution_count": 30,
      "metadata": {
        "id": "df2-q3mZ18x7"
      },
      "outputs": [],
      "source": [
        "def is_alphabetical(word):\n",
        "    return list(word) == sorted(word)"
      ]
    },
    {
      "cell_type": "code",
      "execution_count": 31,
      "metadata": {
        "colab": {
          "base_uri": "https://localhost:8080/"
        },
        "id": "QTng89VX18x7",
        "outputId": "c8de2871-59b7-4e85-c974-20cbc2ceff25"
      },
      "outputs": [
        {
          "output_type": "execute_result",
          "data": {
            "text/plain": [
              "True"
            ]
          },
          "metadata": {},
          "execution_count": 31
        }
      ],
      "source": [
        "is_alphabetical('almost') # True"
      ]
    },
    {
      "cell_type": "code",
      "execution_count": 32,
      "metadata": {
        "colab": {
          "base_uri": "https://localhost:8080/"
        },
        "id": "j__HlRw918x7",
        "outputId": "f1e0e352-92d4-4858-c59c-12f107c87b1a"
      },
      "outputs": [
        {
          "output_type": "execute_result",
          "data": {
            "text/plain": [
              "False"
            ]
          },
          "metadata": {},
          "execution_count": 32
        }
      ],
      "source": [
        "is_alphabetical('alphabetical') # False"
      ]
    },
    {
      "cell_type": "markdown",
      "metadata": {
        "id": "rC4CKRFN18x7"
      },
      "source": [
        "Make a new list called `alpha_words` that contains only the words in `word_list` that are alphabetical, and display the length of the list."
      ]
    },
    {
      "cell_type": "code",
      "execution_count": 33,
      "metadata": {
        "id": "O7BCT4xF18x7"
      },
      "outputs": [],
      "source": [
        "from typing import List\n",
        "\n",
        "def alphabeticalOrderWords(word_list: List) -> List:\n",
        "    return [word for word in word_list if is_alphabetical(word)]"
      ]
    },
    {
      "cell_type": "code",
      "execution_count": 34,
      "metadata": {
        "id": "Kp7B6Yva18x7"
      },
      "outputs": [],
      "source": [
        "alpha_words = alphabeticalOrderWords(word_list)"
      ]
    },
    {
      "cell_type": "code",
      "source": [
        "alpha_words, len(alpha_words)"
      ],
      "metadata": {
        "colab": {
          "base_uri": "https://localhost:8080/"
        },
        "id": "Ilg-fOGj2zHw",
        "outputId": "8e3a4f73-3699-416f-cb9a-99183f7a70f1"
      },
      "execution_count": 35,
      "outputs": [
        {
          "output_type": "execute_result",
          "data": {
            "text/plain": [
              "(['btu',\n",
              "  'kory',\n",
              "  'allot',\n",
              "  'luz',\n",
              "  'h',\n",
              "  'chilly',\n",
              "  'coops',\n",
              "  'coors',\n",
              "  'deems',\n",
              "  'afoot',\n",
              "  'apr',\n",
              "  'beg',\n",
              "  'bent',\n",
              "  'bee',\n",
              "  'fir',\n",
              "  'filly',\n",
              "  'pry',\n",
              "  'apps',\n",
              "  'bellow',\n",
              "  'beef',\n",
              "  'been',\n",
              "  'access',\n",
              "  'most',\n",
              "  'dell',\n",
              "  'benz',\n",
              "  'art',\n",
              "  'deer',\n",
              "  'fops',\n",
              "  'gills',\n",
              "  'achoo',\n",
              "  'gimpy',\n",
              "  'al',\n",
              "  'coot',\n",
              "  'finn',\n",
              "  'brr',\n",
              "  'lo',\n",
              "  'egis',\n",
              "  'flow',\n",
              "  'abbot',\n",
              "  'chintz',\n",
              "  'deny',\n",
              "  'dot',\n",
              "  'first',\n",
              "  'loot',\n",
              "  'films',\n",
              "  'din',\n",
              "  'oort',\n",
              "  'booty',\n",
              "  'flux',\n",
              "  'p',\n",
              "  'fit',\n",
              "  'd',\n",
              "  'eggo',\n",
              "  'v',\n",
              "  'fins',\n",
              "  'beeps',\n",
              "  'blu',\n",
              "  'es',\n",
              "  'copy',\n",
              "  'abe',\n",
              "  'abbess',\n",
              "  'eel',\n",
              "  'moot',\n",
              "  'cello',\n",
              "  'mossy',\n",
              "  'bill',\n",
              "  'bbb',\n",
              "  'accept',\n",
              "  'cent',\n",
              "  'em',\n",
              "  'chino',\n",
              "  'hit',\n",
              "  'floss',\n",
              "  'gipsy',\n",
              "  'ably',\n",
              "  'ann',\n",
              "  'belt',\n",
              "  'moor',\n",
              "  'cops',\n",
              "  'hill',\n",
              "  'z',\n",
              "  'w',\n",
              "  'cellos',\n",
              "  'denny',\n",
              "  'demos',\n",
              "  'os',\n",
              "  'beer',\n",
              "  'ci',\n",
              "  'hoop',\n",
              "  'buy',\n",
              "  'bow',\n",
              "  'clops',\n",
              "  'abbott',\n",
              "  'lorry',\n",
              "  'egg',\n",
              "  'deem',\n",
              "  'fry',\n",
              "  'diss',\n",
              "  'cd',\n",
              "  'ago',\n",
              "  'fizz',\n",
              "  'aim',\n",
              "  'amos',\n",
              "  'opt',\n",
              "  'dee',\n",
              "  'lost',\n",
              "  'ivy',\n",
              "  'billow',\n",
              "  'goop',\n",
              "  'ax',\n",
              "  'o',\n",
              "  'g',\n",
              "  'firs',\n",
              "  'benny',\n",
              "  'bp',\n",
              "  'am',\n",
              "  'fist',\n",
              "  'know',\n",
              "  'accost',\n",
              "  'berry',\n",
              "  'ho',\n",
              "  'dry',\n",
              "  'dewy',\n",
              "  'dint',\n",
              "  'kw',\n",
              "  'u',\n",
              "  'gill',\n",
              "  'aces',\n",
              "  'fill',\n",
              "  'crux',\n",
              "  'ace',\n",
              "  'not',\n",
              "  'chinos',\n",
              "  'abbé',\n",
              "  'dells',\n",
              "  'bevy',\n",
              "  'mop',\n",
              "  'ah',\n",
              "  'fin',\n",
              "  'k',\n",
              "  'ditty',\n",
              "  'air',\n",
              "  'choosy',\n",
              "  'chips',\n",
              "  'chin',\n",
              "  'cr',\n",
              "  'adders',\n",
              "  'finns',\n",
              "  'annoy',\n",
              "  'biko',\n",
              "  'orr',\n",
              "  'ins',\n",
              "  'lops',\n",
              "  'apt',\n",
              "  'flop',\n",
              "  'hos',\n",
              "  'alloy',\n",
              "  'mops',\n",
              "  'moss',\n",
              "  'ac',\n",
              "  'dirty',\n",
              "  'go',\n",
              "  'adz',\n",
              "  'imps',\n",
              "  'adopt',\n",
              "  'ginny',\n",
              "  'chi',\n",
              "  'best',\n",
              "  'emmy',\n",
              "  'ass',\n",
              "  'cost',\n",
              "  'imp',\n",
              "  'kr',\n",
              "  'hz',\n",
              "  'deimos',\n",
              "  'bert',\n",
              "  'moors',\n",
              "  'hoot',\n",
              "  'chop',\n",
              "  'hoops',\n",
              "  'jo',\n",
              "  'boost',\n",
              "  'ads',\n",
              "  'rs',\n",
              "  'betty',\n",
              "  'a',\n",
              "  'jot',\n",
              "  'dotty',\n",
              "  'dis',\n",
              "  'au',\n",
              "  'dips',\n",
              "  'gist',\n",
              "  'ainu',\n",
              "  'mort',\n",
              "  'chill',\n",
              "  'abel',\n",
              "  'beep',\n",
              "  'css',\n",
              "  'cry',\n",
              "  'ails',\n",
              "  'np',\n",
              "  'dilly',\n",
              "  'flo',\n",
              "  'beers',\n",
              "  'psst',\n",
              "  'j',\n",
              "  'bees',\n",
              "  'begot',\n",
              "  'hip',\n",
              "  'dim',\n",
              "  'dent',\n",
              "  'amp',\n",
              "  'hilt',\n",
              "  'hint',\n",
              "  'beefs',\n",
              "  'eh',\n",
              "  'aden',\n",
              "  'affix',\n",
              "  'any',\n",
              "  'dino',\n",
              "  'abuzz',\n",
              "  'ems',\n",
              "  'city',\n",
              "  'bet',\n",
              "  'knox',\n",
              "  'ks',\n",
              "  'fop',\n",
              "  'loops',\n",
              "  'e',\n",
              "  'cox',\n",
              "  'dopy',\n",
              "  'deft',\n",
              "  'hilly',\n",
              "  'hop',\n",
              "  'is',\n",
              "  'joy',\n",
              "  'or',\n",
              "  'gil',\n",
              "  'lop',\n",
              "  'cot',\n",
              "  'ahoy',\n",
              "  'as',\n",
              "  'aft',\n",
              "  'bells',\n",
              "  'depp',\n",
              "  'bop',\n",
              "  'x',\n",
              "  'billowy',\n",
              "  'beefy',\n",
              "  'fuzz',\n",
              "  'begs',\n",
              "  'c',\n",
              "  'buzz',\n",
              "  'foot',\n",
              "  'boy',\n",
              "  'got',\n",
              "  'in',\n",
              "  'ginsu',\n",
              "  'ills',\n",
              "  'r',\n",
              "  'lott',\n",
              "  'ells',\n",
              "  'hims',\n",
              "  'flu',\n",
              "  'deeps',\n",
              "  'befit',\n",
              "  'cory',\n",
              "  'amy',\n",
              "  'deity',\n",
              "  'all',\n",
              "  'door',\n",
              "  'dims',\n",
              "  'ex',\n",
              "  'blot',\n",
              "  'forty',\n",
              "  'eggs',\n",
              "  'chow',\n",
              "  'eloy',\n",
              "  'allow',\n",
              "  'los',\n",
              "  'bmw',\n",
              "  'abhors',\n",
              "  'billy',\n",
              "  'hips',\n",
              "  'mow',\n",
              "  'add',\n",
              "  'boor',\n",
              "  'be',\n",
              "  'bossy',\n",
              "  'lou',\n",
              "  'gory',\n",
              "  'moos',\n",
              "  'box',\n",
              "  'cruz',\n",
              "  'emu',\n",
              "  'oops',\n",
              "  'bit',\n",
              "  'no',\n",
              "  'mo',\n",
              "  'coos',\n",
              "  'pt',\n",
              "  'ow',\n",
              "  'err',\n",
              "  'almost',\n",
              "  'defy',\n",
              "  'dory',\n",
              "  'oz',\n",
              "  'm',\n",
              "  'for',\n",
              "  'divvy',\n",
              "  'lox',\n",
              "  'nor',\n",
              "  'flops',\n",
              "  'flory',\n",
              "  'biopsy',\n",
              "  'mn',\n",
              "  'clot',\n",
              "  'my',\n",
              "  'enos',\n",
              "  'emo',\n",
              "  'hiss',\n",
              "  'do',\n",
              "  'loop',\n",
              "  'boss',\n",
              "  'tux',\n",
              "  'hot',\n",
              "  'adds',\n",
              "  'cells',\n",
              "  'abort',\n",
              "  'belly',\n",
              "  'lot',\n",
              "  'eery',\n",
              "  'bills',\n",
              "  'arty',\n",
              "  'elm',\n",
              "  'adept',\n",
              "  'by',\n",
              "  'fills',\n",
              "  'acrux',\n",
              "  'knotty',\n",
              "  'girt',\n",
              "  'chimps',\n",
              "  'chins',\n",
              "  'gilt',\n",
              "  'empty',\n",
              "  'abhor',\n",
              "  'bops',\n",
              "  'dip',\n",
              "  'chimu',\n",
              "  'f',\n",
              "  'alms',\n",
              "  'nosy',\n",
              "  'y',\n",
              "  'ill',\n",
              "  'glow',\n",
              "  'gin',\n",
              "  'guy',\n",
              "  'deers',\n",
              "  'cs',\n",
              "  'ego',\n",
              "  'dills',\n",
              "  'begins',\n",
              "  'achy',\n",
              "  'film',\n",
              "  'aegis',\n",
              "  'dins',\n",
              "  'ay',\n",
              "  'aims',\n",
              "  'fix',\n",
              "  'abby',\n",
              "  'ail',\n",
              "  'deep',\n",
              "  'gins',\n",
              "  'ado',\n",
              "  'aglow',\n",
              "  'bess',\n",
              "  'hops',\n",
              "  'ty',\n",
              "  'stu',\n",
              "  'boru',\n",
              "  'demo',\n",
              "  'ios',\n",
              "  'i',\n",
              "  'adder',\n",
              "  'floors',\n",
              "  'filmy',\n",
              "  'floppy',\n",
              "  'at',\n",
              "  'chimp',\n",
              "  'bins',\n",
              "  'blow',\n",
              "  'an',\n",
              "  'coop',\n",
              "  'cosy',\n",
              "  'boos',\n",
              "  'nu',\n",
              "  'glory',\n",
              "  'elms',\n",
              "  'dix',\n",
              "  'ms',\n",
              "  'celt',\n",
              "  'hippy',\n",
              "  'boo',\n",
              "  'elmo',\n",
              "  'chills',\n",
              "  'n',\n",
              "  'coy',\n",
              "  'inn',\n",
              "  'ant',\n",
              "  'chit',\n",
              "  'knot',\n",
              "  'now',\n",
              "  'di',\n",
              "  'dow',\n",
              "  'abbey',\n",
              "  'cop',\n",
              "  'cell',\n",
              "  'q',\n",
              "  'ad',\n",
              "  'fort',\n",
              "  'errs',\n",
              "  'cow',\n",
              "  'dill',\n",
              "  'airs',\n",
              "  'goo',\n",
              "  'den',\n",
              "  'glossy',\n",
              "  'pu',\n",
              "  'begin',\n",
              "  'emory',\n",
              "  'ag',\n",
              "  'hills',\n",
              "  'doors',\n",
              "  'aery',\n",
              "  'clop',\n",
              "  'ghost',\n",
              "  'host',\n",
              "  'dior',\n",
              "  'cu',\n",
              "  'alps',\n",
              "  'how',\n",
              "  'l',\n",
              "  'hi',\n",
              "  'ben',\n",
              "  'act',\n",
              "  'chip',\n",
              "  'dens',\n",
              "  'dirt',\n",
              "  'abet',\n",
              "  'moo',\n",
              "  'mott',\n",
              "  'choppy',\n",
              "  'cl',\n",
              "  'fr',\n",
              "  'bin',\n",
              "  'glop',\n",
              "  'his',\n",
              "  'finny',\n",
              "  'gs',\n",
              "  'emos',\n",
              "  'ls',\n",
              "  'him',\n",
              "  'boot',\n",
              "  'b',\n",
              "  'gloss',\n",
              "  'cloy',\n",
              "  'gino',\n",
              "  'ox',\n",
              "  'coo',\n",
              "  'fly',\n",
              "  'envy',\n",
              "  'amps',\n",
              "  'egos',\n",
              "  'ammo',\n",
              "  'below',\n",
              "  'horsy',\n",
              "  'loss',\n",
              "  'beet',\n",
              "  'airy',\n",
              "  'it',\n",
              "  'fox',\n",
              "  't',\n",
              "  'ally',\n",
              "  'floor',\n",
              "  'dos',\n",
              "  'inns',\n",
              "  'accent',\n",
              "  'sty',\n",
              "  'foxy',\n",
              "  'ell',\n",
              "  'bell',\n",
              "  'loopy',\n",
              "  'dew',\n",
              "  'low',\n",
              "  'gnu',\n",
              "  'mu',\n",
              "  's',\n",
              "  'effort',\n",
              "  'chou',\n",
              "  'boors',\n",
              "  'chops',\n",
              "  'eels'],\n",
              " 502)"
            ]
          },
          "metadata": {},
          "execution_count": 35
        }
      ]
    },
    {
      "cell_type": "markdown",
      "metadata": {
        "id": "gEgmFzoe18x8"
      },
      "source": [
        "## Question 2\n",
        "\n",
        "Find and display the longest word in `alpha_words`.\n",
        "If there is more than one word with the maximal length, you can display any one of them (but only one).\n",
        "\n",
        "NOTE: You can write code for this question even if your answer to the previous question doesn't work. I'll grade the code, not the output."
      ]
    },
    {
      "cell_type": "code",
      "execution_count": 36,
      "metadata": {
        "id": "e2Y5nfzx18x8"
      },
      "outputs": [],
      "source": [
        "from typing import List\n",
        "\n",
        "def findLogestWord(alpha_words: List) -> str:\n",
        "    longestWord = ''\n",
        "\n",
        "    for word in alpha_words:\n",
        "        if len(word) > len(longestWord):\n",
        "            longestWord = word\n",
        "\n",
        "    return longestWord\n"
      ]
    },
    {
      "cell_type": "code",
      "execution_count": 37,
      "metadata": {
        "colab": {
          "base_uri": "https://localhost:8080/",
          "height": 35
        },
        "id": "tyHyqmsR18x8",
        "outputId": "725c55a4-4ebf-4d10-cddf-dc5ec0b349c8"
      },
      "outputs": [
        {
          "output_type": "execute_result",
          "data": {
            "text/plain": [
              "'billowy'"
            ],
            "application/vnd.google.colaboratory.intrinsic+json": {
              "type": "string"
            }
          },
          "metadata": {},
          "execution_count": 37
        }
      ],
      "source": [
        "findLogestWord(alpha_words)"
      ]
    },
    {
      "cell_type": "markdown",
      "metadata": {
        "id": "Llx1C1-n18x8"
      },
      "source": [
        "## Question 3\n",
        "\n",
        "Write a function called `encompasses` that takes two words and returns `True` if the first word contains the second word, but not at the beginning or the end (and `False` otherwise). For example, `hippopotomus` encompasses the word `pot`.\n",
        "\n",
        "HINT: You might find the string method `find` useful. "
      ]
    },
    {
      "cell_type": "code",
      "execution_count": 38,
      "metadata": {
        "colab": {
          "base_uri": "https://localhost:8080/"
        },
        "id": "PjCn4R-x18x8",
        "outputId": "aaf369ce-6eed-4f70-c872-b080c5addd85"
      },
      "outputs": [
        {
          "output_type": "execute_result",
          "data": {
            "text/plain": [
              "5"
            ]
          },
          "metadata": {},
          "execution_count": 38
        }
      ],
      "source": [
        "'hippopotomus'.find('pot')"
      ]
    },
    {
      "cell_type": "code",
      "execution_count": 39,
      "metadata": {
        "colab": {
          "base_uri": "https://localhost:8080/"
        },
        "id": "KWcXNLi818x8",
        "outputId": "bf341c92-6d6e-4490-df11-d0930fbcd93d"
      },
      "outputs": [
        {
          "output_type": "execute_result",
          "data": {
            "text/plain": [
              "-1"
            ]
          },
          "metadata": {},
          "execution_count": 39
        }
      ],
      "source": [
        "'hippopotomus'.find('potato')"
      ]
    },
    {
      "cell_type": "code",
      "execution_count": 40,
      "metadata": {
        "id": "a3uuhh8618x8"
      },
      "outputs": [],
      "source": [
        "# WRITE YOUR FUNCTION HERE"
      ]
    },
    {
      "cell_type": "code",
      "execution_count": 41,
      "metadata": {
        "id": "ZzNKdnfg18x9"
      },
      "outputs": [],
      "source": [
        "def encompasses(word: str, secondWord: str):\n",
        "    index = word.find(secondWord)\n",
        "    if index > 0 and index + len(secondWord) < len(word):\n",
        "        return True\n",
        "    else:\n",
        "        return False"
      ]
    },
    {
      "cell_type": "code",
      "execution_count": 42,
      "metadata": {
        "colab": {
          "base_uri": "https://localhost:8080/"
        },
        "id": "YL1D6_Ml18x9",
        "outputId": "c7880cc8-d9a6-4688-a834-5af22a3e5142"
      },
      "outputs": [
        {
          "output_type": "execute_result",
          "data": {
            "text/plain": [
              "True"
            ]
          },
          "metadata": {},
          "execution_count": 42
        }
      ],
      "source": [
        "encompasses('pineapple','app') "
      ]
    },
    {
      "cell_type": "code",
      "execution_count": 43,
      "metadata": {
        "colab": {
          "base_uri": "https://localhost:8080/"
        },
        "id": "0CD9r-Cw18x9",
        "outputId": "fe27e73a-c138-4815-9723-5a3f2115f26d"
      },
      "outputs": [
        {
          "output_type": "execute_result",
          "data": {
            "text/plain": [
              "False"
            ]
          },
          "metadata": {},
          "execution_count": 43
        }
      ],
      "source": [
        "encompasses('pineapple','apple')"
      ]
    },
    {
      "cell_type": "markdown",
      "metadata": {
        "id": "BfOOdCSf18x9"
      },
      "source": [
        "You can use the following examples to test your function."
      ]
    },
    {
      "cell_type": "code",
      "execution_count": 44,
      "metadata": {
        "id": "ZFbwsJN-18x9"
      },
      "outputs": [],
      "source": [
        "word1 = 'hippopotamus'\n",
        "word2 = 'pot'\n",
        "word3 = 'hippo'\n",
        "word4 = 'mus'\n",
        "word5 = 'potato'"
      ]
    },
    {
      "cell_type": "code",
      "execution_count": 45,
      "metadata": {
        "colab": {
          "base_uri": "https://localhost:8080/"
        },
        "id": "pByLvHwv18x9",
        "outputId": "43154e7c-277b-414e-fc12-b9eb4cdef0ed"
      },
      "outputs": [
        {
          "output_type": "execute_result",
          "data": {
            "text/plain": [
              "True"
            ]
          },
          "metadata": {},
          "execution_count": 45
        }
      ],
      "source": [
        "encompasses(word1, word2) # True"
      ]
    },
    {
      "cell_type": "code",
      "execution_count": 46,
      "metadata": {
        "colab": {
          "base_uri": "https://localhost:8080/"
        },
        "id": "Js3t0s6218x9",
        "outputId": "ba397517-2c49-46ca-ad49-e9ee164a50ed"
      },
      "outputs": [
        {
          "output_type": "execute_result",
          "data": {
            "text/plain": [
              "False"
            ]
          },
          "metadata": {},
          "execution_count": 46
        }
      ],
      "source": [
        "encompasses(word1, word3) # False because word3 is at the beginning"
      ]
    },
    {
      "cell_type": "code",
      "execution_count": 47,
      "metadata": {
        "colab": {
          "base_uri": "https://localhost:8080/"
        },
        "id": "qqJKFQ0U18x9",
        "outputId": "0766e6f5-33f0-4d1e-e5b9-e929064a3d5d"
      },
      "outputs": [
        {
          "output_type": "execute_result",
          "data": {
            "text/plain": [
              "False"
            ]
          },
          "metadata": {},
          "execution_count": 47
        }
      ],
      "source": [
        "encompasses(word1, word4) # False because word4 is at the end"
      ]
    },
    {
      "cell_type": "code",
      "execution_count": 48,
      "metadata": {
        "colab": {
          "base_uri": "https://localhost:8080/"
        },
        "id": "4M3WLOAy18x9",
        "outputId": "727f6630-9c83-4980-f915-db35dc94fc53"
      },
      "outputs": [
        {
          "output_type": "execute_result",
          "data": {
            "text/plain": [
              "False"
            ]
          },
          "metadata": {},
          "execution_count": 48
        }
      ],
      "source": [
        "encompasses(word1, word5) # False because word5 is not in word1"
      ]
    },
    {
      "cell_type": "markdown",
      "metadata": {
        "id": "pOcxI3nF18x9"
      },
      "source": [
        "## Question 4\n",
        "\n",
        "Two words make a \"reverse pair\" if one of them is the reverse of the other. For example, `pots` and `stop` are a reverse pair.\n",
        "\n",
        "The words in a reverse pair must be different, so `gag` and `gag` are not a reverse pair.\n",
        "\n",
        "\n",
        "Make a list of all reverse pairs in `word_list`. Each pair of words should appear only once, so if `('tons', 'snot')` is in the list, `('snot', 'tons')` should not be.\n"
      ]
    },
    {
      "cell_type": "code",
      "execution_count": 59,
      "metadata": {
        "id": "4Cyg6yYQ18x9"
      },
      "outputs": [],
      "source": [
        "from typing import List\n",
        "from collections import defaultdict\n",
        "\n",
        "def reverse_pair(word_list: List) -> List:\n",
        "    reverse_pair_dict = defaultdict(list)\n",
        "\n",
        "    for word in word_list:\n",
        "        if not reverse_pair_dict[''.join(sorted(word))]:\n",
        "            reverse_pair_dict[''.join(sorted(word))].append(word)\n",
        "        else:\n",
        "            if reverse_pair_dict[''.join(sorted(word))][0][::-1] == word and reverse_pair_dict[''.join(sorted(word))][0] != word:\n",
        "                reverse_pair_dict[''.join(sorted(word))].append(word)\n",
        "\n",
        "    reverse_pairs = []\n",
        "\n",
        "    for key,value in reverse_pair_dict.items():\n",
        "        if len(value) > 1:\n",
        "            reverse_pairs.append(value)\n",
        "\n",
        "    return reverse_pairs"
      ]
    },
    {
      "cell_type": "code",
      "source": [
        "reverse_pair = reverse_pair(word_list)"
      ],
      "metadata": {
        "id": "PhcXSmdAOHwj"
      },
      "execution_count": 65,
      "outputs": []
    },
    {
      "cell_type": "markdown",
      "metadata": {
        "id": "BHrtKam018x9"
      },
      "source": [
        "BONUS QUESTION JUST FOR FUN: What is the longest reverse pair in this word list?"
      ]
    },
    {
      "cell_type": "code",
      "execution_count": 72,
      "metadata": {
        "id": "6KoCaqtT18x9"
      },
      "outputs": [],
      "source": [
        "from typing import List\n",
        "from collections import defaultdict\n",
        "\n",
        "def longest_reverse_pair(reverse_pair: List) -> List:\n",
        "\n",
        "    return sorted(reverse_pair, key = lambda x: len(x[0]), reverse = True)"
      ]
    },
    {
      "cell_type": "code",
      "execution_count": 73,
      "metadata": {
        "colab": {
          "base_uri": "https://localhost:8080/"
        },
        "id": "HM_bJF_418x9",
        "outputId": "f1b97d01-6c2c-4d6d-a3ad-f4e87551671d"
      },
      "outputs": [
        {
          "output_type": "execute_result",
          "data": {
            "text/plain": [
              "[['stressed', 'desserts'],\n",
              " ['deliver', 'reviled'],\n",
              " ['trebled', 'delbert'],\n",
              " ['sinned', 'dennis'],\n",
              " ['repaid', 'diaper'],\n",
              " ['elbert', 'treble'],\n",
              " ['spoons', 'snoops'],\n",
              " ['steels', 'sleets'],\n",
              " ['reward', 'drawer'],\n",
              " ['relive', 'eviler'],\n",
              " ['sloops', 'spools'],\n",
              " ['remark', 'kramer'],\n",
              " ['looter', 'retool'],\n",
              " ['sports', 'strops'],\n",
              " ['rebut', 'tuber'],\n",
              " ['silos', 'solis'],\n",
              " ['camus', 'sumac'],\n",
              " ['spins', 'snips'],\n",
              " ['peels', 'sleep'],\n",
              " ['nomad', 'damon'],\n",
              " ['annam', 'manna'],\n",
              " ['knits', 'stink'],\n",
              " ['leper', 'repel'],\n",
              " ['seton', 'notes'],\n",
              " ['draws', 'sward'],\n",
              " ['spool', 'loops'],\n",
              " ['sleek', 'keels'],\n",
              " ['strop', 'ports'],\n",
              " ['decaf', 'faced'],\n",
              " ['errol', 'lorre'],\n",
              " ['lager', 'regal'],\n",
              " ['delia', 'ailed'],\n",
              " ['deeps', 'speed'],\n",
              " ['snaps', 'spans'],\n",
              " ['devil', 'lived'],\n",
              " ['lever', 'revel'],\n",
              " ['denim', 'mined'],\n",
              " ['debut', 'tubed'],\n",
              " ['decal', 'laced'],\n",
              " ['warts', 'straw'],\n",
              " ['regor', 'roger'],\n",
              " ['snub', 'buns'],\n",
              " ['snot', 'tons'],\n",
              " ['evil', 'live'],\n",
              " ['guns', 'snug'],\n",
              " ['smug', 'gums'],\n",
              " ['nips', 'spin'],\n",
              " ['bard', 'drab'],\n",
              " ['paws', 'swap'],\n",
              " ['mart', 'tram'],\n",
              " ['trig', 'girt'],\n",
              " ['marc', 'cram'],\n",
              " ['deer', 'reed'],\n",
              " ['nave', 'evan'],\n",
              " ['emir', 'rime'],\n",
              " ['flow', 'wolf'],\n",
              " ['pees', 'seep'],\n",
              " ['anon', 'nona'],\n",
              " ['dine', 'enid'],\n",
              " ['tort', 'trot'],\n",
              " ['loot', 'tool'],\n",
              " ['gnaw', 'wang'],\n",
              " ['reva', 'aver'],\n",
              " ['fine', 'enif'],\n",
              " ['leek', 'keel'],\n",
              " ['reel', 'leer'],\n",
              " ['oder', 'redo'],\n",
              " ['brag', 'garb'],\n",
              " ['laid', 'dial'],\n",
              " ['elam', 'male'],\n",
              " ['suez', 'zeus'],\n",
              " ['diva', 'avid'],\n",
              " ['bats', 'stab'],\n",
              " ['nova', 'avon'],\n",
              " ['dray', 'yard'],\n",
              " ['moor', 'room'],\n",
              " ['tuba', 'abut'],\n",
              " ['hoop', 'pooh'],\n",
              " ['kroc', 'cork'],\n",
              " ['spit', 'tips'],\n",
              " ['slop', 'pols'],\n",
              " ['avis', 'siva'],\n",
              " ['pool', 'loop'],\n",
              " ['burg', 'grub'],\n",
              " ['mils', 'slim'],\n",
              " ['etna', 'ante'],\n",
              " ['ward', 'draw'],\n",
              " ['step', 'pets'],\n",
              " ['flog', 'golf'],\n",
              " ['laud', 'dual'],\n",
              " ['saab', 'baas'],\n",
              " ['snit', 'tins'],\n",
              " ['lien', 'neil'],\n",
              " ['keep', 'peek'],\n",
              " ['note', 'eton'],\n",
              " ['sore', 'eros'],\n",
              " ['ages', 'sega'],\n",
              " ['smut', 'tums'],\n",
              " ['snap', 'pans'],\n",
              " ['maws', 'swam'],\n",
              " ['erie', 'eire'],\n",
              " ['plug', 'gulp'],\n",
              " ['slag', 'gals'],\n",
              " ['spam', 'maps'],\n",
              " ['spay', 'yaps'],\n",
              " ['raja', 'ajar'],\n",
              " ['nuts', 'stun'],\n",
              " ['doom', 'mood'],\n",
              " ['gnat', 'tang'],\n",
              " ['lime', 'emil'],\n",
              " ['deep', 'peed'],\n",
              " ['some', 'emos'],\n",
              " ['wen', 'new'],\n",
              " ['eon', 'noe'],\n",
              " ['sod', 'dos'],\n",
              " ['hem', 'meh'],\n",
              " ['rim', 'mir'],\n",
              " ['lap', 'pal'],\n",
              " ['mia', 'aim'],\n",
              " ['dot', 'tod'],\n",
              " ['rot', 'tor'],\n",
              " ['gum', 'mug'],\n",
              " ['don', 'nod'],\n",
              " ['ear', 'rae'],\n",
              " ['bad', 'dab'],\n",
              " ['tam', 'mat'],\n",
              " ['sip', 'pis'],\n",
              " ['sal', 'las'],\n",
              " ['eel', 'lee'],\n",
              " ['bog', 'gob'],\n",
              " ['sol', 'los'],\n",
              " ['oat', 'tao'],\n",
              " ['tin', 'nit'],\n",
              " ['tug', 'gut'],\n",
              " ['tog', 'got'],\n",
              " ['net', 'ten'],\n",
              " ['ate', 'eta'],\n",
              " ['pin', 'nip'],\n",
              " ['yam', 'may'],\n",
              " ['raw', 'war'],\n",
              " ['not', 'ton'],\n",
              " ['nam', 'man'],\n",
              " ['gel', 'leg'],\n",
              " ['gas', 'sag'],\n",
              " ['way', 'yaw'],\n",
              " ['gal', 'lag'],\n",
              " ['ron', 'nor'],\n",
              " ['gem', 'meg'],\n",
              " ['tip', 'pit'],\n",
              " ['yak', 'kay'],\n",
              " ['dis', 'sid'],\n",
              " ['dam', 'mad'],\n",
              " ['dim', 'mid'],\n",
              " ['sup', 'pus'],\n",
              " ['pan', 'nap'],\n",
              " ['nub', 'bun'],\n",
              " ['saw', 'was'],\n",
              " ['lop', 'pol'],\n",
              " ['nut', 'tun'],\n",
              " ['ban', 'nab'],\n",
              " ['ref', 'fer'],\n",
              " ['won', 'now'],\n",
              " ['nil', 'lin'],\n",
              " ['nib', 'bin'],\n",
              " ['pay', 'yap'],\n",
              " ['tan', 'nat'],\n",
              " ['ali', 'ila'],\n",
              " ['bur', 'rub'],\n",
              " ['wed', 'dew'],\n",
              " ['rep', 'per'],\n",
              " ['deb', 'bed'],\n",
              " ['bat', 'tab'],\n",
              " ['cod', 'doc'],\n",
              " ['bud', 'dub'],\n",
              " ['bag', 'gab'],\n",
              " ['ina', 'ani'],\n",
              " ['god', 'dog'],\n",
              " ['mit', 'tim'],\n",
              " ['al', 'la'],\n",
              " ['es', 'se'],\n",
              " ['na', 'an'],\n",
              " ['em', 'me'],\n",
              " ['he', 'eh'],\n",
              " ['on', 'no'],\n",
              " ['up', 'pu'],\n",
              " ['os', 'so'],\n",
              " ['bp', 'pb'],\n",
              " ['am', 'ma'],\n",
              " ['ho', 'oh'],\n",
              " ['ah', 'ha'],\n",
              " ['ac', 'ca'],\n",
              " ['id', 'di'],\n",
              " ['si', 'is'],\n",
              " ['in', 'ni'],\n",
              " ['ex', 'xe'],\n",
              " ['ti', 'it'],\n",
              " ['um', 'mu']]"
            ]
          },
          "metadata": {},
          "execution_count": 73
        }
      ],
      "source": [
        "longest_reverse_pair(reverse_pair)"
      ]
    }
  ],
  "metadata": {
    "kernelspec": {
      "display_name": "Python 3",
      "language": "python",
      "name": "python3"
    },
    "language_info": {
      "codemirror_mode": {
        "name": "ipython",
        "version": 3
      },
      "file_extension": ".py",
      "mimetype": "text/x-python",
      "name": "python",
      "nbconvert_exporter": "python",
      "pygments_lexer": "ipython3",
      "version": "3.9.4"
    },
    "colab": {
      "provenance": [],
      "include_colab_link": true
    }
  },
  "nbformat": 4,
  "nbformat_minor": 0
}