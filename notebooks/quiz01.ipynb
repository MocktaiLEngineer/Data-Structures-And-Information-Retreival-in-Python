{
  "cells": [
    {
      "cell_type": "markdown",
      "metadata": {
        "id": "JT23lcIv18x3"
      },
      "source": [
        "# Quiz 1\n",
        "\n",
        "BEFORE YOU START THIS QUIZ:\n",
        "\n",
        "1. Click on \"Copy to Drive\" to make a copy of the quiz,\n",
        "\n",
        "2. Click on \"Share\",\n",
        "    \n",
        "3. Click on \"Change\" and select \"Anyone with this link can edit\"\n",
        "    \n",
        "4. Click \"Copy link\" and\n",
        "\n",
        "5. Paste the link into [this Canvas assignment](https://canvas.olin.edu/courses/313/assignments/4866). \n",
        "\n",
        "Copyright 2021 Allen Downey, [MIT License](http://opensource.org/licenses/MIT)"
      ]
    },
    {
      "cell_type": "markdown",
      "metadata": {
        "id": "Ih6F39CZ18x5"
      },
      "source": [
        "## Setup"
      ]
    },
    {
      "cell_type": "markdown",
      "metadata": {
        "id": "lMKhvm8x18x5"
      },
      "source": [
        "The following cells download a file that contains a list of words, reads the words, and stores them in a `set`."
      ]
    },
    {
      "cell_type": "code",
      "execution_count": 27,
      "metadata": {
        "id": "UEJS-XFU18x5"
      },
      "outputs": [],
      "source": [
        "from os.path import basename, exists\n",
        "\n",
        "def download(url):\n",
        "    filename = basename(url)\n",
        "    if not exists(filename):\n",
        "        from urllib.request import urlretrieve\n",
        "        local, _ = urlretrieve(url, filename)\n",
        "        print('Downloaded ' + local)\n",
        "    \n",
        "download('https://github.com/AllenDowney/DSIRP/raw/main/american-english')"
      ]
    },
    {
      "cell_type": "code",
      "execution_count": 28,
      "metadata": {
        "id": "d8f-XI9V18x6"
      },
      "outputs": [],
      "source": [
        "def read_words(filename):\n",
        "    \"\"\"Read lines from a file and split them into words.\"\"\"\n",
        "    res = set()\n",
        "    for line in open(filename):\n",
        "        for word in line.split():\n",
        "            res.add(word.strip().lower())\n",
        "    return res"
      ]
    },
    {
      "cell_type": "code",
      "execution_count": 29,
      "metadata": {
        "id": "JAs9GUBT18x6",
        "outputId": "ae20c9ca-a1ab-42b7-edc5-a1e8662a6a3f",
        "colab": {
          "base_uri": "https://localhost:8080/"
        }
      },
      "outputs": [
        {
          "output_type": "execute_result",
          "data": {
            "text/plain": [
              "100781"
            ]
          },
          "metadata": {},
          "execution_count": 29
        }
      ],
      "source": [
        "word_list = read_words('american-english')\n",
        "len(word_list)"
      ]
    },
    {
      "cell_type": "markdown",
      "metadata": {
        "id": "Xc6OWKre18x6"
      },
      "source": [
        "## Question 1\n",
        "\n",
        "The following function takes a string and returns `True` if the letters in the string appear in alphabetical order."
      ]
    },
    {
      "cell_type": "code",
      "execution_count": 30,
      "metadata": {
        "id": "df2-q3mZ18x7"
      },
      "outputs": [],
      "source": [
        "def is_alphabetical(word):\n",
        "    return list(word) == sorted(word)"
      ]
    },
    {
      "cell_type": "code",
      "execution_count": 31,
      "metadata": {
        "id": "QTng89VX18x7",
        "outputId": "c8de2871-59b7-4e85-c974-20cbc2ceff25",
        "colab": {
          "base_uri": "https://localhost:8080/"
        }
      },
      "outputs": [
        {
          "output_type": "execute_result",
          "data": {
            "text/plain": [
              "True"
            ]
          },
          "metadata": {},
          "execution_count": 31
        }
      ],
      "source": [
        "is_alphabetical('almost') # True"
      ]
    },
    {
      "cell_type": "code",
      "execution_count": 32,
      "metadata": {
        "id": "j__HlRw918x7",
        "outputId": "f1e0e352-92d4-4858-c59c-12f107c87b1a",
        "colab": {
          "base_uri": "https://localhost:8080/"
        }
      },
      "outputs": [
        {
          "output_type": "execute_result",
          "data": {
            "text/plain": [
              "False"
            ]
          },
          "metadata": {},
          "execution_count": 32
        }
      ],
      "source": [
        "is_alphabetical('alphabetical') # False"
      ]
    },
    {
      "cell_type": "markdown",
      "metadata": {
        "id": "rC4CKRFN18x7"
      },
      "source": [
        "Make a new list called `alpha_words` that contains only the words in `word_list` that are alphabetical, and display the length of the list."
      ]
    },
    {
      "cell_type": "code",
      "execution_count": 33,
      "metadata": {
        "id": "O7BCT4xF18x7"
      },
      "outputs": [],
      "source": [
        "from typing import List\n",
        "\n",
        "def alphabeticalOrderWords(word_list: List) -> List:\n",
        "    return [word for word in word_list if is_alphabetical(word)]"
      ]
    },
    {
      "cell_type": "code",
      "execution_count": 34,
      "metadata": {
        "id": "Kp7B6Yva18x7"
      },
      "outputs": [],
      "source": [
        "alpha_words = alphabeticalOrderWords(word_list)"
      ]
    },
    {
      "cell_type": "code",
      "source": [
        "alpha_words, len(alpha_words)"
      ],
      "metadata": {
        "id": "Ilg-fOGj2zHw",
        "outputId": "8e3a4f73-3699-416f-cb9a-99183f7a70f1",
        "colab": {
          "base_uri": "https://localhost:8080/"
        }
      },
      "execution_count": 35,
      "outputs": [
        {
          "output_type": "execute_result",
          "data": {
            "text/plain": [
              "(['btu',\n",
              "  'kory',\n",
              "  'allot',\n",
              "  'luz',\n",
              "  'h',\n",
              "  'chilly',\n",
              "  'coops',\n",
              "  'coors',\n",
              "  'deems',\n",
              "  'afoot',\n",
              "  'apr',\n",
              "  'beg',\n",
              "  'bent',\n",
              "  'bee',\n",
              "  'fir',\n",
              "  'filly',\n",
              "  'pry',\n",
              "  'apps',\n",
              "  'bellow',\n",
              "  'beef',\n",
              "  'been',\n",
              "  'access',\n",
              "  'most',\n",
              "  'dell',\n",
              "  'benz',\n",
              "  'art',\n",
              "  'deer',\n",
              "  'fops',\n",
              "  'gills',\n",
              "  'achoo',\n",
              "  'gimpy',\n",
              "  'al',\n",
              "  'coot',\n",
              "  'finn',\n",
              "  'brr',\n",
              "  'lo',\n",
              "  'egis',\n",
              "  'flow',\n",
              "  'abbot',\n",
              "  'chintz',\n",
              "  'deny',\n",
              "  'dot',\n",
              "  'first',\n",
              "  'loot',\n",
              "  'films',\n",
              "  'din',\n",
              "  'oort',\n",
              "  'booty',\n",
              "  'flux',\n",
              "  'p',\n",
              "  'fit',\n",
              "  'd',\n",
              "  'eggo',\n",
              "  'v',\n",
              "  'fins',\n",
              "  'beeps',\n",
              "  'blu',\n",
              "  'es',\n",
              "  'copy',\n",
              "  'abe',\n",
              "  'abbess',\n",
              "  'eel',\n",
              "  'moot',\n",
              "  'cello',\n",
              "  'mossy',\n",
              "  'bill',\n",
              "  'bbb',\n",
              "  'accept',\n",
              "  'cent',\n",
              "  'em',\n",
              "  'chino',\n",
              "  'hit',\n",
              "  'floss',\n",
              "  'gipsy',\n",
              "  'ably',\n",
              "  'ann',\n",
              "  'belt',\n",
              "  'moor',\n",
              "  'cops',\n",
              "  'hill',\n",
              "  'z',\n",
              "  'w',\n",
              "  'cellos',\n",
              "  'denny',\n",
              "  'demos',\n",
              "  'os',\n",
              "  'beer',\n",
              "  'ci',\n",
              "  'hoop',\n",
              "  'buy',\n",
              "  'bow',\n",
              "  'clops',\n",
              "  'abbott',\n",
              "  'lorry',\n",
              "  'egg',\n",
              "  'deem',\n",
              "  'fry',\n",
              "  'diss',\n",
              "  'cd',\n",
              "  'ago',\n",
              "  'fizz',\n",
              "  'aim',\n",
              "  'amos',\n",
              "  'opt',\n",
              "  'dee',\n",
              "  'lost',\n",
              "  'ivy',\n",
              "  'billow',\n",
              "  'goop',\n",
              "  'ax',\n",
              "  'o',\n",
              "  'g',\n",
              "  'firs',\n",
              "  'benny',\n",
              "  'bp',\n",
              "  'am',\n",
              "  'fist',\n",
              "  'know',\n",
              "  'accost',\n",
              "  'berry',\n",
              "  'ho',\n",
              "  'dry',\n",
              "  'dewy',\n",
              "  'dint',\n",
              "  'kw',\n",
              "  'u',\n",
              "  'gill',\n",
              "  'aces',\n",
              "  'fill',\n",
              "  'crux',\n",
              "  'ace',\n",
              "  'not',\n",
              "  'chinos',\n",
              "  'abbé',\n",
              "  'dells',\n",
              "  'bevy',\n",
              "  'mop',\n",
              "  'ah',\n",
              "  'fin',\n",
              "  'k',\n",
              "  'ditty',\n",
              "  'air',\n",
              "  'choosy',\n",
              "  'chips',\n",
              "  'chin',\n",
              "  'cr',\n",
              "  'adders',\n",
              "  'finns',\n",
              "  'annoy',\n",
              "  'biko',\n",
              "  'orr',\n",
              "  'ins',\n",
              "  'lops',\n",
              "  'apt',\n",
              "  'flop',\n",
              "  'hos',\n",
              "  'alloy',\n",
              "  'mops',\n",
              "  'moss',\n",
              "  'ac',\n",
              "  'dirty',\n",
              "  'go',\n",
              "  'adz',\n",
              "  'imps',\n",
              "  'adopt',\n",
              "  'ginny',\n",
              "  'chi',\n",
              "  'best',\n",
              "  'emmy',\n",
              "  'ass',\n",
              "  'cost',\n",
              "  'imp',\n",
              "  'kr',\n",
              "  'hz',\n",
              "  'deimos',\n",
              "  'bert',\n",
              "  'moors',\n",
              "  'hoot',\n",
              "  'chop',\n",
              "  'hoops',\n",
              "  'jo',\n",
              "  'boost',\n",
              "  'ads',\n",
              "  'rs',\n",
              "  'betty',\n",
              "  'a',\n",
              "  'jot',\n",
              "  'dotty',\n",
              "  'dis',\n",
              "  'au',\n",
              "  'dips',\n",
              "  'gist',\n",
              "  'ainu',\n",
              "  'mort',\n",
              "  'chill',\n",
              "  'abel',\n",
              "  'beep',\n",
              "  'css',\n",
              "  'cry',\n",
              "  'ails',\n",
              "  'np',\n",
              "  'dilly',\n",
              "  'flo',\n",
              "  'beers',\n",
              "  'psst',\n",
              "  'j',\n",
              "  'bees',\n",
              "  'begot',\n",
              "  'hip',\n",
              "  'dim',\n",
              "  'dent',\n",
              "  'amp',\n",
              "  'hilt',\n",
              "  'hint',\n",
              "  'beefs',\n",
              "  'eh',\n",
              "  'aden',\n",
              "  'affix',\n",
              "  'any',\n",
              "  'dino',\n",
              "  'abuzz',\n",
              "  'ems',\n",
              "  'city',\n",
              "  'bet',\n",
              "  'knox',\n",
              "  'ks',\n",
              "  'fop',\n",
              "  'loops',\n",
              "  'e',\n",
              "  'cox',\n",
              "  'dopy',\n",
              "  'deft',\n",
              "  'hilly',\n",
              "  'hop',\n",
              "  'is',\n",
              "  'joy',\n",
              "  'or',\n",
              "  'gil',\n",
              "  'lop',\n",
              "  'cot',\n",
              "  'ahoy',\n",
              "  'as',\n",
              "  'aft',\n",
              "  'bells',\n",
              "  'depp',\n",
              "  'bop',\n",
              "  'x',\n",
              "  'billowy',\n",
              "  'beefy',\n",
              "  'fuzz',\n",
              "  'begs',\n",
              "  'c',\n",
              "  'buzz',\n",
              "  'foot',\n",
              "  'boy',\n",
              "  'got',\n",
              "  'in',\n",
              "  'ginsu',\n",
              "  'ills',\n",
              "  'r',\n",
              "  'lott',\n",
              "  'ells',\n",
              "  'hims',\n",
              "  'flu',\n",
              "  'deeps',\n",
              "  'befit',\n",
              "  'cory',\n",
              "  'amy',\n",
              "  'deity',\n",
              "  'all',\n",
              "  'door',\n",
              "  'dims',\n",
              "  'ex',\n",
              "  'blot',\n",
              "  'forty',\n",
              "  'eggs',\n",
              "  'chow',\n",
              "  'eloy',\n",
              "  'allow',\n",
              "  'los',\n",
              "  'bmw',\n",
              "  'abhors',\n",
              "  'billy',\n",
              "  'hips',\n",
              "  'mow',\n",
              "  'add',\n",
              "  'boor',\n",
              "  'be',\n",
              "  'bossy',\n",
              "  'lou',\n",
              "  'gory',\n",
              "  'moos',\n",
              "  'box',\n",
              "  'cruz',\n",
              "  'emu',\n",
              "  'oops',\n",
              "  'bit',\n",
              "  'no',\n",
              "  'mo',\n",
              "  'coos',\n",
              "  'pt',\n",
              "  'ow',\n",
              "  'err',\n",
              "  'almost',\n",
              "  'defy',\n",
              "  'dory',\n",
              "  'oz',\n",
              "  'm',\n",
              "  'for',\n",
              "  'divvy',\n",
              "  'lox',\n",
              "  'nor',\n",
              "  'flops',\n",
              "  'flory',\n",
              "  'biopsy',\n",
              "  'mn',\n",
              "  'clot',\n",
              "  'my',\n",
              "  'enos',\n",
              "  'emo',\n",
              "  'hiss',\n",
              "  'do',\n",
              "  'loop',\n",
              "  'boss',\n",
              "  'tux',\n",
              "  'hot',\n",
              "  'adds',\n",
              "  'cells',\n",
              "  'abort',\n",
              "  'belly',\n",
              "  'lot',\n",
              "  'eery',\n",
              "  'bills',\n",
              "  'arty',\n",
              "  'elm',\n",
              "  'adept',\n",
              "  'by',\n",
              "  'fills',\n",
              "  'acrux',\n",
              "  'knotty',\n",
              "  'girt',\n",
              "  'chimps',\n",
              "  'chins',\n",
              "  'gilt',\n",
              "  'empty',\n",
              "  'abhor',\n",
              "  'bops',\n",
              "  'dip',\n",
              "  'chimu',\n",
              "  'f',\n",
              "  'alms',\n",
              "  'nosy',\n",
              "  'y',\n",
              "  'ill',\n",
              "  'glow',\n",
              "  'gin',\n",
              "  'guy',\n",
              "  'deers',\n",
              "  'cs',\n",
              "  'ego',\n",
              "  'dills',\n",
              "  'begins',\n",
              "  'achy',\n",
              "  'film',\n",
              "  'aegis',\n",
              "  'dins',\n",
              "  'ay',\n",
              "  'aims',\n",
              "  'fix',\n",
              "  'abby',\n",
              "  'ail',\n",
              "  'deep',\n",
              "  'gins',\n",
              "  'ado',\n",
              "  'aglow',\n",
              "  'bess',\n",
              "  'hops',\n",
              "  'ty',\n",
              "  'stu',\n",
              "  'boru',\n",
              "  'demo',\n",
              "  'ios',\n",
              "  'i',\n",
              "  'adder',\n",
              "  'floors',\n",
              "  'filmy',\n",
              "  'floppy',\n",
              "  'at',\n",
              "  'chimp',\n",
              "  'bins',\n",
              "  'blow',\n",
              "  'an',\n",
              "  'coop',\n",
              "  'cosy',\n",
              "  'boos',\n",
              "  'nu',\n",
              "  'glory',\n",
              "  'elms',\n",
              "  'dix',\n",
              "  'ms',\n",
              "  'celt',\n",
              "  'hippy',\n",
              "  'boo',\n",
              "  'elmo',\n",
              "  'chills',\n",
              "  'n',\n",
              "  'coy',\n",
              "  'inn',\n",
              "  'ant',\n",
              "  'chit',\n",
              "  'knot',\n",
              "  'now',\n",
              "  'di',\n",
              "  'dow',\n",
              "  'abbey',\n",
              "  'cop',\n",
              "  'cell',\n",
              "  'q',\n",
              "  'ad',\n",
              "  'fort',\n",
              "  'errs',\n",
              "  'cow',\n",
              "  'dill',\n",
              "  'airs',\n",
              "  'goo',\n",
              "  'den',\n",
              "  'glossy',\n",
              "  'pu',\n",
              "  'begin',\n",
              "  'emory',\n",
              "  'ag',\n",
              "  'hills',\n",
              "  'doors',\n",
              "  'aery',\n",
              "  'clop',\n",
              "  'ghost',\n",
              "  'host',\n",
              "  'dior',\n",
              "  'cu',\n",
              "  'alps',\n",
              "  'how',\n",
              "  'l',\n",
              "  'hi',\n",
              "  'ben',\n",
              "  'act',\n",
              "  'chip',\n",
              "  'dens',\n",
              "  'dirt',\n",
              "  'abet',\n",
              "  'moo',\n",
              "  'mott',\n",
              "  'choppy',\n",
              "  'cl',\n",
              "  'fr',\n",
              "  'bin',\n",
              "  'glop',\n",
              "  'his',\n",
              "  'finny',\n",
              "  'gs',\n",
              "  'emos',\n",
              "  'ls',\n",
              "  'him',\n",
              "  'boot',\n",
              "  'b',\n",
              "  'gloss',\n",
              "  'cloy',\n",
              "  'gino',\n",
              "  'ox',\n",
              "  'coo',\n",
              "  'fly',\n",
              "  'envy',\n",
              "  'amps',\n",
              "  'egos',\n",
              "  'ammo',\n",
              "  'below',\n",
              "  'horsy',\n",
              "  'loss',\n",
              "  'beet',\n",
              "  'airy',\n",
              "  'it',\n",
              "  'fox',\n",
              "  't',\n",
              "  'ally',\n",
              "  'floor',\n",
              "  'dos',\n",
              "  'inns',\n",
              "  'accent',\n",
              "  'sty',\n",
              "  'foxy',\n",
              "  'ell',\n",
              "  'bell',\n",
              "  'loopy',\n",
              "  'dew',\n",
              "  'low',\n",
              "  'gnu',\n",
              "  'mu',\n",
              "  's',\n",
              "  'effort',\n",
              "  'chou',\n",
              "  'boors',\n",
              "  'chops',\n",
              "  'eels'],\n",
              " 502)"
            ]
          },
          "metadata": {},
          "execution_count": 35
        }
      ]
    },
    {
      "cell_type": "markdown",
      "metadata": {
        "id": "gEgmFzoe18x8"
      },
      "source": [
        "## Question 2\n",
        "\n",
        "Find and display the longest word in `alpha_words`.\n",
        "If there is more than one word with the maximal length, you can display any one of them (but only one).\n",
        "\n",
        "NOTE: You can write code for this question even if your answer to the previous question doesn't work. I'll grade the code, not the output."
      ]
    },
    {
      "cell_type": "code",
      "execution_count": 36,
      "metadata": {
        "id": "e2Y5nfzx18x8"
      },
      "outputs": [],
      "source": [
        "from typing import List\n",
        "\n",
        "def findLogestWord(alpha_words: List) -> str:\n",
        "    longestWord = ''\n",
        "\n",
        "    for word in alpha_words:\n",
        "        if len(word) > len(longestWord):\n",
        "            longestWord = word\n",
        "\n",
        "    return longestWord\n"
      ]
    },
    {
      "cell_type": "code",
      "execution_count": 37,
      "metadata": {
        "id": "tyHyqmsR18x8",
        "outputId": "725c55a4-4ebf-4d10-cddf-dc5ec0b349c8",
        "colab": {
          "base_uri": "https://localhost:8080/",
          "height": 35
        }
      },
      "outputs": [
        {
          "output_type": "execute_result",
          "data": {
            "text/plain": [
              "'billowy'"
            ],
            "application/vnd.google.colaboratory.intrinsic+json": {
              "type": "string"
            }
          },
          "metadata": {},
          "execution_count": 37
        }
      ],
      "source": [
        "findLogestWord(alpha_words)"
      ]
    },
    {
      "cell_type": "markdown",
      "metadata": {
        "id": "Llx1C1-n18x8"
      },
      "source": [
        "## Question 3\n",
        "\n",
        "Write a function called `encompasses` that takes two words and returns `True` if the first word contains the second word, but not at the beginning or the end (and `False` otherwise). For example, `hippopotomus` encompasses the word `pot`.\n",
        "\n",
        "HINT: You might find the string method `find` useful. "
      ]
    },
    {
      "cell_type": "code",
      "execution_count": 38,
      "metadata": {
        "id": "PjCn4R-x18x8",
        "outputId": "aaf369ce-6eed-4f70-c872-b080c5addd85",
        "colab": {
          "base_uri": "https://localhost:8080/"
        }
      },
      "outputs": [
        {
          "output_type": "execute_result",
          "data": {
            "text/plain": [
              "5"
            ]
          },
          "metadata": {},
          "execution_count": 38
        }
      ],
      "source": [
        "'hippopotomus'.find('pot')"
      ]
    },
    {
      "cell_type": "code",
      "execution_count": 39,
      "metadata": {
        "id": "KWcXNLi818x8",
        "outputId": "bf341c92-6d6e-4490-df11-d0930fbcd93d",
        "colab": {
          "base_uri": "https://localhost:8080/"
        }
      },
      "outputs": [
        {
          "output_type": "execute_result",
          "data": {
            "text/plain": [
              "-1"
            ]
          },
          "metadata": {},
          "execution_count": 39
        }
      ],
      "source": [
        "'hippopotomus'.find('potato')"
      ]
    },
    {
      "cell_type": "code",
      "execution_count": 40,
      "metadata": {
        "id": "a3uuhh8618x8"
      },
      "outputs": [],
      "source": [
        "# WRITE YOUR FUNCTION HERE"
      ]
    },
    {
      "cell_type": "code",
      "execution_count": 41,
      "metadata": {
        "id": "ZzNKdnfg18x9"
      },
      "outputs": [],
      "source": [
        "def encompasses(word: str, secondWord: str):\n",
        "    index = word.find(secondWord)\n",
        "    if index > 0 and index + len(secondWord) < len(word):\n",
        "        return True\n",
        "    else:\n",
        "        return False"
      ]
    },
    {
      "cell_type": "code",
      "execution_count": 42,
      "metadata": {
        "id": "YL1D6_Ml18x9",
        "outputId": "c7880cc8-d9a6-4688-a834-5af22a3e5142",
        "colab": {
          "base_uri": "https://localhost:8080/"
        }
      },
      "outputs": [
        {
          "output_type": "execute_result",
          "data": {
            "text/plain": [
              "True"
            ]
          },
          "metadata": {},
          "execution_count": 42
        }
      ],
      "source": [
        "encompasses('pineapple','app') "
      ]
    },
    {
      "cell_type": "code",
      "execution_count": 43,
      "metadata": {
        "id": "0CD9r-Cw18x9",
        "outputId": "fe27e73a-c138-4815-9723-5a3f2115f26d",
        "colab": {
          "base_uri": "https://localhost:8080/"
        }
      },
      "outputs": [
        {
          "output_type": "execute_result",
          "data": {
            "text/plain": [
              "False"
            ]
          },
          "metadata": {},
          "execution_count": 43
        }
      ],
      "source": [
        "encompasses('pineapple','apple')"
      ]
    },
    {
      "cell_type": "markdown",
      "metadata": {
        "id": "BfOOdCSf18x9"
      },
      "source": [
        "You can use the following examples to test your function."
      ]
    },
    {
      "cell_type": "code",
      "execution_count": 44,
      "metadata": {
        "id": "ZFbwsJN-18x9"
      },
      "outputs": [],
      "source": [
        "word1 = 'hippopotamus'\n",
        "word2 = 'pot'\n",
        "word3 = 'hippo'\n",
        "word4 = 'mus'\n",
        "word5 = 'potato'"
      ]
    },
    {
      "cell_type": "code",
      "execution_count": 45,
      "metadata": {
        "id": "pByLvHwv18x9",
        "outputId": "43154e7c-277b-414e-fc12-b9eb4cdef0ed",
        "colab": {
          "base_uri": "https://localhost:8080/"
        }
      },
      "outputs": [
        {
          "output_type": "execute_result",
          "data": {
            "text/plain": [
              "True"
            ]
          },
          "metadata": {},
          "execution_count": 45
        }
      ],
      "source": [
        "encompasses(word1, word2) # True"
      ]
    },
    {
      "cell_type": "code",
      "execution_count": 46,
      "metadata": {
        "id": "Js3t0s6218x9",
        "outputId": "ba397517-2c49-46ca-ad49-e9ee164a50ed",
        "colab": {
          "base_uri": "https://localhost:8080/"
        }
      },
      "outputs": [
        {
          "output_type": "execute_result",
          "data": {
            "text/plain": [
              "False"
            ]
          },
          "metadata": {},
          "execution_count": 46
        }
      ],
      "source": [
        "encompasses(word1, word3) # False because word3 is at the beginning"
      ]
    },
    {
      "cell_type": "code",
      "execution_count": 47,
      "metadata": {
        "id": "qqJKFQ0U18x9",
        "outputId": "0766e6f5-33f0-4d1e-e5b9-e929064a3d5d",
        "colab": {
          "base_uri": "https://localhost:8080/"
        }
      },
      "outputs": [
        {
          "output_type": "execute_result",
          "data": {
            "text/plain": [
              "False"
            ]
          },
          "metadata": {},
          "execution_count": 47
        }
      ],
      "source": [
        "encompasses(word1, word4) # False because word4 is at the end"
      ]
    },
    {
      "cell_type": "code",
      "execution_count": 48,
      "metadata": {
        "id": "4M3WLOAy18x9",
        "outputId": "727f6630-9c83-4980-f915-db35dc94fc53",
        "colab": {
          "base_uri": "https://localhost:8080/"
        }
      },
      "outputs": [
        {
          "output_type": "execute_result",
          "data": {
            "text/plain": [
              "False"
            ]
          },
          "metadata": {},
          "execution_count": 48
        }
      ],
      "source": [
        "encompasses(word1, word5) # False because word5 is not in word1"
      ]
    },
    {
      "cell_type": "markdown",
      "metadata": {
        "id": "pOcxI3nF18x9"
      },
      "source": [
        "## Question 4\n",
        "\n",
        "Two words make a \"reverse pair\" if one of them is the reverse of the other. For example, `pots` and `stop` are a reverse pair.\n",
        "\n",
        "The words in a reverse pair must be different, so `gag` and `gag` are not a reverse pair.\n",
        "\n",
        "\n",
        "Make a list of all reverse pairs in `word_list`. Each pair of words should appear only once, so if `('tons', 'snot')` is in the list, `('snot', 'tons')` should not be.\n"
      ]
    },
    {
      "cell_type": "code",
      "execution_count": 59,
      "metadata": {
        "id": "4Cyg6yYQ18x9"
      },
      "outputs": [],
      "source": [
        "from typing import List\n",
        "from collections import defaultdict\n",
        "\n",
        "def reverse_pair(word_list: List) -> List:\n",
        "    reverse_pair_dict = defaultdict(list)\n",
        "\n",
        "    for word in word_list:\n",
        "        if not reverse_pair_dict[''.join(sorted(word))]:\n",
        "            reverse_pair_dict[''.join(sorted(word))].append(word)\n",
        "        else:\n",
        "            if reverse_pair_dict[''.join(sorted(word))][0][::-1] == word and reverse_pair_dict[''.join(sorted(word))][0] != word:\n",
        "                reverse_pair_dict[''.join(sorted(word))].append(word)\n",
        "\n",
        "    reverse_pairs = []\n",
        "\n",
        "    for key,value in reverse_pair_dict.items():\n",
        "        if len(value) > 1:\n",
        "            reverse_pairs.append(value)\n",
        "\n",
        "    return reverse_pairs"
      ]
    },
    {
      "cell_type": "code",
      "source": [
        "reverse_pair(word_list)"
      ],
      "metadata": {
        "id": "PhcXSmdAOHwj",
        "outputId": "3870f234-0952-42f6-c029-3cf01a5b86a6",
        "colab": {
          "base_uri": "https://localhost:8080/"
        }
      },
      "execution_count": 60,
      "outputs": [
        {
          "output_type": "execute_result",
          "data": {
            "text/plain": [
              "[['sinned', 'dennis'],\n",
              " ['snub', 'buns'],\n",
              " ['snot', 'tons'],\n",
              " ['evil', 'live'],\n",
              " ['guns', 'snug'],\n",
              " ['smug', 'gums'],\n",
              " ['wen', 'new'],\n",
              " ['eon', 'noe'],\n",
              " ['nips', 'spin'],\n",
              " ['repaid', 'diaper'],\n",
              " ['rebut', 'tuber'],\n",
              " ['bard', 'drab'],\n",
              " ['paws', 'swap'],\n",
              " ['sod', 'dos'],\n",
              " ['mart', 'tram'],\n",
              " ['trig', 'girt'],\n",
              " ['elbert', 'treble'],\n",
              " ['hem', 'meh'],\n",
              " ['spoons', 'snoops'],\n",
              " ['rim', 'mir'],\n",
              " ['marc', 'cram'],\n",
              " ['lap', 'pal'],\n",
              " ['silos', 'solis'],\n",
              " ['deer', 'reed'],\n",
              " ['mia', 'aim'],\n",
              " ['nave', 'evan'],\n",
              " ['camus', 'sumac'],\n",
              " ['steels', 'sleets'],\n",
              " ['emir', 'rime'],\n",
              " ['al', 'la'],\n",
              " ['flow', 'wolf'],\n",
              " ['pees', 'seep'],\n",
              " ['dot', 'tod'],\n",
              " ['anon', 'nona'],\n",
              " ['rot', 'tor'],\n",
              " ['gum', 'mug'],\n",
              " ['dine', 'enid'],\n",
              " ['tort', 'trot'],\n",
              " ['loot', 'tool'],\n",
              " ['gnaw', 'wang'],\n",
              " ['reva', 'aver'],\n",
              " ['fine', 'enif'],\n",
              " ['don', 'nod'],\n",
              " ['ear', 'rae'],\n",
              " ['leek', 'keel'],\n",
              " ['bad', 'dab'],\n",
              " ['reel', 'leer'],\n",
              " ['tam', 'mat'],\n",
              " ['oder', 'redo'],\n",
              " ['brag', 'garb'],\n",
              " ['sip', 'pis'],\n",
              " ['spins', 'snips'],\n",
              " ['es', 'se'],\n",
              " ['sal', 'las'],\n",
              " ['laid', 'dial'],\n",
              " ['elam', 'male'],\n",
              " ['eel', 'lee'],\n",
              " ['suez', 'zeus'],\n",
              " ['na', 'an'],\n",
              " ['bog', 'gob'],\n",
              " ['deliver', 'reviled'],\n",
              " ['em', 'me'],\n",
              " ['diva', 'avid'],\n",
              " ['bats', 'stab'],\n",
              " ['peels', 'sleep'],\n",
              " ['nova', 'avon'],\n",
              " ['he', 'eh'],\n",
              " ['sol', 'los'],\n",
              " ['oat', 'tao'],\n",
              " ['dray', 'yard'],\n",
              " ['reward', 'drawer'],\n",
              " ['tin', 'nit'],\n",
              " ['moor', 'room'],\n",
              " ['on', 'no'],\n",
              " ['up', 'pu'],\n",
              " ['tuba', 'abut'],\n",
              " ['os', 'so'],\n",
              " ['hoop', 'pooh'],\n",
              " ['kroc', 'cork'],\n",
              " ['tug', 'gut'],\n",
              " ['spit', 'tips'],\n",
              " ['nomad', 'damon'],\n",
              " ['annam', 'manna'],\n",
              " ['slop', 'pols'],\n",
              " ['avis', 'siva'],\n",
              " ['relive', 'eviler'],\n",
              " ['knits', 'stink'],\n",
              " ['tog', 'got'],\n",
              " ['net', 'ten'],\n",
              " ['pool', 'loop'],\n",
              " ['ate', 'eta'],\n",
              " ['bp', 'pb'],\n",
              " ['pin', 'nip'],\n",
              " ['yam', 'may'],\n",
              " ['am', 'ma'],\n",
              " ['raw', 'war'],\n",
              " ['leper', 'repel'],\n",
              " ['burg', 'grub'],\n",
              " ['mils', 'slim'],\n",
              " ['etna', 'ante'],\n",
              " ['ho', 'oh'],\n",
              " ['ward', 'draw'],\n",
              " ['seton', 'notes'],\n",
              " ['draws', 'sward'],\n",
              " ['step', 'pets'],\n",
              " ['spool', 'loops'],\n",
              " ['flog', 'golf'],\n",
              " ['not', 'ton'],\n",
              " ['laud', 'dual'],\n",
              " ['sleek', 'keels'],\n",
              " ['ah', 'ha'],\n",
              " ['nam', 'man'],\n",
              " ['gel', 'leg'],\n",
              " ['strop', 'ports'],\n",
              " ['gas', 'sag'],\n",
              " ['decaf', 'faced'],\n",
              " ['saab', 'baas'],\n",
              " ['snit', 'tins'],\n",
              " ['lien', 'neil'],\n",
              " ['keep', 'peek'],\n",
              " ['way', 'yaw'],\n",
              " ['note', 'eton'],\n",
              " ['sore', 'eros'],\n",
              " ['ages', 'sega'],\n",
              " ['ac', 'ca'],\n",
              " ['sloops', 'spools'],\n",
              " ['errol', 'lorre'],\n",
              " ['gal', 'lag'],\n",
              " ['remark', 'kramer'],\n",
              " ['trebled', 'delbert'],\n",
              " ['ron', 'nor'],\n",
              " ['gem', 'meg'],\n",
              " ['tip', 'pit'],\n",
              " ['yak', 'kay'],\n",
              " ['dis', 'sid'],\n",
              " ['id', 'di'],\n",
              " ['lager', 'regal'],\n",
              " ['dam', 'mad'],\n",
              " ['smut', 'tums'],\n",
              " ['dim', 'mid'],\n",
              " ['looter', 'retool'],\n",
              " ['snap', 'pans'],\n",
              " ['maws', 'swam'],\n",
              " ['sup', 'pus'],\n",
              " ['pan', 'nap'],\n",
              " ['nub', 'bun'],\n",
              " ['erie', 'eire'],\n",
              " ['delia', 'ailed'],\n",
              " ['si', 'is'],\n",
              " ['saw', 'was'],\n",
              " ['lop', 'pol'],\n",
              " ['nut', 'tun'],\n",
              " ['ban', 'nab'],\n",
              " ['ref', 'fer'],\n",
              " ['plug', 'gulp'],\n",
              " ['slag', 'gals'],\n",
              " ['won', 'now'],\n",
              " ['in', 'ni'],\n",
              " ['nil', 'lin'],\n",
              " ['nib', 'bin'],\n",
              " ['pay', 'yap'],\n",
              " ['spam', 'maps'],\n",
              " ['deeps', 'speed'],\n",
              " ['ex', 'xe'],\n",
              " ['tan', 'nat'],\n",
              " ['spay', 'yaps'],\n",
              " ['raja', 'ajar'],\n",
              " ['ti', 'it'],\n",
              " ['ali', 'ila'],\n",
              " ['nuts', 'stun'],\n",
              " ['bur', 'rub'],\n",
              " ['stressed', 'desserts'],\n",
              " ['snaps', 'spans'],\n",
              " ['um', 'mu'],\n",
              " ['wed', 'dew'],\n",
              " ['devil', 'lived'],\n",
              " ['lever', 'revel'],\n",
              " ['rep', 'per'],\n",
              " ['doom', 'mood'],\n",
              " ['deb', 'bed'],\n",
              " ['bat', 'tab'],\n",
              " ['sports', 'strops'],\n",
              " ['gnat', 'tang'],\n",
              " ['lime', 'emil'],\n",
              " ['denim', 'mined'],\n",
              " ['cod', 'doc'],\n",
              " ['deep', 'peed'],\n",
              " ['bud', 'dub'],\n",
              " ['debut', 'tubed'],\n",
              " ['bag', 'gab'],\n",
              " ['ina', 'ani'],\n",
              " ['decal', 'laced'],\n",
              " ['god', 'dog'],\n",
              " ['warts', 'straw'],\n",
              " ['some', 'emos'],\n",
              " ['regor', 'roger'],\n",
              " ['mit', 'tim']]"
            ]
          },
          "metadata": {},
          "execution_count": 60
        }
      ]
    },
    {
      "cell_type": "markdown",
      "metadata": {
        "id": "BHrtKam018x9"
      },
      "source": [
        "BONUS QUESTION JUST FOR FUN: What is the longest reverse pair in this word list?"
      ]
    },
    {
      "cell_type": "code",
      "execution_count": 48,
      "metadata": {
        "id": "6KoCaqtT18x9"
      },
      "outputs": [],
      "source": [
        "from typing import List\n",
        "from collections import defaultdict\n",
        "\n",
        "def longest_reverse_pair(word_list: List) -> List:\n",
        "    reverse_pair_dict = defaultdict(list)\n",
        "\n",
        "    for word in word_list:\n",
        "        if not reverse_pair_dict[''.join(sorted(word))]:\n",
        "            reverse_pair_dict[''.join(sorted(word))].append(word)\n",
        "        else:\n",
        "            if reverse_pair_dict[''.join(sorted(word))][0][::-1] == word and reverse_pair_dict[''.join(sorted(word))][0] != word:\n",
        "                reverse_pair_dict[''.join(sorted(word))].append(word)\n",
        "\n",
        "    reverse_pairs = []\n",
        "\n",
        "    for key,value in reverse_pair_dict.items():\n",
        "        if len(value) > 1:\n",
        "            reverse_pairs.append(value)\n",
        "\n",
        "    return reverse_pairs"
      ]
    },
    {
      "cell_type": "code",
      "execution_count": 48,
      "metadata": {
        "id": "HM_bJF_418x9"
      },
      "outputs": [],
      "source": []
    }
  ],
  "metadata": {
    "kernelspec": {
      "display_name": "Python 3",
      "language": "python",
      "name": "python3"
    },
    "language_info": {
      "codemirror_mode": {
        "name": "ipython",
        "version": 3
      },
      "file_extension": ".py",
      "mimetype": "text/x-python",
      "name": "python",
      "nbconvert_exporter": "python",
      "pygments_lexer": "ipython3",
      "version": "3.9.4"
    },
    "colab": {
      "provenance": []
    }
  },
  "nbformat": 4,
  "nbformat_minor": 0
}