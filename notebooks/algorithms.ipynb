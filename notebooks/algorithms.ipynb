{
  "cells": [
    {
      "cell_type": "markdown",
      "metadata": {
        "id": "view-in-github",
        "colab_type": "text"
      },
      "source": [
        "<a href=\"https://colab.research.google.com/github/MocktaiLEngineer/Data-Structures-And-Information-Retreival-in-Python/blob/main/notebooks/algorithms.ipynb\" target=\"_parent\"><img src=\"https://colab.research.google.com/assets/colab-badge.svg\" alt=\"Open In Colab\"/></a>"
      ]
    },
    {
      "cell_type": "markdown",
      "metadata": {
        "id": "pRXfhIfauWts"
      },
      "source": [
        "# Algorithms"
      ]
    },
    {
      "cell_type": "markdown",
      "metadata": {
        "id": "o2TA_9zzuWtu"
      },
      "source": [
        "[Click here to run this chapter on Colab](https://colab.research.google.com/github/AllenDowney/DSIRP/blob/main/notebooks/algorithms.ipynb)"
      ]
    },
    {
      "cell_type": "markdown",
      "metadata": {
        "id": "2Y11SvHpuWtu"
      },
      "source": [
        "## Searching for anagrams\n",
        "\n",
        "In this notebook we'll implement algorithms for two tasks:\n",
        "\n",
        "* Testing a pair of words to see if they are anagrams of each other, that is, if you can rearrange the letters in one word to spell the other.\n",
        "\n",
        "* Searching a list of words for all pairs that are anagrams of each other.\n",
        "\n",
        "There is a point to these examples, which I will explain at the end."
      ]
    },
    {
      "cell_type": "markdown",
      "metadata": {
        "id": "9WqiUUBfuWtu"
      },
      "source": [
        "**Exercise 1:** Write a function that takes two words and returns `True` if they are anagrams. Test your function with the examples below."
      ]
    },
    {
      "cell_type": "markdown",
      "source": [
        "**Answer:** I have explored three possible solutions for this task - \n",
        "1.   Build the char count for each word, store it in a dict, return True if the dicts are equal, else return False.\n",
        "2.   Builds the character count for the first word and stores it in a dictionary, and returns True if the dictionaries are equal, else False.\n",
        "3.   Sort the characters in ascending or descending order for both of the words, compare the sorted words, return True if they are equal, else False.\n",
        "\n",
        "\n",
        "\n"
      ],
      "metadata": {
        "id": "yilVi63N8O4V"
      }
    },
    {
      "cell_type": "markdown",
      "source": [
        "**First possible solution:**"
      ],
      "metadata": {
        "id": "MI2wOMr-9hF0"
      }
    },
    {
      "cell_type": "code",
      "execution_count": 2,
      "metadata": {
        "id": "v4DONj8QuWtu"
      },
      "outputs": [],
      "source": [
        "from collections import defaultdict\n",
        "\n",
        "def is_anagram(word1: str, word2: str) -> bool:\n",
        "    '''\n",
        "    Builds the character count for each word and stores it in a dictionary, and returns True if the dictionaries are equal, else False. \n",
        "    '''\n",
        "    word1_char_count = defaultdict(int)\n",
        "\n",
        "    for char in word1:\n",
        "        word1_char_count[char] += 1\n",
        "\n",
        "    word2_char_count = defaultdict(int)\n",
        "\n",
        "    for char in word2:\n",
        "        word2_char_count[char] += 1\n",
        "\n",
        "    if word1_char_count == word2_char_count:\n",
        "        return True\n",
        "    return False"
      ]
    },
    {
      "cell_type": "code",
      "execution_count": 3,
      "metadata": {
        "colab": {
          "base_uri": "https://localhost:8080/"
        },
        "id": "l2bbQjGYuWtv",
        "outputId": "14ed30b1-c928-4a2a-ba5d-f5435b8c90ef"
      },
      "outputs": [
        {
          "output_type": "execute_result",
          "data": {
            "text/plain": [
              "True"
            ]
          },
          "metadata": {},
          "execution_count": 3
        }
      ],
      "source": [
        "is_anagram('tachymetric', 'mccarthyite') # True"
      ]
    },
    {
      "cell_type": "code",
      "execution_count": 4,
      "metadata": {
        "colab": {
          "base_uri": "https://localhost:8080/"
        },
        "id": "QqUOg1kxuWtv",
        "outputId": "9010045e-314e-4b4f-d494-21fafdf15617"
      },
      "outputs": [
        {
          "output_type": "execute_result",
          "data": {
            "text/plain": [
              "False"
            ]
          },
          "metadata": {},
          "execution_count": 4
        }
      ],
      "source": [
        "is_anagram('post', 'top') # False, letter not present"
      ]
    },
    {
      "cell_type": "code",
      "execution_count": 5,
      "metadata": {
        "colab": {
          "base_uri": "https://localhost:8080/"
        },
        "id": "9ocAH0nGuWtw",
        "outputId": "c7d3d06f-28ad-4854-a3be-277ee965b518"
      },
      "outputs": [
        {
          "output_type": "execute_result",
          "data": {
            "text/plain": [
              "False"
            ]
          },
          "metadata": {},
          "execution_count": 5
        }
      ],
      "source": [
        "is_anagram('pott', 'top') # False, letter present but not enough copies"
      ]
    },
    {
      "cell_type": "code",
      "execution_count": 6,
      "metadata": {
        "colab": {
          "base_uri": "https://localhost:8080/"
        },
        "id": "M5Z1wsnNuWtw",
        "outputId": "c5f09f00-1db7-4223-b5e3-7a32a64082e1"
      },
      "outputs": [
        {
          "output_type": "execute_result",
          "data": {
            "text/plain": [
              "False"
            ]
          },
          "metadata": {},
          "execution_count": 6
        }
      ],
      "source": [
        "is_anagram('top', 'post') # False, letters left over at the end"
      ]
    },
    {
      "cell_type": "code",
      "execution_count": 7,
      "metadata": {
        "colab": {
          "base_uri": "https://localhost:8080/"
        },
        "id": "xzI_-5fZuWtw",
        "outputId": "5d05fbbf-7daf-46e8-842c-479c58575a2f"
      },
      "outputs": [
        {
          "output_type": "execute_result",
          "data": {
            "text/plain": [
              "False"
            ]
          },
          "metadata": {},
          "execution_count": 7
        }
      ],
      "source": [
        "is_anagram('topss', 'postt') # False"
      ]
    },
    {
      "cell_type": "markdown",
      "source": [
        "**Second possible solution:**"
      ],
      "metadata": {
        "id": "ABqKv2Yz9nny"
      }
    },
    {
      "cell_type": "code",
      "execution_count": 8,
      "metadata": {
        "id": "Zqi5qrsIuWtv"
      },
      "outputs": [],
      "source": [
        "from collections import defaultdict\n",
        "\n",
        "def is_anagram(word1: str, word2: str) -> bool:\n",
        "    '''\n",
        "    Builds the character count for the first word and stores it in a dictionary,\n",
        "    and returns True if the dictionaries are equal, else False. \n",
        "    '''\n",
        "    word_char_count = defaultdict(int)\n",
        "\n",
        "    for char in word1:\n",
        "        word_char_count[char] += 1\n",
        "\n",
        "    word2_char_count = defaultdict(int)\n",
        "\n",
        "    for char in word2:\n",
        "        word_char_count[char] -= 1\n",
        "\n",
        "    for key,value in word_char_count.items():\n",
        "        if value != 0:\n",
        "            return False\n",
        "\n",
        "    return True"
      ]
    },
    {
      "cell_type": "code",
      "execution_count": 9,
      "metadata": {
        "colab": {
          "base_uri": "https://localhost:8080/"
        },
        "id": "Fad586azuWtv",
        "outputId": "8c091b6f-8721-423e-90c3-584c8cb0c31c"
      },
      "outputs": [
        {
          "output_type": "execute_result",
          "data": {
            "text/plain": [
              "True"
            ]
          },
          "metadata": {},
          "execution_count": 9
        }
      ],
      "source": [
        "is_anagram('tachymetric', 'mccarthyite') # True"
      ]
    },
    {
      "cell_type": "code",
      "execution_count": 10,
      "metadata": {
        "colab": {
          "base_uri": "https://localhost:8080/"
        },
        "id": "s3LuV5A1uWtv",
        "outputId": "21c5e694-6e3d-4a5e-fe60-ee6270778f69"
      },
      "outputs": [
        {
          "output_type": "execute_result",
          "data": {
            "text/plain": [
              "False"
            ]
          },
          "metadata": {},
          "execution_count": 10
        }
      ],
      "source": [
        "is_anagram('post', 'top') # False, letter not present"
      ]
    },
    {
      "cell_type": "code",
      "source": [
        "is_anagram('pott', 'top') # False, letter present but not enough copies"
      ],
      "metadata": {
        "colab": {
          "base_uri": "https://localhost:8080/"
        },
        "id": "smv7nQ0C8CT8",
        "outputId": "ba38a6bb-8626-4af9-a861-1c9c97fbd8f1"
      },
      "execution_count": 11,
      "outputs": [
        {
          "output_type": "execute_result",
          "data": {
            "text/plain": [
              "False"
            ]
          },
          "metadata": {},
          "execution_count": 11
        }
      ]
    },
    {
      "cell_type": "code",
      "source": [
        "is_anagram('top', 'post') # False, letters left over at the end"
      ],
      "metadata": {
        "colab": {
          "base_uri": "https://localhost:8080/"
        },
        "id": "vBOhoY428CMV",
        "outputId": "99c878d4-890f-4503-d643-7bd00b25d5e1"
      },
      "execution_count": 12,
      "outputs": [
        {
          "output_type": "execute_result",
          "data": {
            "text/plain": [
              "False"
            ]
          },
          "metadata": {},
          "execution_count": 12
        }
      ]
    },
    {
      "cell_type": "code",
      "source": [
        "is_anagram('topss', 'postt') # False"
      ],
      "metadata": {
        "colab": {
          "base_uri": "https://localhost:8080/"
        },
        "id": "2HghoNM18CDU",
        "outputId": "1f7612d5-1027-4e4a-fb34-a34a703ef243"
      },
      "execution_count": 13,
      "outputs": [
        {
          "output_type": "execute_result",
          "data": {
            "text/plain": [
              "False"
            ]
          },
          "metadata": {},
          "execution_count": 13
        }
      ]
    },
    {
      "cell_type": "markdown",
      "source": [
        "**Third possible solution:**"
      ],
      "metadata": {
        "id": "iVWfjUpu9sfB"
      }
    },
    {
      "cell_type": "code",
      "source": [
        "def is_anagram(word1: str, word2: str) -> bool:\n",
        "    '''\n",
        "    Sort the characters in ascending or descending order for both the words,\n",
        "    return True if the sorted words are equal, else False.\n",
        "    '''\n",
        "\n",
        "    return sorted(word1) == sorted(word2)"
      ],
      "metadata": {
        "id": "dl_U2j4g9yCV"
      },
      "execution_count": 14,
      "outputs": []
    },
    {
      "cell_type": "code",
      "source": [
        "is_anagram('tachymetric', 'mccarthyite') # True"
      ],
      "metadata": {
        "colab": {
          "base_uri": "https://localhost:8080/"
        },
        "id": "ih9UyC5r-Gob",
        "outputId": "5ab5c605-5ed6-4a80-9762-77b87d1e261b"
      },
      "execution_count": 15,
      "outputs": [
        {
          "output_type": "execute_result",
          "data": {
            "text/plain": [
              "True"
            ]
          },
          "metadata": {},
          "execution_count": 15
        }
      ]
    },
    {
      "cell_type": "code",
      "source": [
        "is_anagram('post', 'top') # False, letter not present"
      ],
      "metadata": {
        "colab": {
          "base_uri": "https://localhost:8080/"
        },
        "id": "dy-UuGTD-KQU",
        "outputId": "764adc45-ade1-489a-a1f4-eabf3ad9b85e"
      },
      "execution_count": 16,
      "outputs": [
        {
          "output_type": "execute_result",
          "data": {
            "text/plain": [
              "False"
            ]
          },
          "metadata": {},
          "execution_count": 16
        }
      ]
    },
    {
      "cell_type": "code",
      "source": [
        "is_anagram('pott', 'top') # False, letter present but not enough copies"
      ],
      "metadata": {
        "colab": {
          "base_uri": "https://localhost:8080/"
        },
        "id": "v33fGYIU-KLP",
        "outputId": "168f9d31-882c-4478-ec66-3475954ee253"
      },
      "execution_count": 17,
      "outputs": [
        {
          "output_type": "execute_result",
          "data": {
            "text/plain": [
              "False"
            ]
          },
          "metadata": {},
          "execution_count": 17
        }
      ]
    },
    {
      "cell_type": "code",
      "source": [
        "is_anagram('top', 'post') # False, letters left over at the end"
      ],
      "metadata": {
        "colab": {
          "base_uri": "https://localhost:8080/"
        },
        "id": "25zG27OF-KGa",
        "outputId": "9d89afea-76d6-4e07-9430-b3034454d23a"
      },
      "execution_count": 18,
      "outputs": [
        {
          "output_type": "execute_result",
          "data": {
            "text/plain": [
              "False"
            ]
          },
          "metadata": {},
          "execution_count": 18
        }
      ]
    },
    {
      "cell_type": "code",
      "source": [
        "is_anagram('topss', 'postt') # False"
      ],
      "metadata": {
        "colab": {
          "base_uri": "https://localhost:8080/"
        },
        "id": "3L9gyu9s-J_A",
        "outputId": "3d64a952-9ef3-4ba6-b431-c12306d55287"
      },
      "execution_count": 19,
      "outputs": [
        {
          "output_type": "execute_result",
          "data": {
            "text/plain": [
              "False"
            ]
          },
          "metadata": {},
          "execution_count": 19
        }
      ]
    },
    {
      "cell_type": "markdown",
      "source": [
        "**Time and Space Complexity for each of the solutions:**\n",
        "\n",
        "```markdown\n",
        "              |  Time Complexity  | Space Complexity \n",
        "--------------|-------------------|------------------\n",
        "Solution 1    |  O(n)             | O(n) \n",
        "Solution 2    |  O(n)             | O(n) \n",
        "Solution 3    |  O(nlogn)         | O(n)\n",
        "```"
      ],
      "metadata": {
        "id": "3Q3F3jDP-cIU"
      }
    },
    {
      "cell_type": "markdown",
      "metadata": {
        "id": "oVaa8B_5uWtw"
      },
      "source": [
        "**Exercise 2:** Use `timeit` to see how fast your function is for these examples:"
      ]
    },
    {
      "cell_type": "code",
      "execution_count": 20,
      "metadata": {
        "colab": {
          "base_uri": "https://localhost:8080/"
        },
        "id": "PJyvbz43uWtw",
        "outputId": "68505c53-3a58-4191-b927-491d4faaf63a"
      },
      "outputs": [
        {
          "output_type": "stream",
          "name": "stdout",
          "text": [
            "906 ns ± 309 ns per loop (mean ± std. dev. of 7 runs, 1000000 loops each)\n"
          ]
        }
      ],
      "source": [
        "%timeit is_anagram('tops', 'spot')"
      ]
    },
    {
      "cell_type": "code",
      "execution_count": 21,
      "metadata": {
        "colab": {
          "base_uri": "https://localhost:8080/"
        },
        "id": "6t93wu7euWtw",
        "outputId": "64f40a87-4246-4c0b-c6de-25b97b0c9c52"
      },
      "outputs": [
        {
          "output_type": "stream",
          "name": "stdout",
          "text": [
            "1.16 µs ± 24.1 ns per loop (mean ± std. dev. of 7 runs, 1000000 loops each)\n"
          ]
        }
      ],
      "source": [
        "%timeit is_anagram('tachymetric', 'mccarthyite')"
      ]
    },
    {
      "cell_type": "markdown",
      "metadata": {
        "id": "CDvew_EDuWtw"
      },
      "source": [
        "How can we compare algorithms running on different computers?"
      ]
    },
    {
      "cell_type": "markdown",
      "metadata": {
        "id": "6zfBACUxuWtw"
      },
      "source": [
        "## Searching for anagram pairs"
      ]
    },
    {
      "cell_type": "markdown",
      "metadata": {
        "id": "4XldVpGouWtw"
      },
      "source": [
        "**Exercise 3:** Write a function that takes a word list and returns a list of all anagram pairs."
      ]
    },
    {
      "cell_type": "code",
      "execution_count": 22,
      "metadata": {
        "id": "3cYOq-NeuWtw"
      },
      "outputs": [],
      "source": [
        "short_word_list = ['proudest', 'stop', 'pots', 'tops', 'sprouted']"
      ]
    },
    {
      "cell_type": "code",
      "execution_count": 23,
      "metadata": {
        "id": "5_U7bzmwuWtw"
      },
      "outputs": [],
      "source": [
        "from collections import defaultdict\n",
        "from typing import List\n",
        "\n",
        "def all_anagram_pairs(word_list: List[str]):\n",
        "    '''\n",
        "    Builds a dictionary, whose key is the sorted version of the words which are anagrams and the value is a list of words\n",
        "    which are anagrams of each other.\n",
        "    '''\n",
        "    anagrams = defaultdict(list)\n",
        "    \n",
        "    for word in word_list:\n",
        "        anagrams[''.join(sorted(word))].append(word)\n",
        "\n",
        "    return anagrams\n"
      ]
    },
    {
      "cell_type": "code",
      "execution_count": 24,
      "metadata": {
        "colab": {
          "base_uri": "https://localhost:8080/"
        },
        "id": "0U7avAqxuWtx",
        "outputId": "a78d232c-be4f-45af-c6a8-02cc3890df50"
      },
      "outputs": [
        {
          "output_type": "execute_result",
          "data": {
            "text/plain": [
              "defaultdict(list,\n",
              "            {'deoprstu': ['proudest', 'sprouted'],\n",
              "             'opst': ['stop', 'pots', 'tops']})"
            ]
          },
          "metadata": {},
          "execution_count": 24
        }
      ],
      "source": [
        "all_anagram_pairs(short_word_list)"
      ]
    },
    {
      "cell_type": "markdown",
      "metadata": {
        "id": "PDYj0_EduWtx"
      },
      "source": [
        "The following cell downloads a file containing a list of English words."
      ]
    },
    {
      "cell_type": "code",
      "execution_count": 25,
      "metadata": {
        "colab": {
          "base_uri": "https://localhost:8080/"
        },
        "id": "VA1xOBTfuWtx",
        "outputId": "34ea97bd-3344-4687-d845-b86c87019836"
      },
      "outputs": [
        {
          "output_type": "stream",
          "name": "stdout",
          "text": [
            "Downloaded american-english\n"
          ]
        }
      ],
      "source": [
        "from os.path import basename, exists\n",
        "\n",
        "def download(url):\n",
        "    filename = basename(url)\n",
        "    if not exists(filename):\n",
        "        from urllib.request import urlretrieve\n",
        "        local, _ = urlretrieve(url, filename)\n",
        "        print('Downloaded ' + local)\n",
        "    \n",
        "download('https://github.com/AllenDowney/DSIRP/raw/main/american-english')"
      ]
    },
    {
      "cell_type": "markdown",
      "metadata": {
        "id": "21lDGhTCuWtx"
      },
      "source": [
        "The following function reads a file and returns a set of words (I used a set because after we convert words to lower case, there are some repeats.)"
      ]
    },
    {
      "cell_type": "code",
      "execution_count": 26,
      "metadata": {
        "id": "Kf6bgWejuWtx"
      },
      "outputs": [],
      "source": [
        "def read_words(filename):\n",
        "    \"\"\"Read lines from a file and split them into words.\"\"\"\n",
        "    res = set()\n",
        "    for line in open(filename):\n",
        "        for word in line.split():\n",
        "            res.add(word.strip().lower())\n",
        "    return res"
      ]
    },
    {
      "cell_type": "code",
      "execution_count": 27,
      "metadata": {
        "colab": {
          "base_uri": "https://localhost:8080/"
        },
        "id": "kwGQemMguWtx",
        "outputId": "de68aba2-c133-4270-f3ae-2518eb65caf6"
      },
      "outputs": [
        {
          "output_type": "execute_result",
          "data": {
            "text/plain": [
              "100781"
            ]
          },
          "metadata": {},
          "execution_count": 27
        }
      ],
      "source": [
        "word_list = read_words('american-english')\n",
        "len(word_list)"
      ]
    },
    {
      "cell_type": "markdown",
      "metadata": {
        "id": "PsHItHAvuWtx"
      },
      "source": [
        "**Exercise 4:** Loop through the word list and print all words that are anagrams of `stop`."
      ]
    },
    {
      "cell_type": "code",
      "execution_count": 27,
      "metadata": {
        "id": "LhFxuFk2uWtx"
      },
      "outputs": [],
      "source": []
    },
    {
      "cell_type": "markdown",
      "metadata": {
        "id": "E3tuFa_YuWtx"
      },
      "source": [
        "Now run `all_anagram_pairs` with the full `word_list`:"
      ]
    },
    {
      "cell_type": "code",
      "execution_count": 28,
      "metadata": {
        "id": "0T_qwCxQuWtx"
      },
      "outputs": [],
      "source": [
        "pairs = all_anagram_pairs(word_list)"
      ]
    },
    {
      "cell_type": "markdown",
      "metadata": {
        "id": "j9pOqCKxuWtx"
      },
      "source": [
        "**Exercise 5:** While that's running, let's estimate how long it's going to take."
      ]
    },
    {
      "cell_type": "code",
      "execution_count": 29,
      "metadata": {
        "colab": {
          "base_uri": "https://localhost:8080/"
        },
        "id": "M2AAf3_muWty",
        "outputId": "a4769d08-b4a2-4d61-da38-a36b4d70cea9"
      },
      "outputs": [
        {
          "output_type": "stream",
          "name": "stdout",
          "text": [
            "169 ms ± 1.93 ms per loop (mean ± std. dev. of 7 runs, 10 loops each)\n"
          ]
        }
      ],
      "source": [
        "%timeit all_anagram_pairs(word_list)"
      ]
    },
    {
      "cell_type": "markdown",
      "metadata": {
        "id": "rICDOhTLuWty"
      },
      "source": [
        "## A better algorithm\n",
        "\n",
        "**Exercise 6:** Write a better algorithm! Hint: make a dictionary. How much faster is your algorithm?"
      ]
    },
    {
      "cell_type": "code",
      "execution_count": 30,
      "metadata": {
        "id": "77IjK-MvuWty"
      },
      "outputs": [],
      "source": [
        "from typing import List\n",
        "\n",
        "def all_anagram_lists(word_list: List[str]):\n",
        "    '''\n",
        "    Builds a dictionary, whose key is the sorted version of the words which are anagrams and the value is a list of words\n",
        "    which are anagrams of each other.\n",
        "    '''\n",
        "    anagrams = defaultdict(list)\n",
        "    \n",
        "    for word in word_list:\n",
        "        anagrams[''.join(sorted(word))].append(word)\n",
        "\n",
        "    return anagrams"
      ]
    },
    {
      "cell_type": "code",
      "execution_count": 31,
      "metadata": {
        "colab": {
          "base_uri": "https://localhost:8080/"
        },
        "id": "GgdpwNMduWty",
        "outputId": "2dbe638e-12f6-4401-9a6b-07e52772dbde"
      },
      "outputs": [
        {
          "output_type": "stream",
          "name": "stdout",
          "text": [
            "CPU times: user 255 ms, sys: 2 ms, total: 257 ms\n",
            "Wall time: 258 ms\n"
          ]
        }
      ],
      "source": [
        "%time anagram_map = all_anagram_lists(word_list)"
      ]
    },
    {
      "cell_type": "code",
      "source": [
        "anagram_map = all_anagram_lists(word_list)"
      ],
      "metadata": {
        "id": "S660_W2WxH4o"
      },
      "execution_count": 32,
      "outputs": []
    },
    {
      "cell_type": "code",
      "execution_count": 33,
      "metadata": {
        "colab": {
          "base_uri": "https://localhost:8080/"
        },
        "id": "FzbwLIVvuWty",
        "outputId": "4454cf8c-11cd-4707-c662-aed4562865d5"
      },
      "outputs": [
        {
          "output_type": "execute_result",
          "data": {
            "text/plain": [
              "93406"
            ]
          },
          "metadata": {},
          "execution_count": 33
        }
      ],
      "source": [
        "len(anagram_map)"
      ]
    },
    {
      "cell_type": "markdown",
      "metadata": {
        "id": "Oub92DV8uWty"
      },
      "source": [
        "## Summary\n",
        "\n",
        "What is the point of the examples in this notebook?\n",
        "\n",
        "* The different versions of `is_anagram` show that, when inputs are small, it is hard to say which algorithm will be the fastest. It often depends on details of the implementation. Anyway, the differences tend to be small, so it might not matter much in practice.\n",
        "\n",
        "* The different algorithms we used to search for anagram pairs show that, when inputs are large, we can often tell which algorithm will be fastest. And the difference between a fast algorithm and a slow one can be huge!"
      ]
    },
    {
      "cell_type": "markdown",
      "metadata": {
        "id": "vGX0gVm5uWty"
      },
      "source": [
        "## Exercises\n",
        "\n",
        "Before you work on these exercises, you might want to read the Python [Sorting How-To](https://docs.python.org/3/howto/sorting.html). It uses `lambda` to define an anonymous function, which [you can read about here](https://www.w3schools.com/python/python_lambda.asp).\n",
        "\n",
        "**Exercise 7:**\n",
        "Make a dictionary like `anagram_map` that contains only keys that map to a list with more than one element. You can use a `for` loop to make a new dictionary, or a [dictionary comprehension](https://www.freecodecamp.org/news/dictionary-comprehension-in-python-explained-with-examples/)."
      ]
    },
    {
      "cell_type": "code",
      "execution_count": 34,
      "metadata": {
        "id": "00n3Asm6uWty"
      },
      "outputs": [],
      "source": [
        "anagrams = {key for key,value in anagram_map.items() if len(value) > 1}"
      ]
    },
    {
      "cell_type": "code",
      "source": [
        "anagrams"
      ],
      "metadata": {
        "colab": {
          "base_uri": "https://localhost:8080/"
        },
        "id": "meiWD5Bd7OIR",
        "outputId": "4ada2996-e013-4af7-9cfc-380a86b16274"
      },
      "execution_count": 35,
      "outputs": [
        {
          "output_type": "execute_result",
          "data": {
            "text/plain": [
              "{'ailpu',\n",
              " 'acellrs',\n",
              " 'eiprs',\n",
              " 'aeort',\n",
              " 'abehrt',\n",
              " \"'apsst\",\n",
              " 'aekmrrs',\n",
              " 'deimmr',\n",
              " 'aillortt',\n",
              " 'ceeinorst',\n",
              " 'aborst',\n",
              " 'abdilr',\n",
              " 'aginpprst',\n",
              " 'adeerr',\n",
              " 'bnory',\n",
              " 'ajnstu',\n",
              " 'ehnost',\n",
              " 'aeilnp',\n",
              " 'acdir',\n",
              " 'deilstu',\n",
              " 'aailss',\n",
              " 'ademt',\n",
              " 'ahprs',\n",
              " 'belmorsy',\n",
              " 'cdeilo',\n",
              " 'aegilnsst',\n",
              " 'abegln',\n",
              " 'agimnr',\n",
              " 'aeeegnrst',\n",
              " 'ceiikr',\n",
              " 'bdeeill',\n",
              " 'gory',\n",
              " 'aeehrtw',\n",
              " 'deeirsv',\n",
              " \"'chist\",\n",
              " 'efrs',\n",
              " 'abeerst',\n",
              " 'ilsst',\n",
              " 'adeginrrw',\n",
              " \"'eensss\",\n",
              " \"'aeeijnns\",\n",
              " 'ceops',\n",
              " \"'egnors\",\n",
              " 'eirt',\n",
              " 'iklo',\n",
              " 'gnu',\n",
              " \"'eprsy\",\n",
              " \"'ackss\",\n",
              " 'aeeiimprstv',\n",
              " \"'afiilnorstt\",\n",
              " 'aels',\n",
              " 'abeglr',\n",
              " 'acdertu',\n",
              " 'gnow',\n",
              " 'aacnpst',\n",
              " 'behlssu',\n",
              " \"'aeglrs\",\n",
              " 'aaclrss',\n",
              " 'loost',\n",
              " 'adefltu',\n",
              " 'aaegmn',\n",
              " \"'adhnsy\",\n",
              " 'eenrw',\n",
              " \"'abehrs\",\n",
              " 'agillnsy',\n",
              " 'alms',\n",
              " \"'absst\",\n",
              " 'adellott',\n",
              " 'abdeirss',\n",
              " \"'acehoprs\",\n",
              " 'adeilms',\n",
              " 'cefhis',\n",
              " \"'bilssy\",\n",
              " 'adeiinoprtt',\n",
              " 'estw',\n",
              " 'ijno',\n",
              " 'ailmrstu',\n",
              " 'dggilno',\n",
              " \"'orst\",\n",
              " 'aeilrrst',\n",
              " 'aaegstwy',\n",
              " 'akos',\n",
              " \"'ahstw\",\n",
              " 'achks',\n",
              " 'eijnors',\n",
              " 'dorsw',\n",
              " \"'eehrst\",\n",
              " 'elorss',\n",
              " 'eefl',\n",
              " 'aeeinnoprstt',\n",
              " 'accehst',\n",
              " 'arstt',\n",
              " 'agikmns',\n",
              " 'adis',\n",
              " 'ahmnu',\n",
              " 'cdeoprru',\n",
              " \"'eilostt\",\n",
              " 'amrst',\n",
              " 'eeginpsw',\n",
              " 'aemt',\n",
              " 'eeilrv',\n",
              " 'eilv',\n",
              " \"'eirss\",\n",
              " 'pssu',\n",
              " \"'aeilrrst\",\n",
              " \"'aceils\",\n",
              " 'adeiss',\n",
              " 'acemnor',\n",
              " 'adegrty',\n",
              " 'aehmnr',\n",
              " 'delmos',\n",
              " 'bddeeit',\n",
              " 'lmpu',\n",
              " 'acdeiimnot',\n",
              " 'acdeprs',\n",
              " 'aistw',\n",
              " 'aegrs',\n",
              " 'es',\n",
              " \"'aesy\",\n",
              " 'agnw',\n",
              " 'ekorrsw',\n",
              " \"'derrsy\",\n",
              " \"'deinsw\",\n",
              " 'eeimprsss',\n",
              " \"'hrstu\",\n",
              " 'ginrs',\n",
              " 'beimrst',\n",
              " \"'einpsst\",\n",
              " 'aaclr',\n",
              " 'aeginr',\n",
              " 'eloss',\n",
              " \"'deiss\",\n",
              " 'eimprs',\n",
              " 'aeegnr',\n",
              " 'ceors',\n",
              " 'bnoo',\n",
              " 'aeghnopt',\n",
              " 'aakos',\n",
              " 'deiks',\n",
              " 'acddeenst',\n",
              " 'acelrt',\n",
              " 'dfnosu',\n",
              " \"'degirs\",\n",
              " 'eil',\n",
              " 'adlnpu',\n",
              " 'aeeimrt',\n",
              " 'cdeeirstt',\n",
              " \"'ellsy\",\n",
              " 'adekn',\n",
              " 'adeimns',\n",
              " 'egirstu',\n",
              " 'deerssst',\n",
              " 'adeeginrr',\n",
              " 'adilv',\n",
              " 'eepsw',\n",
              " 'deeehlw',\n",
              " 'egsstu',\n",
              " 'aagilmnr',\n",
              " 'acepr',\n",
              " 'deossu',\n",
              " 'hrsttu',\n",
              " 'aeginrt',\n",
              " \"'alsw\",\n",
              " 'acemprs',\n",
              " 'efgiinnr',\n",
              " 'coops',\n",
              " \"'eimst\",\n",
              " 'lost',\n",
              " 'deelprsu',\n",
              " 'aeeinnortv',\n",
              " \"'ceeorrssu\",\n",
              " 'aalmnoy',\n",
              " 'bddeir',\n",
              " 'deeirrt',\n",
              " \"'abbsy\",\n",
              " 'eimrs',\n",
              " 'aclrsw',\n",
              " 'ahlst',\n",
              " 'agilnst',\n",
              " 'abdeerst',\n",
              " 'adimno',\n",
              " 'abesu',\n",
              " 'acdegln',\n",
              " 'accehmno',\n",
              " \"'alps\",\n",
              " 'aeksst',\n",
              " 'aeeiprsstt',\n",
              " 'eorstu',\n",
              " 'aacinorst',\n",
              " 'deo',\n",
              " 'aeelrsv',\n",
              " 'abelsy',\n",
              " \"'inpstu\",\n",
              " 'eehmnoorsw',\n",
              " 'bdeerttu',\n",
              " \"'ahopsst\",\n",
              " 'eiln',\n",
              " 'adeeimstt',\n",
              " \"'beensstu\",\n",
              " 'denrsu',\n",
              " 'ailnsty',\n",
              " \"'demos\",\n",
              " 'egorsu',\n",
              " 'aceln',\n",
              " 'opsst',\n",
              " \"'ehoorsst\",\n",
              " 'cdeiorrt',\n",
              " 'abdors',\n",
              " \"'delosy\",\n",
              " 'isttw',\n",
              " 'cefirty',\n",
              " 'cmsu',\n",
              " 'aepry',\n",
              " 'eoprstt',\n",
              " 'abeillrs',\n",
              " 'epry',\n",
              " 'em',\n",
              " \"'adegrrs\",\n",
              " 'aeeirstt',\n",
              " \"'aegrs\",\n",
              " 'deilnssw',\n",
              " \"'deirs\",\n",
              " 'aceginnrt',\n",
              " 'aehks',\n",
              " 'mnoo',\n",
              " 'aegilmnnt',\n",
              " 'mstu',\n",
              " 'deefiilnrs',\n",
              " 'adepst',\n",
              " 'acorsst',\n",
              " 'aeiprss',\n",
              " 'ckors',\n",
              " 'eirsw',\n",
              " 'adnr',\n",
              " 'ceirrstu',\n",
              " 'aagilnv',\n",
              " 'aaceinrst',\n",
              " 'aehknrs',\n",
              " 'aenoopsst',\n",
              " 'adenpp',\n",
              " 'aeiprsst',\n",
              " \"'aeglns\",\n",
              " 'cdru',\n",
              " \"'acensst\",\n",
              " 'deeprss',\n",
              " 'girs',\n",
              " 'acelprs',\n",
              " 'eellprss',\n",
              " 'aegiinnprt',\n",
              " 'belo',\n",
              " 'aaclrs',\n",
              " 'eilpry',\n",
              " 'acehnrst',\n",
              " 'dehlru',\n",
              " \"'aknrs\",\n",
              " 'deforst',\n",
              " 'aceinooprrt',\n",
              " \"'aimns\",\n",
              " 'acrs',\n",
              " 'defloor',\n",
              " 'abek',\n",
              " 'aeprssst',\n",
              " 'eoprsstt',\n",
              " 'clot',\n",
              " 'bilmo',\n",
              " 'deenrs',\n",
              " 'aeginnt',\n",
              " \"'aemrsst\",\n",
              " 'gnsu',\n",
              " 'acely',\n",
              " \"'acemnors\",\n",
              " \"'eimnstu\",\n",
              " 'abdeorr',\n",
              " \"'aesstw\",\n",
              " 'achty',\n",
              " 'abeillr',\n",
              " 'acnoors',\n",
              " 'acdeiiprst',\n",
              " \"'agnost\",\n",
              " 'aginorst',\n",
              " 'aaeemnt',\n",
              " 'aceelnr',\n",
              " 'eeprsu',\n",
              " 'adgilnu',\n",
              " 'ainprstu',\n",
              " 'aehimpsst',\n",
              " 'adelor',\n",
              " 'aclps',\n",
              " 'ex',\n",
              " 'aehnns',\n",
              " 'mopr',\n",
              " 'ceinoprssu',\n",
              " 'aenprstt',\n",
              " 'aeilmnst',\n",
              " 'adenpsx',\n",
              " 'aabcdeorrsst',\n",
              " 'ceghinort',\n",
              " \"'bnossu\",\n",
              " 'aent',\n",
              " 'gimpy',\n",
              " 'ehinrs',\n",
              " 'aft',\n",
              " 'aimosst',\n",
              " \"'aelsst\",\n",
              " \"'begins\",\n",
              " \"'enrst\",\n",
              " 'cerru',\n",
              " 'aahnns',\n",
              " \"'aeglnrs\",\n",
              " 'aeehilrstt',\n",
              " \"'celsu\",\n",
              " \"'efilrst\",\n",
              " 'ahsw',\n",
              " 'aacilr',\n",
              " 'bdeeggrsu',\n",
              " 'beorsw',\n",
              " 'elorw',\n",
              " 'gilnoos',\n",
              " 'enrrstu',\n",
              " \"'adells\",\n",
              " \"'cemost\",\n",
              " 'aceeilmsst',\n",
              " 'beelr',\n",
              " 'aeipprs',\n",
              " 'ehost',\n",
              " \"'ceirs\",\n",
              " 'bdeelrt',\n",
              " \"'enorss\",\n",
              " 'aceenrrt',\n",
              " 'mu',\n",
              " \"'adeimrrs\",\n",
              " \"'aeelsst\",\n",
              " 'bginor',\n",
              " 'adeht',\n",
              " 'eeilmnost',\n",
              " 'opsstu',\n",
              " \"'emors\",\n",
              " \"'aegss\",\n",
              " 'adegr',\n",
              " \"'agost\",\n",
              " 'chinop',\n",
              " 'deippr',\n",
              " 'acen',\n",
              " 'eilor',\n",
              " 'beffrsu',\n",
              " 'cersttu',\n",
              " 'answ',\n",
              " 'aeprsy',\n",
              " 'aet',\n",
              " \"'aadins\",\n",
              " \"'eeenprsst\",\n",
              " 'nrsu',\n",
              " \"'abesst\",\n",
              " 'aceelorss',\n",
              " 'epstu',\n",
              " \"'abders\",\n",
              " 'agilnpsy',\n",
              " 'degloss',\n",
              " 'aadin',\n",
              " \"'aahnssu\",\n",
              " 'imoprst',\n",
              " 'ghnosstu',\n",
              " 'acelns',\n",
              " 'ccehorst',\n",
              " 'aacflrt',\n",
              " 'eeginss',\n",
              " 'abeilmr',\n",
              " 'agps',\n",
              " 'cddeesu',\n",
              " 'adeest',\n",
              " 'acefirstt',\n",
              " 'aaamrs',\n",
              " 'abinos',\n",
              " \"'emrssu\",\n",
              " 'deopt',\n",
              " 'aceghinrtt',\n",
              " 'efillr',\n",
              " 'loss',\n",
              " 'ghostu',\n",
              " 'eggilrsw',\n",
              " \"'ginrs\",\n",
              " 'aehls',\n",
              " 'aaddms',\n",
              " 'adeegnrs',\n",
              " 'egilnorw',\n",
              " \"'dggilnos\",\n",
              " 'celru',\n",
              " \"'aceilnosst\",\n",
              " 'iimnprst',\n",
              " 'ceips',\n",
              " 'eeenrv',\n",
              " 'esst',\n",
              " 'adeinrst',\n",
              " 'acns',\n",
              " 'acnot',\n",
              " 'aenr',\n",
              " \"'eersstt\",\n",
              " 'now',\n",
              " 'aegnors',\n",
              " \"'aksy\",\n",
              " 'aachimrs',\n",
              " 'fist',\n",
              " 'mssu',\n",
              " \"'eilmss\",\n",
              " 'adeeimnnost',\n",
              " 'ceeeilstv',\n",
              " 'eoqtu',\n",
              " 'berstu',\n",
              " \"'imsss\",\n",
              " 'bbdeir',\n",
              " 'aiopst',\n",
              " 'cginorsu',\n",
              " 'deelorw',\n",
              " 'hoost',\n",
              " 'achiint',\n",
              " \"'amnors\",\n",
              " 'cdeginnos',\n",
              " 'cdeefiirt',\n",
              " \"'adeiss\",\n",
              " 'adeimrss',\n",
              " \"'eimrst\",\n",
              " 'abddins',\n",
              " 'einpss',\n",
              " 'aceeirtv',\n",
              " 'aaprst',\n",
              " \"'adrsy\",\n",
              " 'aeinstv',\n",
              " 'ikln',\n",
              " 'aemssu',\n",
              " 'aeprss',\n",
              " 'dhlopu',\n",
              " 'aemns',\n",
              " 'deeimnorsz',\n",
              " 'acertu',\n",
              " \"'aknors\",\n",
              " 'ceirsstu',\n",
              " 'adeehlrt',\n",
              " \"'achoos\",\n",
              " 'ceknor',\n",
              " \"'adelsy\",\n",
              " 'eelmr',\n",
              " \"'chkos\",\n",
              " \"'ceorstv\",\n",
              " 'acks',\n",
              " 'cdegiinnrs',\n",
              " 'fgiiknn',\n",
              " 'aclry',\n",
              " 'aeeinntv',\n",
              " 'deggilns',\n",
              " 'notw',\n",
              " 'aehnsy',\n",
              " 'aelnr',\n",
              " \"'deors\",\n",
              " 'aens',\n",
              " \"'aemns\",\n",
              " \"'erssu\",\n",
              " 'bennot',\n",
              " 'denopr',\n",
              " 'aimnst',\n",
              " 'eimns',\n",
              " 'aeksw',\n",
              " 'cdeor',\n",
              " 'ailprs',\n",
              " \"'cdeors\",\n",
              " 'eeilos',\n",
              " \"'aabdlorrs\",\n",
              " 'iprst',\n",
              " 'pu',\n",
              " \"'acders\",\n",
              " 'eglorv',\n",
              " 'aaailnrstu',\n",
              " 'elmno',\n",
              " 'acelov',\n",
              " 'aclos',\n",
              " \"'adilsv\",\n",
              " 'ahlsu',\n",
              " \"'aeijms\",\n",
              " 'aabln',\n",
              " \"'abeerstt\",\n",
              " 'aeilrss',\n",
              " 'bsstu',\n",
              " 'aadn',\n",
              " 'eginnst',\n",
              " 'eilsw',\n",
              " 'eopr',\n",
              " 'aailntv',\n",
              " \"'anrsy\",\n",
              " 'adeeiss',\n",
              " 'aeeilnpst',\n",
              " 'deorru',\n",
              " 'ceno',\n",
              " 'defmors',\n",
              " 'agiknst',\n",
              " \"'eeirsvw\",\n",
              " 'efghirst',\n",
              " 'acilnu',\n",
              " 'egilru',\n",
              " 'aeehrtt',\n",
              " \"'agnorss\",\n",
              " 'alos',\n",
              " 'gghiins',\n",
              " 'deghilt',\n",
              " 'ampss',\n",
              " \"'elrsstu\",\n",
              " 'adeor',\n",
              " 'giinnns',\n",
              " 'eisstu',\n",
              " 'achnor',\n",
              " \"'emops\",\n",
              " 'emost',\n",
              " \"'aels\",\n",
              " \"'aaeilrsv\",\n",
              " \"'aghilmorst\",\n",
              " 'istw',\n",
              " \"'belmmrsu\",\n",
              " 'loop',\n",
              " \"'adeinnoostt\",\n",
              " 'almtuu',\n",
              " 'adeesv',\n",
              " 'ghis',\n",
              " 'jstu',\n",
              " \"'aaginsu\",\n",
              " \"'adenrss\",\n",
              " 'addeln',\n",
              " 'eilsst',\n",
              " 'ghos',\n",
              " \"'acdefiiinost\",\n",
              " 'aaceilrsv',\n",
              " \"'imnors\",\n",
              " 'ahmnopt',\n",
              " 'achiinrst',\n",
              " \"'adgrs\",\n",
              " 'ekorrw',\n",
              " \"'eginnorst\",\n",
              " 'deentt',\n",
              " 'eoprsst',\n",
              " 'deilrs',\n",
              " 'aegps',\n",
              " 'eginrsv',\n",
              " 'ehirsv',\n",
              " 'ffgiinr',\n",
              " 'admnos',\n",
              " 'deeirssu',\n",
              " 'adennoy',\n",
              " 'aabdor',\n",
              " \"'aors\",\n",
              " 'gilmnpu',\n",
              " 'achor',\n",
              " 'aacorsttu',\n",
              " 'ortu',\n",
              " 'efgors',\n",
              " 'adeelnrtu',\n",
              " 'aelnssu',\n",
              " 'deegs',\n",
              " 'aemrsst',\n",
              " \"'ahirsst\",\n",
              " 'glpsu',\n",
              " \"'gnosw\",\n",
              " 'eint',\n",
              " \"'abds\",\n",
              " 'allosw',\n",
              " 'acorst',\n",
              " 'acehrtt',\n",
              " 'eisv',\n",
              " 'aelprsy',\n",
              " 'aeeirs',\n",
              " \"'aainprsst\",\n",
              " 'low',\n",
              " \"'aflos\",\n",
              " 'dstuy',\n",
              " 'acdeirr',\n",
              " 'deeerv',\n",
              " \"'aalmrs\",\n",
              " 'aeels',\n",
              " \"'adersw\",\n",
              " 'deerstw',\n",
              " 'eiprst',\n",
              " \"'denorsw\",\n",
              " 'adgr',\n",
              " 'aimmoss',\n",
              " 'abders',\n",
              " 'aepv',\n",
              " 'epst',\n",
              " 'eellrst',\n",
              " 'deegls',\n",
              " 'aeenrr',\n",
              " \"'einssw\",\n",
              " 'cehillrs',\n",
              " \"'ensw\",\n",
              " \"'eiklnsw\",\n",
              " 'aalm',\n",
              " 'acnorst',\n",
              " 'cemot',\n",
              " 'eeilrsv',\n",
              " 'acelpsu',\n",
              " 'aefinrss',\n",
              " 'eeelsv',\n",
              " \"'acelosv\",\n",
              " 'aclopsy',\n",
              " 'aegmn',\n",
              " 'aberst',\n",
              " 'eenprst',\n",
              " 'eilrvy',\n",
              " \"'efhlss\",\n",
              " 'eills',\n",
              " 'eginntt',\n",
              " \"'adens\",\n",
              " 'ddeilnps',\n",
              " 'ceeorrsu',\n",
              " \"'aeemnssst\",\n",
              " \"'acprss\",\n",
              " 'einrv',\n",
              " \"'cirsstu\",\n",
              " 'acinost',\n",
              " \"'ackls\",\n",
              " 'eins',\n",
              " 'adely',\n",
              " 'denos',\n",
              " \"'elostw\",\n",
              " \"'aelmprst\",\n",
              " 'abinry',\n",
              " \"'eeinrstty\",\n",
              " \"'beinrstt\",\n",
              " \"'aeilnsssst\",\n",
              " 'adeelry',\n",
              " 'aabem',\n",
              " \"'aefsst\",\n",
              " 'ahirst',\n",
              " 'belorw',\n",
              " 'egiors',\n",
              " 'noopss',\n",
              " \"'bdeist\",\n",
              " \"'aceps\",\n",
              " 'aehrss',\n",
              " 'deiooprst',\n",
              " \"'aemrssu\",\n",
              " \"'eopss\",\n",
              " 'aeilrty',\n",
              " 'egl',\n",
              " \"'films\",\n",
              " 'aceprss',\n",
              " 'cersw',\n",
              " 'ackls',\n",
              " \"'aelmrst\",\n",
              " 'eerv',\n",
              " 'aeiprrs',\n",
              " 'aeeegnrt',\n",
              " 'cehiknt',\n",
              " 'adim',\n",
              " 'bekoor',\n",
              " \"'alostuy\",\n",
              " 'aajr',\n",
              " \"'eersst\",\n",
              " 'deinors',\n",
              " 'eehoorsvw',\n",
              " 'adef',\n",
              " 'aceelnru',\n",
              " \"'adnors\",\n",
              " 'agilmn',\n",
              " 'aeilnor',\n",
              " 'aabl',\n",
              " 'amnopst',\n",
              " 'eeeilrst',\n",
              " 'ghirst',\n",
              " 'acinopt',\n",
              " 'fnotu',\n",
              " 'ilst',\n",
              " 'deeorrst',\n",
              " 'beeioqssu',\n",
              " \"'eehrs\",\n",
              " 'ehir',\n",
              " 'cikls',\n",
              " 'eekns',\n",
              " 'aaadmrss',\n",
              " 'acehir',\n",
              " \"'aeimnrst\",\n",
              " \"'aeknss\",\n",
              " 'aehrty',\n",
              " 'acly',\n",
              " \"'aaenpsst\",\n",
              " \"'acdelrs\",\n",
              " 'aaginrrs',\n",
              " 'erstw',\n",
              " 'einooprs',\n",
              " \"'aceinnoorsstv\",\n",
              " \"'elops\",\n",
              " \"'imnoss\",\n",
              " \"'abeglns\",\n",
              " 'eirw',\n",
              " 'defir',\n",
              " 'eilrssv',\n",
              " 'aaenpsst',\n",
              " 'frsu',\n",
              " 'fgiilnrt',\n",
              " 'benort',\n",
              " 'arssty',\n",
              " 'addert',\n",
              " 'ehnort',\n",
              " 'gginor',\n",
              " \"'elpssu\",\n",
              " 'ehmorst',\n",
              " 'cdeenst',\n",
              " 'amst',\n",
              " \"'abrs\",\n",
              " \"'dgos\",\n",
              " 'adehss',\n",
              " \"'enrsst\",\n",
              " \"'acersst\",\n",
              " 'cehoprs',\n",
              " 'eilnoss',\n",
              " \"'adeinrssst\",\n",
              " \"'belosw\",\n",
              " 'ho',\n",
              " 'flnoopssu',\n",
              " 'eessx',\n",
              " 'ensw',\n",
              " 'emo',\n",
              " 'aeerst',\n",
              " 'bssu',\n",
              " 'aehny',\n",
              " 'aeelnsv',\n",
              " 'deiins',\n",
              " 'deimr',\n",
              " 'epsstu',\n",
              " \"'ainrst\",\n",
              " 'belu',\n",
              " 'ahlot',\n",
              " 'deinoops',\n",
              " \"'aemrsssu\",\n",
              " 'iort',\n",
              " 'aadiln',\n",
              " 'aanrtt',\n",
              " \"'aprss\",\n",
              " 'ahopst',\n",
              " 'deinor',\n",
              " 'deorv',\n",
              " 'aelm',\n",
              " 'enst',\n",
              " 'cdsu',\n",
              " 'deeiinsst',\n",
              " 'aeiprst',\n",
              " 'amoru',\n",
              " 'eghilrst',\n",
              " 'aaeehhimprstt',\n",
              " \"'aells\",\n",
              " 'adeinr',\n",
              " \"'dginos\",\n",
              " \"'ailrsu\",\n",
              " 'knpsu',\n",
              " 'ceerssu',\n",
              " 'aefsst',\n",
              " 'ortt',\n",
              " 'inps',\n",
              " 'achpt',\n",
              " \"'enops\",\n",
              " \"'ceilpprs\",\n",
              " 'abilr',\n",
              " 'eeforrst',\n",
              " 'elrsstu',\n",
              " 'aegikln',\n",
              " 'ehorsv',\n",
              " 'efhilms',\n",
              " 'losw',\n",
              " 'amy',\n",
              " 'cdeinrss',\n",
              " 'aabmnt',\n",
              " 'ort',\n",
              " 'ehiknrst',\n",
              " 'aiprs',\n",
              " 'abelt',\n",
              " \"'agnst\",\n",
              " 'deeors',\n",
              " 'rsstu',\n",
              " 'ceeinnss',\n",
              " 'arstw',\n",
              " 'ellsw',\n",
              " 'addenr',\n",
              " \"'eflst\",\n",
              " \"'alors\",\n",
              " 'aeinpr',\n",
              " 'acitt',\n",
              " 'affnors',\n",
              " \"'deos\",\n",
              " 'acms',\n",
              " 'ceinorss',\n",
              " 'in',\n",
              " \"'dmoos\",\n",
              " 'abl',\n",
              " 'ccdeeehkr',\n",
              " 'adeinnoott',\n",
              " 'aeeortv',\n",
              " \"'cefhist\",\n",
              " 'acghinr',\n",
              " 'cefhi',\n",
              " 'aeilnpr',\n",
              " 'adegp',\n",
              " 'adegnrr',\n",
              " 'eegilnrv',\n",
              " 'aaceirv',\n",
              " 'aceilr',\n",
              " \"'acdemnos\",\n",
              " 'aegl',\n",
              " 'fmor',\n",
              " 'eikr',\n",
              " 'ahpst',\n",
              " 'cffsu',\n",
              " 'aeersst',\n",
              " 'abeorst',\n",
              " 'deopst',\n",
              " 'adenot',\n",
              " \"'deeinrssst\",\n",
              " 'bdenru',\n",
              " 'aaceimnr',\n",
              " 'aegmnrs',\n",
              " 'aelrstv',\n",
              " 'aceeiipprstt',\n",
              " 'ahtw',\n",
              " 'cekoors',\n",
              " \"'ceikrsst\",\n",
              " 'defiy',\n",
              " 'bbgimno',\n",
              " 'adeimrr',\n",
              " 'deins',\n",
              " 'accilno',\n",
              " 'adenu',\n",
              " \"'oorsst\",\n",
              " 'innosu',\n",
              " 'deipr',\n",
              " 'ceeilnost',\n",
              " 'eginors',\n",
              " 'aaegtwy',\n",
              " \"'aacorsttu\",\n",
              " 'aceinnst',\n",
              " \"'aacelmns\",\n",
              " 'acceip',\n",
              " 'aabrs',\n",
              " \"'ggiinnss\",\n",
              " 'aelrs',\n",
              " 'aenv',\n",
              " 'ceelst',\n",
              " \"'cerstu\",\n",
              " 'eeiinoprstt',\n",
              " 'aaglno',\n",
              " 'adeggt',\n",
              " 'aeinrt',\n",
              " \"'aeprsy\",\n",
              " 'elpy',\n",
              " \"'beelrst\",\n",
              " 'aceertx',\n",
              " \"'eeimnsss\",\n",
              " 'ehikrs',\n",
              " 'deeepst',\n",
              " 'abelm',\n",
              " 'ehlorst',\n",
              " 'efrry',\n",
              " 'acdeelr',\n",
              " 'dehiss',\n",
              " \"'agils\",\n",
              " \"'bps\",\n",
              " 'cchiks',\n",
              " 'dgginnu',\n",
              " 'abeirs',\n",
              " 'actt',\n",
              " \"'ahlss\",\n",
              " 'elry',\n",
              " \"'aaprsst\",\n",
              " 'gilnru',\n",
              " 'blosw',\n",
              " 'aeimnrsu',\n",
              " \"'adegilns\",\n",
              " 'adegiilmns',\n",
              " 'gimnssu',\n",
              " 'degims',\n",
              " \"'cost\",\n",
              " 'aeoprssv',\n",
              " 'abeltt',\n",
              " 'aciltty',\n",
              " 'eghiinst',\n",
              " 'giinrv',\n",
              " 'aenorst',\n",
              " 'eeinrstv',\n",
              " 'eeenprst',\n",
              " 'cdors',\n",
              " 'amost',\n",
              " 'egglrsu',\n",
              " 'ginor',\n",
              " \"'aaegmnst\",\n",
              " 'aeegr',\n",
              " 'deirst',\n",
              " 'cilry',\n",
              " 'aeekmr',\n",
              " 'gins',\n",
              " 'aegst',\n",
              " 'deenrv',\n",
              " 'aemnrsu',\n",
              " \"'acins\",\n",
              " 'adepr',\n",
              " 'ehilrst',\n",
              " 'egilmnooss',\n",
              " 'enoz',\n",
              " 'adeiprs',\n",
              " \"'adefilnost\",\n",
              " 'ersttu',\n",
              " 'aders',\n",
              " 'eeeiimnprssssv',\n",
              " 'aceprst',\n",
              " 'aber',\n",
              " \"'aekls\",\n",
              " \"'cefhis\",\n",
              " 'imnot',\n",
              " 'adhor',\n",
              " 'eeerrssv',\n",
              " 'gimnsu',\n",
              " 'aacinort',\n",
              " \"'aeelprsstt\",\n",
              " 'adeflr',\n",
              " 'acelr',\n",
              " \"'oprsstu\",\n",
              " \"'ailpsu\",\n",
              " 'adeeprsv',\n",
              " 'aeils',\n",
              " 'eel',\n",
              " 'chit',\n",
              " 'aeiilorsst',\n",
              " \"'aelrstt\",\n",
              " 'deffru',\n",
              " 'ceehrst',\n",
              " 'esu',\n",
              " 'abeirsty',\n",
              " 'efil',\n",
              " 'abderv',\n",
              " 'aaegilnpp',\n",
              " 'eoprrt',\n",
              " \"'eehlst\",\n",
              " \"'aderst\",\n",
              " 'adefir',\n",
              " 'allmory',\n",
              " 'eellrs',\n",
              " \"'ceehillns\",\n",
              " 'abdlry',\n",
              " \"'beors\",\n",
              " 'ahpt',\n",
              " 'adeegnru',\n",
              " 'aegims',\n",
              " \"'abnrs\",\n",
              " 'aehlt',\n",
              " \"'beinrstu\",\n",
              " 'deeimrt',\n",
              " \"'acipss\",\n",
              " 'eginss',\n",
              " \"'bdemoors\",\n",
              " 'deopr',\n",
              " 'ckops',\n",
              " \"'deiinss\",\n",
              " 'deggir',\n",
              " \"'eelps\",\n",
              " \"'eors\",\n",
              " \"'aestt\",\n",
              " 'almors',\n",
              " \"'inps\",\n",
              " 'ilnos',\n",
              " 'ailorsty',\n",
              " \"'aceelnsv\",\n",
              " 'ostu',\n",
              " \"'essu\",\n",
              " 'eersw',\n",
              " \"'acels\",\n",
              " \"'amrst\",\n",
              " 'dginos',\n",
              " 'aekns',\n",
              " 'beor',\n",
              " 'aceirr',\n",
              " 'aehprs',\n",
              " 'adeeilmnrst',\n",
              " 'celsttu',\n",
              " 'elmo',\n",
              " 'eehr',\n",
              " \"'ceeilnss\",\n",
              " 'aeinpst',\n",
              " \"'aeeilns\",\n",
              " 'aeemnssttt',\n",
              " 'acilopt',\n",
              " 'aeggilnr',\n",
              " 'imnor',\n",
              " \"'aenrsv\",\n",
              " 'adeehilprs',\n",
              " 'addehs',\n",
              " 'elostw',\n",
              " 'aceeeilmnpt',\n",
              " 'aegss',\n",
              " 'aeghnopst',\n",
              " 'adeelrt',\n",
              " 'abdekr',\n",
              " 'adehps',\n",
              " 'behirrt',\n",
              " \"'eeggirs\",\n",
              " 'defin',\n",
              " 'abdir',\n",
              " 'elrsu',\n",
              " 'aalmr',\n",
              " ...}"
            ]
          },
          "metadata": {},
          "execution_count": 35
        }
      ]
    },
    {
      "cell_type": "markdown",
      "metadata": {
        "id": "PYiIjxIkuWty"
      },
      "source": [
        "**Exercise 8:**\n",
        "Find the longest word with at least one anagram. Suggestion: use the `key` argument of `sort` or `sorted` ([see here](https://stackoverflow.com/questions/8966538/syntax-behind-sortedkey-lambda))."
      ]
    },
    {
      "cell_type": "code",
      "execution_count": 36,
      "metadata": {
        "id": "YBd3xYYHuWty"
      },
      "outputs": [],
      "source": [
        "from typing import Dict\n",
        "\n",
        "def longest_word_with_atleast_one_anagram(anagram_map: Dict) -> str:\n",
        "\n",
        "    sorted_anagram_map = sorted(anagram_map, key = len, reverse = True)\n",
        "\n",
        "    for key in sorted_anagram_map:\n",
        "        if len(anagram_map[key]) > 1: \n",
        "            return anagram_map[key]"
      ]
    },
    {
      "cell_type": "code",
      "source": [
        "longest_word_with_atleast_one_anagram(anagram_map)"
      ],
      "metadata": {
        "colab": {
          "base_uri": "https://localhost:8080/"
        },
        "id": "QiSxpARYBEzZ",
        "outputId": "68916a1b-1fa6-4227-91b2-9d961438e670"
      },
      "execution_count": 37,
      "outputs": [
        {
          "output_type": "execute_result",
          "data": {
            "text/plain": [
              "[\"impressiveness's\", \"permissiveness's\"]"
            ]
          },
          "metadata": {},
          "execution_count": 37
        }
      ]
    },
    {
      "cell_type": "markdown",
      "metadata": {
        "id": "cXkLLxfkuWty"
      },
      "source": [
        "**Exercise 9:**\n",
        "Find the largest list of words that are anagrams of each other."
      ]
    },
    {
      "cell_type": "code",
      "execution_count": 42,
      "metadata": {
        "id": "FsvYpBB9uWty"
      },
      "outputs": [],
      "source": [
        "from typing import Dict\n",
        "from typing import List\n",
        "\n",
        "def largest_list_of_anagrams(anagram_map: Dict) -> List:\n",
        "\n",
        "    sorted_anagram_map = sorted(anagram_map.values(), key = len, reverse = True)\n",
        "\n",
        "    return sorted_anagram_map[0]\n"
      ]
    },
    {
      "cell_type": "code",
      "source": [
        "largest_list_of_anagrams(anagram_map)"
      ],
      "metadata": {
        "id": "ZP4c5iJMQyTR",
        "outputId": "ceb8cfd1-702b-47e2-c861-13bb1a26f02e",
        "colab": {
          "base_uri": "https://localhost:8080/"
        }
      },
      "execution_count": 43,
      "outputs": [
        {
          "output_type": "execute_result",
          "data": {
            "text/plain": [
              "['stale', 'steal', 'teals', 'tesla', 'stael', 'slate', 'tales', 'least']"
            ]
          },
          "metadata": {},
          "execution_count": 43
        }
      ]
    },
    {
      "cell_type": "markdown",
      "metadata": {
        "id": "wGRJdIF0uWty"
      },
      "source": [
        "**Exercise 10:**\n",
        "Write a function that takes an integer `word_length` and finds the longest list of words with the given length that are anagrams of each other."
      ]
    },
    {
      "cell_type": "code",
      "execution_count": 76,
      "metadata": {
        "id": "4gW5D74suWty"
      },
      "outputs": [],
      "source": [
        "from typing import Dict\n",
        "\n",
        "def largest_list_of_anagrams_with_word_length(anagram_map: Dict, word_length: int) -> str:\n",
        "\n",
        "    anagram_lists = defaultdict(list)\n",
        "\n",
        "    for key in anagram_map:\n",
        "        if len(key) == word_length:\n",
        "            anagram_lists[key] = anagram_map[key]\n",
        "\n",
        "    sorted_anagram_lists = sorted(anagram_lists.items(), key=lambda item: len(item[1]), reverse=True)\n",
        "\n",
        "    return sorted_anagram_lists[0][1]"
      ]
    },
    {
      "cell_type": "code",
      "execution_count": 78,
      "metadata": {
        "colab": {
          "base_uri": "https://localhost:8080/"
        },
        "id": "SDzQ9iejuWty",
        "outputId": "06a446f3-3bd6-4669-ca2a-892e454644ec"
      },
      "outputs": [
        {
          "output_type": "execute_result",
          "data": {
            "text/plain": [
              "['stale', 'steal', 'teals', 'tesla', 'stael', 'slate', 'tales', 'least']"
            ]
          },
          "metadata": {},
          "execution_count": 78
        }
      ],
      "source": [
        "largest_list_of_anagrams_with_word_length(anagram_map,5)"
      ]
    },
    {
      "cell_type": "markdown",
      "metadata": {
        "id": "oDiqxHxGuWty"
      },
      "source": [
        "**Exercise 11:**\n",
        "At this point we have a data structure that contains lists of words that are anagrams, but we have not actually enumerated all pairs.\n",
        "Write a function that takes `anagram_map` and returns a list of all anagram pairs.\n",
        "How many are there?"
      ]
    },
    {
      "cell_type": "code",
      "execution_count": 37,
      "metadata": {
        "id": "t5CdoTKAuWty"
      },
      "outputs": [],
      "source": []
    },
    {
      "cell_type": "code",
      "execution_count": 37,
      "metadata": {
        "id": "pdg3e_uPuWty"
      },
      "outputs": [],
      "source": []
    },
    {
      "cell_type": "code",
      "execution_count": 37,
      "metadata": {
        "id": "mgr1mo6guWty"
      },
      "outputs": [],
      "source": []
    },
    {
      "cell_type": "code",
      "execution_count": 37,
      "metadata": {
        "id": "TPrBJYX6uWtz"
      },
      "outputs": [],
      "source": []
    },
    {
      "cell_type": "markdown",
      "metadata": {
        "id": "vhd34tl6uWtz"
      },
      "source": [
        "*Data Structures and Information Retrieval in Python*\n",
        "\n",
        "Copyright 2021 Allen Downey\n",
        "\n",
        "License: [Creative Commons Attribution-NonCommercial-ShareAlike 4.0 International](https://creativecommons.org/licenses/by-nc-sa/4.0/)"
      ]
    }
  ],
  "metadata": {
    "kernelspec": {
      "display_name": "Python 3 (ipykernel)",
      "language": "python",
      "name": "python3"
    },
    "language_info": {
      "codemirror_mode": {
        "name": "ipython",
        "version": 3
      },
      "file_extension": ".py",
      "mimetype": "text/x-python",
      "name": "python",
      "nbconvert_exporter": "python",
      "pygments_lexer": "ipython3",
      "version": "3.10.1"
    },
    "colab": {
      "provenance": [],
      "include_colab_link": true
    }
  },
  "nbformat": 4,
  "nbformat_minor": 0
}