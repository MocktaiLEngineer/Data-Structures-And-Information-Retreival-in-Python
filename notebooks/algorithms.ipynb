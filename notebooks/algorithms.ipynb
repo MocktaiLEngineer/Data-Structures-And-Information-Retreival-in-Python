{
  "cells": [
    {
      "cell_type": "markdown",
      "metadata": {
        "id": "pRXfhIfauWts"
      },
      "source": [
        "# Algorithms"
      ]
    },
    {
      "cell_type": "markdown",
      "metadata": {
        "id": "o2TA_9zzuWtu"
      },
      "source": [
        "[Click here to run this chapter on Colab](https://colab.research.google.com/github/AllenDowney/DSIRP/blob/main/notebooks/algorithms.ipynb)"
      ]
    },
    {
      "cell_type": "markdown",
      "metadata": {
        "id": "2Y11SvHpuWtu"
      },
      "source": [
        "## Searching for anagrams\n",
        "\n",
        "In this notebook we'll implement algorithms for two tasks:\n",
        "\n",
        "* Testing a pair of words to see if they are anagrams of each other, that is, if you can rearrange the letters in one word to spell the other.\n",
        "\n",
        "* Searching a list of words for all pairs that are anagrams of each other.\n",
        "\n",
        "There is a point to these examples, which I will explain at the end."
      ]
    },
    {
      "cell_type": "markdown",
      "metadata": {
        "id": "9WqiUUBfuWtu"
      },
      "source": [
        "**Exercise 1:** Write a function that takes two words and returns `True` if they are anagrams. Test your function with the examples below."
      ]
    },
    {
      "cell_type": "markdown",
      "source": [
        "**Answer:** I have explored three possible solutions for this task - \n",
        "1.   Build the char count for each word, store it in a dict, return True if the dicts are equal, else return False.\n",
        "2.   Builds the character count for the first word and stores it in a dictionary, and returns True if the dictionaries are equal, else False.\n",
        "3.   Sort the characters in ascending or descending order for both of the words, compare the sorted words, return True if they are equal, else False.\n",
        "\n",
        "\n",
        "\n"
      ],
      "metadata": {
        "id": "yilVi63N8O4V"
      }
    },
    {
      "cell_type": "markdown",
      "source": [
        "**First possible solution:**"
      ],
      "metadata": {
        "id": "MI2wOMr-9hF0"
      }
    },
    {
      "cell_type": "code",
      "execution_count": 14,
      "metadata": {
        "id": "v4DONj8QuWtu"
      },
      "outputs": [],
      "source": [
        "from collections import defaultdict\n",
        "\n",
        "def is_anagram(word1: str, word2: str) -> bool:\n",
        "    '''\n",
        "    Builds the character count for each word and stores it in a dictionary, and returns True if the dictionaries are equal, else False. \n",
        "    '''\n",
        "    word1_char_count = defaultdict(int)\n",
        "\n",
        "    for char in word1:\n",
        "        word1_char_count[char] += 1\n",
        "\n",
        "    word2_char_count = defaultdict(int)\n",
        "\n",
        "    for char in word2:\n",
        "        word2_char_count[char] += 1\n",
        "\n",
        "    if word1_char_count == word2_char_count:\n",
        "        return True\n",
        "    return False"
      ]
    },
    {
      "cell_type": "code",
      "execution_count": 15,
      "metadata": {
        "colab": {
          "base_uri": "https://localhost:8080/"
        },
        "id": "l2bbQjGYuWtv",
        "outputId": "eb0111e6-b465-4e93-faf3-3035e5b8b75b"
      },
      "outputs": [
        {
          "output_type": "execute_result",
          "data": {
            "text/plain": [
              "True"
            ]
          },
          "metadata": {},
          "execution_count": 15
        }
      ],
      "source": [
        "is_anagram('tachymetric', 'mccarthyite') # True"
      ]
    },
    {
      "cell_type": "code",
      "execution_count": 16,
      "metadata": {
        "colab": {
          "base_uri": "https://localhost:8080/"
        },
        "id": "QqUOg1kxuWtv",
        "outputId": "0a77273b-ef26-443a-a715-73c79672f62f"
      },
      "outputs": [
        {
          "output_type": "execute_result",
          "data": {
            "text/plain": [
              "False"
            ]
          },
          "metadata": {},
          "execution_count": 16
        }
      ],
      "source": [
        "is_anagram('post', 'top') # False, letter not present"
      ]
    },
    {
      "cell_type": "code",
      "execution_count": 17,
      "metadata": {
        "colab": {
          "base_uri": "https://localhost:8080/"
        },
        "id": "9ocAH0nGuWtw",
        "outputId": "2612a93f-ef72-4456-c7f8-d90416f19aad"
      },
      "outputs": [
        {
          "output_type": "execute_result",
          "data": {
            "text/plain": [
              "False"
            ]
          },
          "metadata": {},
          "execution_count": 17
        }
      ],
      "source": [
        "is_anagram('pott', 'top') # False, letter present but not enough copies"
      ]
    },
    {
      "cell_type": "code",
      "execution_count": 18,
      "metadata": {
        "colab": {
          "base_uri": "https://localhost:8080/"
        },
        "id": "M5Z1wsnNuWtw",
        "outputId": "5a53c9b6-5fba-47cd-ca79-2bec82ef376c"
      },
      "outputs": [
        {
          "output_type": "execute_result",
          "data": {
            "text/plain": [
              "False"
            ]
          },
          "metadata": {},
          "execution_count": 18
        }
      ],
      "source": [
        "is_anagram('top', 'post') # False, letters left over at the end"
      ]
    },
    {
      "cell_type": "code",
      "execution_count": 19,
      "metadata": {
        "colab": {
          "base_uri": "https://localhost:8080/"
        },
        "id": "xzI_-5fZuWtw",
        "outputId": "8119f19f-b1d2-4114-b416-c890f0d16b20"
      },
      "outputs": [
        {
          "output_type": "execute_result",
          "data": {
            "text/plain": [
              "False"
            ]
          },
          "metadata": {},
          "execution_count": 19
        }
      ],
      "source": [
        "is_anagram('topss', 'postt') # False"
      ]
    },
    {
      "cell_type": "markdown",
      "source": [
        "**Second possible solution:**"
      ],
      "metadata": {
        "id": "ABqKv2Yz9nny"
      }
    },
    {
      "cell_type": "code",
      "execution_count": 20,
      "metadata": {
        "id": "Zqi5qrsIuWtv"
      },
      "outputs": [],
      "source": [
        "from collections import defaultdict\n",
        "\n",
        "def is_anagram(word1: str, word2: str) -> bool:\n",
        "    '''\n",
        "    Builds the character count for the first word and stores it in a dictionary,\n",
        "    and returns True if the dictionaries are equal, else False. \n",
        "    '''\n",
        "    word_char_count = defaultdict(int)\n",
        "\n",
        "    for char in word1:\n",
        "        word_char_count[char] += 1\n",
        "\n",
        "    word2_char_count = defaultdict(int)\n",
        "\n",
        "    for char in word2:\n",
        "        word_char_count[char] -= 1\n",
        "\n",
        "    for key,value in word_char_count.items():\n",
        "        if value != 0:\n",
        "            return False\n",
        "\n",
        "    return True"
      ]
    },
    {
      "cell_type": "code",
      "execution_count": 21,
      "metadata": {
        "colab": {
          "base_uri": "https://localhost:8080/"
        },
        "id": "Fad586azuWtv",
        "outputId": "702626dc-122f-43ec-d141-a63d71891452"
      },
      "outputs": [
        {
          "output_type": "execute_result",
          "data": {
            "text/plain": [
              "True"
            ]
          },
          "metadata": {},
          "execution_count": 21
        }
      ],
      "source": [
        "is_anagram('tachymetric', 'mccarthyite') # True"
      ]
    },
    {
      "cell_type": "code",
      "execution_count": 22,
      "metadata": {
        "colab": {
          "base_uri": "https://localhost:8080/"
        },
        "id": "s3LuV5A1uWtv",
        "outputId": "8b9bd01f-ddf8-41f5-a034-a09111ca2a97"
      },
      "outputs": [
        {
          "output_type": "execute_result",
          "data": {
            "text/plain": [
              "False"
            ]
          },
          "metadata": {},
          "execution_count": 22
        }
      ],
      "source": [
        "is_anagram('post', 'top') # False, letter not present"
      ]
    },
    {
      "cell_type": "code",
      "source": [
        "is_anagram('pott', 'top') # False, letter present but not enough copies"
      ],
      "metadata": {
        "id": "smv7nQ0C8CT8",
        "outputId": "f99ea0ff-a36b-42d6-ec42-0e34e27b012d",
        "colab": {
          "base_uri": "https://localhost:8080/"
        }
      },
      "execution_count": 23,
      "outputs": [
        {
          "output_type": "execute_result",
          "data": {
            "text/plain": [
              "False"
            ]
          },
          "metadata": {},
          "execution_count": 23
        }
      ]
    },
    {
      "cell_type": "code",
      "source": [
        "is_anagram('top', 'post') # False, letters left over at the end"
      ],
      "metadata": {
        "id": "vBOhoY428CMV",
        "outputId": "88e37492-2c79-45ad-9b28-b8159010093c",
        "colab": {
          "base_uri": "https://localhost:8080/"
        }
      },
      "execution_count": 24,
      "outputs": [
        {
          "output_type": "execute_result",
          "data": {
            "text/plain": [
              "False"
            ]
          },
          "metadata": {},
          "execution_count": 24
        }
      ]
    },
    {
      "cell_type": "code",
      "source": [
        "is_anagram('topss', 'postt') # False"
      ],
      "metadata": {
        "id": "2HghoNM18CDU",
        "outputId": "95d53015-cafc-474c-9b57-ebda415d3f7b",
        "colab": {
          "base_uri": "https://localhost:8080/"
        }
      },
      "execution_count": 25,
      "outputs": [
        {
          "output_type": "execute_result",
          "data": {
            "text/plain": [
              "False"
            ]
          },
          "metadata": {},
          "execution_count": 25
        }
      ]
    },
    {
      "cell_type": "markdown",
      "source": [
        "**Third possible solution:**"
      ],
      "metadata": {
        "id": "iVWfjUpu9sfB"
      }
    },
    {
      "cell_type": "code",
      "source": [
        "def is_anagram(word1: str, word2: str) -> bool:\n",
        "    '''\n",
        "    Sort the characters in ascending or descending order for both the words,\n",
        "    return True if the sorted words are equal, else False.\n",
        "    '''\n",
        "\n",
        "    return sorted(word1) == sorted(word2)"
      ],
      "metadata": {
        "id": "dl_U2j4g9yCV"
      },
      "execution_count": 27,
      "outputs": []
    },
    {
      "cell_type": "code",
      "source": [
        "is_anagram('tachymetric', 'mccarthyite') # True"
      ],
      "metadata": {
        "id": "ih9UyC5r-Gob",
        "outputId": "2418cbc0-6cf4-42f3-d611-deaf974c1480",
        "colab": {
          "base_uri": "https://localhost:8080/"
        }
      },
      "execution_count": 28,
      "outputs": [
        {
          "output_type": "execute_result",
          "data": {
            "text/plain": [
              "True"
            ]
          },
          "metadata": {},
          "execution_count": 28
        }
      ]
    },
    {
      "cell_type": "code",
      "source": [
        "is_anagram('post', 'top') # False, letter not present"
      ],
      "metadata": {
        "id": "dy-UuGTD-KQU",
        "outputId": "5e1f5929-19a2-436b-ec8b-c198af902da1",
        "colab": {
          "base_uri": "https://localhost:8080/"
        }
      },
      "execution_count": 29,
      "outputs": [
        {
          "output_type": "execute_result",
          "data": {
            "text/plain": [
              "False"
            ]
          },
          "metadata": {},
          "execution_count": 29
        }
      ]
    },
    {
      "cell_type": "code",
      "source": [
        "is_anagram('pott', 'top') # False, letter present but not enough copies"
      ],
      "metadata": {
        "id": "v33fGYIU-KLP",
        "outputId": "206cb770-a00e-43e0-93af-3899ee1880b1",
        "colab": {
          "base_uri": "https://localhost:8080/"
        }
      },
      "execution_count": 30,
      "outputs": [
        {
          "output_type": "execute_result",
          "data": {
            "text/plain": [
              "False"
            ]
          },
          "metadata": {},
          "execution_count": 30
        }
      ]
    },
    {
      "cell_type": "code",
      "source": [
        "is_anagram('top', 'post') # False, letters left over at the end"
      ],
      "metadata": {
        "id": "25zG27OF-KGa",
        "outputId": "679f277b-dc6b-43ea-d399-acb25f0f5d95",
        "colab": {
          "base_uri": "https://localhost:8080/"
        }
      },
      "execution_count": 31,
      "outputs": [
        {
          "output_type": "execute_result",
          "data": {
            "text/plain": [
              "False"
            ]
          },
          "metadata": {},
          "execution_count": 31
        }
      ]
    },
    {
      "cell_type": "code",
      "source": [
        "is_anagram('topss', 'postt') # False"
      ],
      "metadata": {
        "id": "3L9gyu9s-J_A",
        "outputId": "c2155d8a-0ae8-4eee-dc7e-e6ffb4cfa8af",
        "colab": {
          "base_uri": "https://localhost:8080/"
        }
      },
      "execution_count": 32,
      "outputs": [
        {
          "output_type": "execute_result",
          "data": {
            "text/plain": [
              "False"
            ]
          },
          "metadata": {},
          "execution_count": 32
        }
      ]
    },
    {
      "cell_type": "markdown",
      "source": [
        "**Time and Space Complexity for each of the solutions:**\n",
        "\n",
        "```markdown\n",
        "              |  Time Complexity  | Space Complexity \n",
        "--------------|-------------------|------------------\n",
        "Solution 1    |  O(n)             | O(n) \n",
        "Solution 2    |  O(n)             | O(n) \n",
        "Solution 3    |  O(nlogn)         | O(n)\n",
        "```"
      ],
      "metadata": {
        "id": "3Q3F3jDP-cIU"
      }
    },
    {
      "cell_type": "markdown",
      "metadata": {
        "id": "oVaa8B_5uWtw"
      },
      "source": [
        "**Exercise 2:** Use `timeit` to see how fast your function is for these examples:"
      ]
    },
    {
      "cell_type": "code",
      "execution_count": null,
      "metadata": {
        "id": "PJyvbz43uWtw"
      },
      "outputs": [],
      "source": [
        "%timeit is_anagram('tops', 'spot')"
      ]
    },
    {
      "cell_type": "code",
      "execution_count": null,
      "metadata": {
        "id": "6t93wu7euWtw"
      },
      "outputs": [],
      "source": [
        "%timeit is_anagram('tachymetric', 'mccarthyite')"
      ]
    },
    {
      "cell_type": "markdown",
      "metadata": {
        "id": "CDvew_EDuWtw"
      },
      "source": [
        "How can we compare algorithms running on different computers?"
      ]
    },
    {
      "cell_type": "markdown",
      "metadata": {
        "id": "6zfBACUxuWtw"
      },
      "source": [
        "## Searching for anagram pairs"
      ]
    },
    {
      "cell_type": "markdown",
      "metadata": {
        "id": "4XldVpGouWtw"
      },
      "source": [
        "**Exercise 3:** Write a function that takes a word list and returns a list of all anagram pairs."
      ]
    },
    {
      "cell_type": "code",
      "execution_count": null,
      "metadata": {
        "id": "3cYOq-NeuWtw"
      },
      "outputs": [],
      "source": [
        "short_word_list = ['proudest', 'stop', 'pots', 'tops', 'sprouted']"
      ]
    },
    {
      "cell_type": "code",
      "execution_count": null,
      "metadata": {
        "id": "5_U7bzmwuWtw"
      },
      "outputs": [],
      "source": [
        "def all_anagram_pairs(word_list):\n",
        "    return []"
      ]
    },
    {
      "cell_type": "code",
      "execution_count": null,
      "metadata": {
        "id": "EOpClOiPuWtx"
      },
      "outputs": [],
      "source": []
    },
    {
      "cell_type": "code",
      "execution_count": null,
      "metadata": {
        "id": "0U7avAqxuWtx"
      },
      "outputs": [],
      "source": [
        "all_anagram_pairs(short_word_list)"
      ]
    },
    {
      "cell_type": "markdown",
      "metadata": {
        "id": "PDYj0_EduWtx"
      },
      "source": [
        "The following cell downloads a file containing a list of English words."
      ]
    },
    {
      "cell_type": "code",
      "execution_count": null,
      "metadata": {
        "id": "VA1xOBTfuWtx"
      },
      "outputs": [],
      "source": [
        "from os.path import basename, exists\n",
        "\n",
        "def download(url):\n",
        "    filename = basename(url)\n",
        "    if not exists(filename):\n",
        "        from urllib.request import urlretrieve\n",
        "        local, _ = urlretrieve(url, filename)\n",
        "        print('Downloaded ' + local)\n",
        "    \n",
        "download('https://github.com/AllenDowney/DSIRP/raw/main/american-english')"
      ]
    },
    {
      "cell_type": "markdown",
      "metadata": {
        "id": "21lDGhTCuWtx"
      },
      "source": [
        "The following function reads a file and returns a set of words (I used a set because after we convert words to lower case, there are some repeats.)"
      ]
    },
    {
      "cell_type": "code",
      "execution_count": null,
      "metadata": {
        "id": "Kf6bgWejuWtx"
      },
      "outputs": [],
      "source": [
        "def read_words(filename):\n",
        "    \"\"\"Read lines from a file and split them into words.\"\"\"\n",
        "    res = set()\n",
        "    for line in open(filename):\n",
        "        for word in line.split():\n",
        "            res.add(word.strip().lower())\n",
        "    return res"
      ]
    },
    {
      "cell_type": "code",
      "execution_count": null,
      "metadata": {
        "id": "kwGQemMguWtx"
      },
      "outputs": [],
      "source": [
        "word_list = read_words('american-english')\n",
        "len(word_list)"
      ]
    },
    {
      "cell_type": "markdown",
      "metadata": {
        "id": "PsHItHAvuWtx"
      },
      "source": [
        "**Exercise 4:** Loop through the word list and print all words that are anagrams of `stop`."
      ]
    },
    {
      "cell_type": "code",
      "execution_count": null,
      "metadata": {
        "id": "LhFxuFk2uWtx"
      },
      "outputs": [],
      "source": []
    },
    {
      "cell_type": "markdown",
      "metadata": {
        "id": "E3tuFa_YuWtx"
      },
      "source": [
        "Now run `all_anagram_pairs` with the full `word_list`:"
      ]
    },
    {
      "cell_type": "code",
      "execution_count": null,
      "metadata": {
        "id": "0T_qwCxQuWtx"
      },
      "outputs": [],
      "source": [
        "# pairs = all_anagram_pairs(word_list)"
      ]
    },
    {
      "cell_type": "markdown",
      "metadata": {
        "id": "j9pOqCKxuWtx"
      },
      "source": [
        "**Exercise 5:** While that's running, let's estimate how long it's going to take."
      ]
    },
    {
      "cell_type": "code",
      "execution_count": null,
      "metadata": {
        "id": "M2AAf3_muWty"
      },
      "outputs": [],
      "source": []
    },
    {
      "cell_type": "markdown",
      "metadata": {
        "id": "rICDOhTLuWty"
      },
      "source": [
        "## A better algorithm\n",
        "\n",
        "**Exercise 6:** Write a better algorithm! Hint: make a dictionary. How much faster is your algorithm?"
      ]
    },
    {
      "cell_type": "code",
      "execution_count": null,
      "metadata": {
        "id": "77IjK-MvuWty"
      },
      "outputs": [],
      "source": [
        "def all_anagram_lists(word_list):\n",
        "    \"\"\"Finds all anagrams in a list of words.\n",
        "\n",
        "    word_list: sequence of strings\n",
        "    \"\"\"\n",
        "    return {}"
      ]
    },
    {
      "cell_type": "code",
      "execution_count": null,
      "metadata": {
        "id": "G4c_aq77uWty"
      },
      "outputs": [],
      "source": []
    },
    {
      "cell_type": "code",
      "execution_count": null,
      "metadata": {
        "id": "GgdpwNMduWty"
      },
      "outputs": [],
      "source": [
        "%time anagram_map = all_anagram_lists(word_list)"
      ]
    },
    {
      "cell_type": "code",
      "execution_count": null,
      "metadata": {
        "id": "FzbwLIVvuWty"
      },
      "outputs": [],
      "source": [
        "len(anagram_map)"
      ]
    },
    {
      "cell_type": "code",
      "execution_count": null,
      "metadata": {
        "id": "g9tQEk1NuWty"
      },
      "outputs": [],
      "source": []
    },
    {
      "cell_type": "markdown",
      "metadata": {
        "id": "Oub92DV8uWty"
      },
      "source": [
        "## Summary\n",
        "\n",
        "What is the point of the examples in this notebook?\n",
        "\n",
        "* The different versions of `is_anagram` show that, when inputs are small, it is hard to say which algorithm will be the fastest. It often depends on details of the implementation. Anyway, the differences tend to be small, so it might not matter much in practice.\n",
        "\n",
        "* The different algorithms we used to search for anagram pairs show that, when inputs are large, we can often tell which algorithm will be fastest. And the difference between a fast algorithm and a slow one can be huge!"
      ]
    },
    {
      "cell_type": "markdown",
      "metadata": {
        "id": "vGX0gVm5uWty"
      },
      "source": [
        "## Exercises\n",
        "\n",
        "Before you work on these exercises, you might want to read the Python [Sorting How-To](https://docs.python.org/3/howto/sorting.html). It uses `lambda` to define an anonymous function, which [you can read about here](https://www.w3schools.com/python/python_lambda.asp).\n",
        "\n",
        "**Exercise 7:**\n",
        "Make a dictionary like `anagram_map` that contains only keys that map to a list with more than one element. You can use a `for` loop to make a new dictionary, or a [dictionary comprehension](https://www.freecodecamp.org/news/dictionary-comprehension-in-python-explained-with-examples/)."
      ]
    },
    {
      "cell_type": "code",
      "execution_count": null,
      "metadata": {
        "id": "00n3Asm6uWty"
      },
      "outputs": [],
      "source": []
    },
    {
      "cell_type": "markdown",
      "metadata": {
        "id": "PYiIjxIkuWty"
      },
      "source": [
        "**Exercise 8:**\n",
        "Find the longest word with at least one anagram. Suggestion: use the `key` argument of `sort` or `sorted` ([see here](https://stackoverflow.com/questions/8966538/syntax-behind-sortedkey-lambda))."
      ]
    },
    {
      "cell_type": "code",
      "execution_count": null,
      "metadata": {
        "id": "YBd3xYYHuWty"
      },
      "outputs": [],
      "source": []
    },
    {
      "cell_type": "markdown",
      "metadata": {
        "id": "cXkLLxfkuWty"
      },
      "source": [
        "**Exercise 9:**\n",
        "Find the largest list of words that are anagrams of each other."
      ]
    },
    {
      "cell_type": "code",
      "execution_count": null,
      "metadata": {
        "id": "FsvYpBB9uWty"
      },
      "outputs": [],
      "source": []
    },
    {
      "cell_type": "markdown",
      "metadata": {
        "id": "wGRJdIF0uWty"
      },
      "source": [
        "**Exercise 10:**\n",
        "Write a function that takes an integer `word_length` and finds the longest list of words with the given length that are anagrams of each other."
      ]
    },
    {
      "cell_type": "code",
      "execution_count": null,
      "metadata": {
        "id": "4gW5D74suWty"
      },
      "outputs": [],
      "source": []
    },
    {
      "cell_type": "code",
      "execution_count": null,
      "metadata": {
        "id": "SDzQ9iejuWty"
      },
      "outputs": [],
      "source": []
    },
    {
      "cell_type": "markdown",
      "metadata": {
        "id": "oDiqxHxGuWty"
      },
      "source": [
        "**Exercise 11:**\n",
        "At this point we have a data structure that contains lists of words that are anagrams, but we have not actually enumerated all pairs.\n",
        "Write a function that takes `anagram_map` and returns a list of all anagram pairs.\n",
        "How many are there?"
      ]
    },
    {
      "cell_type": "code",
      "execution_count": null,
      "metadata": {
        "id": "t5CdoTKAuWty"
      },
      "outputs": [],
      "source": []
    },
    {
      "cell_type": "code",
      "execution_count": null,
      "metadata": {
        "id": "pdg3e_uPuWty"
      },
      "outputs": [],
      "source": []
    },
    {
      "cell_type": "code",
      "execution_count": null,
      "metadata": {
        "id": "mgr1mo6guWty"
      },
      "outputs": [],
      "source": []
    },
    {
      "cell_type": "code",
      "execution_count": null,
      "metadata": {
        "id": "TPrBJYX6uWtz"
      },
      "outputs": [],
      "source": []
    },
    {
      "cell_type": "markdown",
      "metadata": {
        "id": "vhd34tl6uWtz"
      },
      "source": [
        "*Data Structures and Information Retrieval in Python*\n",
        "\n",
        "Copyright 2021 Allen Downey\n",
        "\n",
        "License: [Creative Commons Attribution-NonCommercial-ShareAlike 4.0 International](https://creativecommons.org/licenses/by-nc-sa/4.0/)"
      ]
    }
  ],
  "metadata": {
    "kernelspec": {
      "display_name": "Python 3 (ipykernel)",
      "language": "python",
      "name": "python3"
    },
    "language_info": {
      "codemirror_mode": {
        "name": "ipython",
        "version": 3
      },
      "file_extension": ".py",
      "mimetype": "text/x-python",
      "name": "python",
      "nbconvert_exporter": "python",
      "pygments_lexer": "ipython3",
      "version": "3.10.1"
    },
    "colab": {
      "provenance": []
    }
  },
  "nbformat": 4,
  "nbformat_minor": 0
}