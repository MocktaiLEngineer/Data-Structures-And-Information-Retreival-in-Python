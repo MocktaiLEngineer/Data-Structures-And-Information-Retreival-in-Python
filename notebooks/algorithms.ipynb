{
  "cells": [
    {
      "cell_type": "markdown",
      "metadata": {
        "id": "view-in-github",
        "colab_type": "text"
      },
      "source": [
        "<a href=\"https://colab.research.google.com/github/MocktaiLEngineer/Data-Structures-And-Information-Retreival-in-Python/blob/main/notebooks/algorithms.ipynb\" target=\"_parent\"><img src=\"https://colab.research.google.com/assets/colab-badge.svg\" alt=\"Open In Colab\"/></a>"
      ]
    },
    {
      "cell_type": "markdown",
      "metadata": {
        "id": "pRXfhIfauWts"
      },
      "source": [
        "# Algorithms"
      ]
    },
    {
      "cell_type": "markdown",
      "metadata": {
        "id": "o2TA_9zzuWtu"
      },
      "source": [
        "[Click here to run this chapter on Colab](https://colab.research.google.com/github/AllenDowney/DSIRP/blob/main/notebooks/algorithms.ipynb)"
      ]
    },
    {
      "cell_type": "markdown",
      "metadata": {
        "id": "2Y11SvHpuWtu"
      },
      "source": [
        "## Searching for anagrams\n",
        "\n",
        "In this notebook we'll implement algorithms for two tasks:\n",
        "\n",
        "* Testing a pair of words to see if they are anagrams of each other, that is, if you can rearrange the letters in one word to spell the other.\n",
        "\n",
        "* Searching a list of words for all pairs that are anagrams of each other.\n",
        "\n",
        "There is a point to these examples, which I will explain at the end."
      ]
    },
    {
      "cell_type": "markdown",
      "metadata": {
        "id": "9WqiUUBfuWtu"
      },
      "source": [
        "**Exercise 1:** Write a function that takes two words and returns `True` if they are anagrams. Test your function with the examples below."
      ]
    },
    {
      "cell_type": "markdown",
      "source": [
        "**Answer:** I have explored three possible solutions for this task - \n",
        "1.   Build the char count for each word, store it in a dict, return True if the dicts are equal, else return False.\n",
        "2.   Builds the character count for the first word and stores it in a dictionary, and returns True if the dictionaries are equal, else False.\n",
        "3.   Sort the characters in ascending or descending order for both of the words, compare the sorted words, return True if they are equal, else False.\n",
        "\n",
        "\n",
        "\n"
      ],
      "metadata": {
        "id": "yilVi63N8O4V"
      }
    },
    {
      "cell_type": "markdown",
      "source": [
        "**First possible solution:**"
      ],
      "metadata": {
        "id": "MI2wOMr-9hF0"
      }
    },
    {
      "cell_type": "code",
      "execution_count": 1,
      "metadata": {
        "id": "v4DONj8QuWtu"
      },
      "outputs": [],
      "source": [
        "from collections import defaultdict\n",
        "\n",
        "def is_anagram(word1: str, word2: str) -> bool:\n",
        "    '''\n",
        "    Builds the character count for each word and stores it in a dictionary, and returns True if the dictionaries are equal, else False. \n",
        "    '''\n",
        "    word1_char_count = defaultdict(int)\n",
        "\n",
        "    for char in word1:\n",
        "        word1_char_count[char] += 1\n",
        "\n",
        "    word2_char_count = defaultdict(int)\n",
        "\n",
        "    for char in word2:\n",
        "        word2_char_count[char] += 1\n",
        "\n",
        "    if word1_char_count == word2_char_count:\n",
        "        return True\n",
        "    return False"
      ]
    },
    {
      "cell_type": "code",
      "execution_count": 2,
      "metadata": {
        "colab": {
          "base_uri": "https://localhost:8080/"
        },
        "id": "l2bbQjGYuWtv",
        "outputId": "c61be5b5-34f3-4195-9b46-d160c547bdb9"
      },
      "outputs": [
        {
          "output_type": "execute_result",
          "data": {
            "text/plain": [
              "True"
            ]
          },
          "metadata": {},
          "execution_count": 2
        }
      ],
      "source": [
        "is_anagram('tachymetric', 'mccarthyite') # True"
      ]
    },
    {
      "cell_type": "code",
      "execution_count": 3,
      "metadata": {
        "colab": {
          "base_uri": "https://localhost:8080/"
        },
        "id": "QqUOg1kxuWtv",
        "outputId": "e897473f-0369-4480-945a-63f84094cdcd"
      },
      "outputs": [
        {
          "output_type": "execute_result",
          "data": {
            "text/plain": [
              "False"
            ]
          },
          "metadata": {},
          "execution_count": 3
        }
      ],
      "source": [
        "is_anagram('post', 'top') # False, letter not present"
      ]
    },
    {
      "cell_type": "code",
      "execution_count": 4,
      "metadata": {
        "colab": {
          "base_uri": "https://localhost:8080/"
        },
        "id": "9ocAH0nGuWtw",
        "outputId": "2fc60919-6b00-4b20-e134-9507623689f6"
      },
      "outputs": [
        {
          "output_type": "execute_result",
          "data": {
            "text/plain": [
              "False"
            ]
          },
          "metadata": {},
          "execution_count": 4
        }
      ],
      "source": [
        "is_anagram('pott', 'top') # False, letter present but not enough copies"
      ]
    },
    {
      "cell_type": "code",
      "execution_count": 5,
      "metadata": {
        "colab": {
          "base_uri": "https://localhost:8080/"
        },
        "id": "M5Z1wsnNuWtw",
        "outputId": "b4336211-54e0-46e3-f1da-a2b5f37bda8b"
      },
      "outputs": [
        {
          "output_type": "execute_result",
          "data": {
            "text/plain": [
              "False"
            ]
          },
          "metadata": {},
          "execution_count": 5
        }
      ],
      "source": [
        "is_anagram('top', 'post') # False, letters left over at the end"
      ]
    },
    {
      "cell_type": "code",
      "execution_count": 6,
      "metadata": {
        "colab": {
          "base_uri": "https://localhost:8080/"
        },
        "id": "xzI_-5fZuWtw",
        "outputId": "7bb81696-7bd3-4d8c-b27f-40101e5c2658"
      },
      "outputs": [
        {
          "output_type": "execute_result",
          "data": {
            "text/plain": [
              "False"
            ]
          },
          "metadata": {},
          "execution_count": 6
        }
      ],
      "source": [
        "is_anagram('topss', 'postt') # False"
      ]
    },
    {
      "cell_type": "markdown",
      "source": [
        "**Second possible solution:**"
      ],
      "metadata": {
        "id": "ABqKv2Yz9nny"
      }
    },
    {
      "cell_type": "code",
      "execution_count": 7,
      "metadata": {
        "id": "Zqi5qrsIuWtv"
      },
      "outputs": [],
      "source": [
        "from collections import defaultdict\n",
        "\n",
        "def is_anagram(word1: str, word2: str) -> bool:\n",
        "    '''\n",
        "    Builds the character count for the first word and stores it in a dictionary,\n",
        "    and returns True if the dictionaries are equal, else False. \n",
        "    '''\n",
        "    word_char_count = defaultdict(int)\n",
        "\n",
        "    for char in word1:\n",
        "        word_char_count[char] += 1\n",
        "\n",
        "    word2_char_count = defaultdict(int)\n",
        "\n",
        "    for char in word2:\n",
        "        word_char_count[char] -= 1\n",
        "\n",
        "    for key,value in word_char_count.items():\n",
        "        if value != 0:\n",
        "            return False\n",
        "\n",
        "    return True"
      ]
    },
    {
      "cell_type": "code",
      "execution_count": 8,
      "metadata": {
        "colab": {
          "base_uri": "https://localhost:8080/"
        },
        "id": "Fad586azuWtv",
        "outputId": "9ce276f0-4106-4495-9905-cc75f03e3e3c"
      },
      "outputs": [
        {
          "output_type": "execute_result",
          "data": {
            "text/plain": [
              "True"
            ]
          },
          "metadata": {},
          "execution_count": 8
        }
      ],
      "source": [
        "is_anagram('tachymetric', 'mccarthyite') # True"
      ]
    },
    {
      "cell_type": "code",
      "execution_count": 9,
      "metadata": {
        "colab": {
          "base_uri": "https://localhost:8080/"
        },
        "id": "s3LuV5A1uWtv",
        "outputId": "07dbef31-2ee7-49ef-e836-7b51d2ebd769"
      },
      "outputs": [
        {
          "output_type": "execute_result",
          "data": {
            "text/plain": [
              "False"
            ]
          },
          "metadata": {},
          "execution_count": 9
        }
      ],
      "source": [
        "is_anagram('post', 'top') # False, letter not present"
      ]
    },
    {
      "cell_type": "code",
      "source": [
        "is_anagram('pott', 'top') # False, letter present but not enough copies"
      ],
      "metadata": {
        "colab": {
          "base_uri": "https://localhost:8080/"
        },
        "id": "smv7nQ0C8CT8",
        "outputId": "5189b5ea-077a-4f93-bd6a-244feac3a29f"
      },
      "execution_count": 10,
      "outputs": [
        {
          "output_type": "execute_result",
          "data": {
            "text/plain": [
              "False"
            ]
          },
          "metadata": {},
          "execution_count": 10
        }
      ]
    },
    {
      "cell_type": "code",
      "source": [
        "is_anagram('top', 'post') # False, letters left over at the end"
      ],
      "metadata": {
        "colab": {
          "base_uri": "https://localhost:8080/"
        },
        "id": "vBOhoY428CMV",
        "outputId": "fdaa1d03-4f90-44bf-ebcc-248564175d29"
      },
      "execution_count": 11,
      "outputs": [
        {
          "output_type": "execute_result",
          "data": {
            "text/plain": [
              "False"
            ]
          },
          "metadata": {},
          "execution_count": 11
        }
      ]
    },
    {
      "cell_type": "code",
      "source": [
        "is_anagram('topss', 'postt') # False"
      ],
      "metadata": {
        "colab": {
          "base_uri": "https://localhost:8080/"
        },
        "id": "2HghoNM18CDU",
        "outputId": "861e3961-a42b-419a-a5a4-ee43a9651c16"
      },
      "execution_count": 12,
      "outputs": [
        {
          "output_type": "execute_result",
          "data": {
            "text/plain": [
              "False"
            ]
          },
          "metadata": {},
          "execution_count": 12
        }
      ]
    },
    {
      "cell_type": "markdown",
      "source": [
        "**Third possible solution:**"
      ],
      "metadata": {
        "id": "iVWfjUpu9sfB"
      }
    },
    {
      "cell_type": "code",
      "source": [
        "def is_anagram(word1: str, word2: str) -> bool:\n",
        "    '''\n",
        "    Sort the characters in ascending or descending order for both the words,\n",
        "    return True if the sorted words are equal, else False.\n",
        "    '''\n",
        "\n",
        "    return sorted(word1) == sorted(word2)"
      ],
      "metadata": {
        "id": "dl_U2j4g9yCV"
      },
      "execution_count": 13,
      "outputs": []
    },
    {
      "cell_type": "code",
      "source": [
        "is_anagram('tachymetric', 'mccarthyite') # True"
      ],
      "metadata": {
        "colab": {
          "base_uri": "https://localhost:8080/"
        },
        "id": "ih9UyC5r-Gob",
        "outputId": "5b50c3d4-c212-4058-ebaf-21ecdab195df"
      },
      "execution_count": 14,
      "outputs": [
        {
          "output_type": "execute_result",
          "data": {
            "text/plain": [
              "True"
            ]
          },
          "metadata": {},
          "execution_count": 14
        }
      ]
    },
    {
      "cell_type": "code",
      "source": [
        "is_anagram('post', 'top') # False, letter not present"
      ],
      "metadata": {
        "colab": {
          "base_uri": "https://localhost:8080/"
        },
        "id": "dy-UuGTD-KQU",
        "outputId": "1ede2bc0-f7a0-40c8-832a-00d663552587"
      },
      "execution_count": 15,
      "outputs": [
        {
          "output_type": "execute_result",
          "data": {
            "text/plain": [
              "False"
            ]
          },
          "metadata": {},
          "execution_count": 15
        }
      ]
    },
    {
      "cell_type": "code",
      "source": [
        "is_anagram('pott', 'top') # False, letter present but not enough copies"
      ],
      "metadata": {
        "colab": {
          "base_uri": "https://localhost:8080/"
        },
        "id": "v33fGYIU-KLP",
        "outputId": "d44d495b-fa27-400b-b0ab-0b0841daa4de"
      },
      "execution_count": 16,
      "outputs": [
        {
          "output_type": "execute_result",
          "data": {
            "text/plain": [
              "False"
            ]
          },
          "metadata": {},
          "execution_count": 16
        }
      ]
    },
    {
      "cell_type": "code",
      "source": [
        "is_anagram('top', 'post') # False, letters left over at the end"
      ],
      "metadata": {
        "colab": {
          "base_uri": "https://localhost:8080/"
        },
        "id": "25zG27OF-KGa",
        "outputId": "5f04b3b8-1f82-487b-b5fd-8454c58034eb"
      },
      "execution_count": 17,
      "outputs": [
        {
          "output_type": "execute_result",
          "data": {
            "text/plain": [
              "False"
            ]
          },
          "metadata": {},
          "execution_count": 17
        }
      ]
    },
    {
      "cell_type": "code",
      "source": [
        "is_anagram('topss', 'postt') # False"
      ],
      "metadata": {
        "colab": {
          "base_uri": "https://localhost:8080/"
        },
        "id": "3L9gyu9s-J_A",
        "outputId": "428cacde-c83b-4435-db2d-eecd27b9ad2e"
      },
      "execution_count": 18,
      "outputs": [
        {
          "output_type": "execute_result",
          "data": {
            "text/plain": [
              "False"
            ]
          },
          "metadata": {},
          "execution_count": 18
        }
      ]
    },
    {
      "cell_type": "markdown",
      "source": [
        "**Time and Space Complexity for each of the solutions:**\n",
        "\n",
        "```markdown\n",
        "              |  Time Complexity  | Space Complexity \n",
        "--------------|-------------------|------------------\n",
        "Solution 1    |  O(n)             | O(n) \n",
        "Solution 2    |  O(n)             | O(n) \n",
        "Solution 3    |  O(nlogn)         | O(n)\n",
        "```"
      ],
      "metadata": {
        "id": "3Q3F3jDP-cIU"
      }
    },
    {
      "cell_type": "markdown",
      "metadata": {
        "id": "oVaa8B_5uWtw"
      },
      "source": [
        "**Exercise 2:** Use `timeit` to see how fast your function is for these examples:"
      ]
    },
    {
      "cell_type": "code",
      "execution_count": 19,
      "metadata": {
        "colab": {
          "base_uri": "https://localhost:8080/"
        },
        "id": "PJyvbz43uWtw",
        "outputId": "5f5f1dbd-741d-40d6-c872-26921dd79483"
      },
      "outputs": [
        {
          "output_type": "stream",
          "name": "stdout",
          "text": [
            "635 ns ± 10.4 ns per loop (mean ± std. dev. of 7 runs, 1000000 loops each)\n"
          ]
        }
      ],
      "source": [
        "%timeit is_anagram('tops', 'spot')"
      ]
    },
    {
      "cell_type": "code",
      "execution_count": 20,
      "metadata": {
        "colab": {
          "base_uri": "https://localhost:8080/"
        },
        "id": "6t93wu7euWtw",
        "outputId": "7339049a-a28e-4813-c1a5-7ddbac452667"
      },
      "outputs": [
        {
          "output_type": "stream",
          "name": "stdout",
          "text": [
            "1.14 µs ± 10.6 ns per loop (mean ± std. dev. of 7 runs, 1000000 loops each)\n"
          ]
        }
      ],
      "source": [
        "%timeit is_anagram('tachymetric', 'mccarthyite')"
      ]
    },
    {
      "cell_type": "markdown",
      "metadata": {
        "id": "CDvew_EDuWtw"
      },
      "source": [
        "How can we compare algorithms running on different computers?"
      ]
    },
    {
      "cell_type": "markdown",
      "metadata": {
        "id": "6zfBACUxuWtw"
      },
      "source": [
        "## Searching for anagram pairs"
      ]
    },
    {
      "cell_type": "markdown",
      "metadata": {
        "id": "4XldVpGouWtw"
      },
      "source": [
        "**Exercise 3:** Write a function that takes a word list and returns a list of all anagram pairs."
      ]
    },
    {
      "cell_type": "code",
      "execution_count": 21,
      "metadata": {
        "id": "3cYOq-NeuWtw"
      },
      "outputs": [],
      "source": [
        "short_word_list = ['proudest', 'stop', 'pots', 'tops', 'sprouted']"
      ]
    },
    {
      "cell_type": "code",
      "execution_count": 61,
      "metadata": {
        "id": "5_U7bzmwuWtw"
      },
      "outputs": [],
      "source": [
        "from collections import defaultdict\n",
        "from typing import List\n",
        "\n",
        "def all_anagram_pairs(word_list: List[str]):\n",
        "    '''\n",
        "    Builds a dictionary, whose key is the sorted version of the words which are anagrams and the value is a list of words\n",
        "    which are anagrams of each other.\n",
        "    '''\n",
        "    anagrams = defaultdict(list)\n",
        "    \n",
        "    for word in word_list:\n",
        "        anagrams[''.join(sorted(word))].append(word)\n",
        "\n",
        "    return anagrams\n"
      ]
    },
    {
      "cell_type": "code",
      "execution_count": 62,
      "metadata": {
        "colab": {
          "base_uri": "https://localhost:8080/"
        },
        "id": "0U7avAqxuWtx",
        "outputId": "02b7d7ad-4339-49de-9de0-328c2e1e79bf"
      },
      "outputs": [
        {
          "output_type": "execute_result",
          "data": {
            "text/plain": [
              "defaultdict(list,\n",
              "            {'deoprstu': ['proudest', 'sprouted'],\n",
              "             'opst': ['stop', 'pots', 'tops']})"
            ]
          },
          "metadata": {},
          "execution_count": 62
        }
      ],
      "source": [
        "all_anagram_pairs(short_word_list)"
      ]
    },
    {
      "cell_type": "markdown",
      "metadata": {
        "id": "PDYj0_EduWtx"
      },
      "source": [
        "The following cell downloads a file containing a list of English words."
      ]
    },
    {
      "cell_type": "code",
      "execution_count": 63,
      "metadata": {
        "id": "VA1xOBTfuWtx"
      },
      "outputs": [],
      "source": [
        "from os.path import basename, exists\n",
        "\n",
        "def download(url):\n",
        "    filename = basename(url)\n",
        "    if not exists(filename):\n",
        "        from urllib.request import urlretrieve\n",
        "        local, _ = urlretrieve(url, filename)\n",
        "        print('Downloaded ' + local)\n",
        "    \n",
        "download('https://github.com/AllenDowney/DSIRP/raw/main/american-english')"
      ]
    },
    {
      "cell_type": "markdown",
      "metadata": {
        "id": "21lDGhTCuWtx"
      },
      "source": [
        "The following function reads a file and returns a set of words (I used a set because after we convert words to lower case, there are some repeats.)"
      ]
    },
    {
      "cell_type": "code",
      "execution_count": 64,
      "metadata": {
        "id": "Kf6bgWejuWtx"
      },
      "outputs": [],
      "source": [
        "def read_words(filename):\n",
        "    \"\"\"Read lines from a file and split them into words.\"\"\"\n",
        "    res = set()\n",
        "    for line in open(filename):\n",
        "        for word in line.split():\n",
        "            res.add(word.strip().lower())\n",
        "    return res"
      ]
    },
    {
      "cell_type": "code",
      "execution_count": 65,
      "metadata": {
        "colab": {
          "base_uri": "https://localhost:8080/"
        },
        "id": "kwGQemMguWtx",
        "outputId": "92e5d878-22d3-467b-f336-2dadfa5b3174"
      },
      "outputs": [
        {
          "output_type": "execute_result",
          "data": {
            "text/plain": [
              "100781"
            ]
          },
          "metadata": {},
          "execution_count": 65
        }
      ],
      "source": [
        "word_list = read_words('american-english')\n",
        "len(word_list)"
      ]
    },
    {
      "cell_type": "markdown",
      "metadata": {
        "id": "PsHItHAvuWtx"
      },
      "source": [
        "**Exercise 4:** Loop through the word list and print all words that are anagrams of `stop`."
      ]
    },
    {
      "cell_type": "code",
      "execution_count": null,
      "metadata": {
        "id": "LhFxuFk2uWtx"
      },
      "outputs": [],
      "source": []
    },
    {
      "cell_type": "markdown",
      "metadata": {
        "id": "E3tuFa_YuWtx"
      },
      "source": [
        "Now run `all_anagram_pairs` with the full `word_list`:"
      ]
    },
    {
      "cell_type": "code",
      "execution_count": 66,
      "metadata": {
        "id": "0T_qwCxQuWtx"
      },
      "outputs": [],
      "source": [
        "pairs = all_anagram_pairs(word_list)"
      ]
    },
    {
      "cell_type": "markdown",
      "metadata": {
        "id": "j9pOqCKxuWtx"
      },
      "source": [
        "**Exercise 5:** While that's running, let's estimate how long it's going to take."
      ]
    },
    {
      "cell_type": "code",
      "execution_count": 67,
      "metadata": {
        "colab": {
          "base_uri": "https://localhost:8080/"
        },
        "id": "M2AAf3_muWty",
        "outputId": "40a20ed4-e0ed-4da8-feca-4f33021d7b53"
      },
      "outputs": [
        {
          "output_type": "stream",
          "name": "stdout",
          "text": [
            "190 ms ± 53.5 ms per loop (mean ± std. dev. of 7 runs, 10 loops each)\n"
          ]
        }
      ],
      "source": [
        "%timeit all_anagram_pairs(word_list)"
      ]
    },
    {
      "cell_type": "markdown",
      "metadata": {
        "id": "rICDOhTLuWty"
      },
      "source": [
        "## A better algorithm\n",
        "\n",
        "**Exercise 6:** Write a better algorithm! Hint: make a dictionary. How much faster is your algorithm?"
      ]
    },
    {
      "cell_type": "code",
      "execution_count": 68,
      "metadata": {
        "id": "77IjK-MvuWty"
      },
      "outputs": [],
      "source": [
        "from typing import List\n",
        "\n",
        "def all_anagram_lists(word_list: List[str]):\n",
        "    '''\n",
        "    Builds a dictionary, whose key is the sorted version of the words which are anagrams and the value is a list of words\n",
        "    which are anagrams of each other.\n",
        "    '''\n",
        "    anagrams = defaultdict(list)\n",
        "    \n",
        "    for word in word_list:\n",
        "        anagrams[''.join(sorted(word))].append(word)\n",
        "\n",
        "    return anagrams"
      ]
    },
    {
      "cell_type": "code",
      "execution_count": 69,
      "metadata": {
        "colab": {
          "base_uri": "https://localhost:8080/"
        },
        "id": "GgdpwNMduWty",
        "outputId": "dbcc2523-c0c4-487e-fc59-24aeb911e8b4"
      },
      "outputs": [
        {
          "output_type": "stream",
          "name": "stdout",
          "text": [
            "CPU times: user 375 ms, sys: 3.59 ms, total: 378 ms\n",
            "Wall time: 393 ms\n"
          ]
        }
      ],
      "source": [
        "%time anagram_map = all_anagram_lists(word_list)"
      ]
    },
    {
      "cell_type": "code",
      "source": [
        "anagram_map = all_anagram_lists(word_list)"
      ],
      "metadata": {
        "id": "S660_W2WxH4o"
      },
      "execution_count": 70,
      "outputs": []
    },
    {
      "cell_type": "code",
      "execution_count": 71,
      "metadata": {
        "colab": {
          "base_uri": "https://localhost:8080/"
        },
        "id": "FzbwLIVvuWty",
        "outputId": "29877e6f-4375-41d1-8983-a721130d7da6"
      },
      "outputs": [
        {
          "output_type": "execute_result",
          "data": {
            "text/plain": [
              "93406"
            ]
          },
          "metadata": {},
          "execution_count": 71
        }
      ],
      "source": [
        "len(anagram_map)"
      ]
    },
    {
      "cell_type": "markdown",
      "metadata": {
        "id": "Oub92DV8uWty"
      },
      "source": [
        "## Summary\n",
        "\n",
        "What is the point of the examples in this notebook?\n",
        "\n",
        "* The different versions of `is_anagram` show that, when inputs are small, it is hard to say which algorithm will be the fastest. It often depends on details of the implementation. Anyway, the differences tend to be small, so it might not matter much in practice.\n",
        "\n",
        "* The different algorithms we used to search for anagram pairs show that, when inputs are large, we can often tell which algorithm will be fastest. And the difference between a fast algorithm and a slow one can be huge!"
      ]
    },
    {
      "cell_type": "markdown",
      "metadata": {
        "id": "vGX0gVm5uWty"
      },
      "source": [
        "## Exercises\n",
        "\n",
        "Before you work on these exercises, you might want to read the Python [Sorting How-To](https://docs.python.org/3/howto/sorting.html). It uses `lambda` to define an anonymous function, which [you can read about here](https://www.w3schools.com/python/python_lambda.asp).\n",
        "\n",
        "**Exercise 7:**\n",
        "Make a dictionary like `anagram_map` that contains only keys that map to a list with more than one element. You can use a `for` loop to make a new dictionary, or a [dictionary comprehension](https://www.freecodecamp.org/news/dictionary-comprehension-in-python-explained-with-examples/)."
      ]
    },
    {
      "cell_type": "code",
      "execution_count": 72,
      "metadata": {
        "id": "00n3Asm6uWty"
      },
      "outputs": [],
      "source": [
        "anagrams = {key for key,value in anagram_map.items() if len(value) > 1}"
      ]
    },
    {
      "cell_type": "code",
      "source": [
        "anagrams"
      ],
      "metadata": {
        "id": "meiWD5Bd7OIR",
        "outputId": "880489f9-36f4-4ecf-cd86-6bca761699a2",
        "colab": {
          "base_uri": "https://localhost:8080/"
        }
      },
      "execution_count": 73,
      "outputs": [
        {
          "output_type": "execute_result",
          "data": {
            "text/plain": [
              "{'eeginrv',\n",
              " \"'eikst\",\n",
              " 'agsw',\n",
              " 'eestw',\n",
              " 'almsu',\n",
              " 'adir',\n",
              " 'aeennrss',\n",
              " 'blru',\n",
              " 'defnor',\n",
              " 'aeinprs',\n",
              " \"'abginsu\",\n",
              " 'aillortt',\n",
              " 'aeprsst',\n",
              " 'effiist',\n",
              " 'aclor',\n",
              " 'aehrty',\n",
              " 'eillnst',\n",
              " 'airy',\n",
              " 'abens',\n",
              " 'aceennrst',\n",
              " \"'eehrsst\",\n",
              " \"'ailpsu\",\n",
              " 'agls',\n",
              " 'aehs',\n",
              " \"'aekmrrs\",\n",
              " 'adinrw',\n",
              " 'bdeilrsu',\n",
              " 'aeehrstw',\n",
              " \"'abinss\",\n",
              " 'ackls',\n",
              " \"'acelrs\",\n",
              " 'cdeikr',\n",
              " 'aeeirstt',\n",
              " 'ceeips',\n",
              " 'emop',\n",
              " 'einsst',\n",
              " 'denos',\n",
              " 'elrsy',\n",
              " 'illsw',\n",
              " 'adersw',\n",
              " 'adeeimnnot',\n",
              " 'aekst',\n",
              " 'aehknr',\n",
              " 'aeipsst',\n",
              " 'ceeginptx',\n",
              " 'been',\n",
              " 'adeln',\n",
              " 'eehlt',\n",
              " 'aceehrst',\n",
              " 'aelrx',\n",
              " 'acellrs',\n",
              " 'deistu',\n",
              " 'deimmr',\n",
              " \"'dnossy\",\n",
              " 'abelst',\n",
              " \"'aaglnos\",\n",
              " 'eelrstw',\n",
              " 'addeehr',\n",
              " 'afginrt',\n",
              " 'adehst',\n",
              " \"'inprstu\",\n",
              " 'aeeintttv',\n",
              " \"'eekns\",\n",
              " 'aceilnost',\n",
              " \"'ainrst\",\n",
              " \"'aacellmrs\",\n",
              " 'abddeiors',\n",
              " 'aeers',\n",
              " 'abekr',\n",
              " 'aessv',\n",
              " 'ginopr',\n",
              " 'achrs',\n",
              " \"'achiinst\",\n",
              " 'deiins',\n",
              " 'cehillrs',\n",
              " 'deelorw',\n",
              " 'aainpst',\n",
              " 'acdertu',\n",
              " \"'acilnsu\",\n",
              " 'aprsw',\n",
              " 'cehils',\n",
              " 'ginoprstu',\n",
              " \"'abgrs\",\n",
              " 'ghint',\n",
              " 'eoprss',\n",
              " 'ceeeilstv',\n",
              " \"'aersstw\",\n",
              " 'goop',\n",
              " 'efhiinrs',\n",
              " 'acdekl',\n",
              " 'abehrst',\n",
              " 'ansty',\n",
              " 'eemorst',\n",
              " 'cilry',\n",
              " 'eimntu',\n",
              " 'elorw',\n",
              " \"'einrss\",\n",
              " \"'ceorssu\",\n",
              " 'epsy',\n",
              " \"'eilrssv\",\n",
              " 'ceginnnott',\n",
              " 'aginorsty',\n",
              " 'aprs',\n",
              " 'aefrs',\n",
              " 'eoprs',\n",
              " 'aeilms',\n",
              " \"'acens\",\n",
              " 'ahlls',\n",
              " 'aeeortv',\n",
              " 'agl',\n",
              " 'dhos',\n",
              " 'abil',\n",
              " 'ceinors',\n",
              " 'ciprs',\n",
              " 'defgiiny',\n",
              " 'aint',\n",
              " 'arwy',\n",
              " 'ghostu',\n",
              " 'aadeginr',\n",
              " 'alps',\n",
              " 'emo',\n",
              " 'cikst',\n",
              " 'adip',\n",
              " \"'eelmrs\",\n",
              " 'aehlmt',\n",
              " 'eeggir',\n",
              " \"'aegimrst\",\n",
              " 'ceps',\n",
              " \"'adinors\",\n",
              " 'eghhit',\n",
              " 'btu',\n",
              " \"'aers\",\n",
              " 'aepr',\n",
              " 'aehrsw',\n",
              " 'aaprst',\n",
              " 'cdelnoos',\n",
              " 'addelr',\n",
              " 'eilmpsst',\n",
              " 'eglru',\n",
              " 'einors',\n",
              " 'ehort',\n",
              " 'low',\n",
              " 'ehiirstt',\n",
              " \"'adnrstu\",\n",
              " \"'ceorsy\",\n",
              " 'ceilrs',\n",
              " \"'aadns\",\n",
              " 'adeisstt',\n",
              " 'prsuu',\n",
              " 'cdeenst',\n",
              " 'enorsw',\n",
              " 'ainst',\n",
              " 'eoqstu',\n",
              " 'eirsw',\n",
              " 'adeeginnrs',\n",
              " 'adekst',\n",
              " 'ablm',\n",
              " 'aacinorst',\n",
              " 'alnos',\n",
              " 'aanrstt',\n",
              " \"'aegnos\",\n",
              " \"'ehiknrst\",\n",
              " \"'ginss\",\n",
              " 'aailrt',\n",
              " 'aeglns',\n",
              " 'bnory',\n",
              " \"'ahopsst\",\n",
              " \"'eglrsu\",\n",
              " \"'beensstu\",\n",
              " 'bdestu',\n",
              " 'deeimnorsz',\n",
              " 'adejrstu',\n",
              " 'adeilt',\n",
              " \"'eehrsw\",\n",
              " 'adenu',\n",
              " \"'aehpss\",\n",
              " \"'aghss\",\n",
              " 'eeginrt',\n",
              " 'ceeiorst',\n",
              " 'adegrty',\n",
              " 'osst',\n",
              " 'elorsuv',\n",
              " 'ciprss',\n",
              " 'bnor',\n",
              " 'eiimnrt',\n",
              " 'aeeinntv',\n",
              " 'deimr',\n",
              " 'aeekortv',\n",
              " 'abelm',\n",
              " 'deiorstw',\n",
              " 'it',\n",
              " 'acehs',\n",
              " 'abeorst',\n",
              " 'acmps',\n",
              " 'aegins',\n",
              " \"'aghilmorst\",\n",
              " 'aegilnps',\n",
              " 'ginsu',\n",
              " \"'efhlss\",\n",
              " 'aceenrrt',\n",
              " 'deinnst',\n",
              " 'aeenrst',\n",
              " 'cdeeeirv',\n",
              " 'ggikno',\n",
              " \"'acers\",\n",
              " 'aegmn',\n",
              " 'adeinostt',\n",
              " 'adelorst',\n",
              " 'eillrst',\n",
              " 'cffsu',\n",
              " 'ehlpps',\n",
              " \"'cinos\",\n",
              " 'aagr',\n",
              " 'ehnorst',\n",
              " 'closw',\n",
              " \"'dhimorsu\",\n",
              " 'aelrtt',\n",
              " 'abest',\n",
              " 'aabmnt',\n",
              " \"'beilrsst\",\n",
              " 'addels',\n",
              " 'bdeeils',\n",
              " 'deeefmnrt',\n",
              " 'aehlsss',\n",
              " \"'aeemnssst\",\n",
              " 'adehps',\n",
              " 'giiknnp',\n",
              " \"'abelss\",\n",
              " 'aacdeemrt',\n",
              " 'adenrr',\n",
              " 'adgilnu',\n",
              " 'ceginnortu',\n",
              " \"'eginnorst\",\n",
              " 'alos',\n",
              " 'egiinprrs',\n",
              " 'bcdeku',\n",
              " \"'abelmrs\",\n",
              " 'orttu',\n",
              " 'ersstw',\n",
              " 'eenrrst',\n",
              " 'adder',\n",
              " 'aeinpr',\n",
              " 'cdeiirstu',\n",
              " 'deintu',\n",
              " 'efhls',\n",
              " \"'eorrsst\",\n",
              " 'ghinnorsu',\n",
              " 'eilr',\n",
              " 'aelnors',\n",
              " \"'aglnos\",\n",
              " 'hos',\n",
              " 'aps',\n",
              " 'ddeeinnt',\n",
              " 'cceeghiknr',\n",
              " 'ennot',\n",
              " 'bdeeill',\n",
              " 'bins',\n",
              " 'cdsu',\n",
              " 'aegilnrs',\n",
              " 'acegilnns',\n",
              " 'aers',\n",
              " 'deos',\n",
              " 'einorst',\n",
              " \"'aacflrst\",\n",
              " 'eenopr',\n",
              " 'adegnrs',\n",
              " \"'agimnrs\",\n",
              " 'dmoos',\n",
              " 'nrstu',\n",
              " 'ginrs',\n",
              " 'is',\n",
              " 'aisv',\n",
              " \"'assw\",\n",
              " 'biorst',\n",
              " 'einsv',\n",
              " 'eeilnrst',\n",
              " 'adiry',\n",
              " 'aor',\n",
              " 'eortt',\n",
              " \"'acstt\",\n",
              " 'ego',\n",
              " 'eeenrv',\n",
              " 'oorst',\n",
              " \"'efgors\",\n",
              " 'bemors',\n",
              " \"'arst\",\n",
              " 'belu',\n",
              " 'eins',\n",
              " 'adiil',\n",
              " 'acdeeimt',\n",
              " 'aehlrt',\n",
              " 'denosw',\n",
              " \"'aeeginnrst\",\n",
              " 'elmst',\n",
              " 'cenors',\n",
              " 'aenp',\n",
              " 'aeeiilrst',\n",
              " 'adeemrst',\n",
              " \"'eersstt\",\n",
              " 'ackst',\n",
              " \"'aekls\",\n",
              " \"'abenrs\",\n",
              " 'adlo',\n",
              " 'abekl',\n",
              " 'dstuy',\n",
              " 'aclms',\n",
              " 'eelrs',\n",
              " 'aegilnp',\n",
              " 'dis',\n",
              " 'eekls',\n",
              " 'ehrssu',\n",
              " 'aabs',\n",
              " 'aderstv',\n",
              " 'celorsv',\n",
              " 'aceinorst',\n",
              " 'aegrsty',\n",
              " \"'adersw\",\n",
              " 'lsstu',\n",
              " \"'einoprst\",\n",
              " \"'aakoss\",\n",
              " 'enosy',\n",
              " 'degilor',\n",
              " \"'acsst\",\n",
              " \"'adeegnrs\",\n",
              " 'aensst',\n",
              " \"'ceilnorssu\",\n",
              " 'deirrs',\n",
              " 'aaadmrs',\n",
              " \"'beglsu\",\n",
              " 'deirr',\n",
              " \"'acfiinnorst\",\n",
              " 'deinrstt',\n",
              " 'eeeinprrrstt',\n",
              " \"'abcels\",\n",
              " 'aknt',\n",
              " 'aehlss',\n",
              " \"'adehlnsst\",\n",
              " 'cehorst',\n",
              " 'deeginrss',\n",
              " \"'aacimnors\",\n",
              " 'ceikpst',\n",
              " 'abesst',\n",
              " 'aehnrt',\n",
              " 'acdilnor',\n",
              " 'ceilnorsu',\n",
              " 'aginpv',\n",
              " 'aeginrt',\n",
              " 'aehnsv',\n",
              " 'abeiinrs',\n",
              " 'enstu',\n",
              " 'addeeprt',\n",
              " \"'eenrstu\",\n",
              " \"'dllosy\",\n",
              " 'aeegnrv',\n",
              " 'agiilnost',\n",
              " 'adef',\n",
              " 'aegginor',\n",
              " 'aelm',\n",
              " \"'epsstu\",\n",
              " \"'eorssw\",\n",
              " 'eiprs',\n",
              " \"'alostuy\",\n",
              " 'eikps',\n",
              " 'eeiqrtu',\n",
              " \"'ceirs\",\n",
              " 'cddeeirt',\n",
              " 'adejrsstu',\n",
              " 'aintt',\n",
              " 'ginorsu',\n",
              " 'benoy',\n",
              " 'adilrsz',\n",
              " 'aelnrtu',\n",
              " 'acdegln',\n",
              " 'eghiinst',\n",
              " \"'aeghnorsv\",\n",
              " 'acefirstt',\n",
              " 'adeilr',\n",
              " 'ehlstu',\n",
              " 'belmorsy',\n",
              " \"'aijnns\",\n",
              " 'aaclrss',\n",
              " 'einprs',\n",
              " 'ittw',\n",
              " \"'cehinopsst\",\n",
              " \"'abders\",\n",
              " 'ells',\n",
              " 'aber',\n",
              " 'abeirsty',\n",
              " \"'arsst\",\n",
              " 'eilmntuy',\n",
              " 'arstt',\n",
              " 'opsty',\n",
              " 'addelw',\n",
              " 'epsw',\n",
              " 'aanssu',\n",
              " 'deeimprs',\n",
              " 'chmu',\n",
              " 'degir',\n",
              " \"'aeilrss\",\n",
              " 'aprssttu',\n",
              " \"'aelsv\",\n",
              " \"'abinoss\",\n",
              " 'bstu',\n",
              " \"'acost\",\n",
              " \"'efilrst\",\n",
              " 'deooprt',\n",
              " \"'acenrst\",\n",
              " 'aacestv',\n",
              " 'giiknrst',\n",
              " 'egilnorw',\n",
              " 'deippr',\n",
              " 'aenrrt',\n",
              " 'ddeein',\n",
              " \"'acdnors\",\n",
              " \"'abehrs\",\n",
              " 'adegnrst',\n",
              " \"'ahlsu\",\n",
              " 'aegilmnnt',\n",
              " 'inoopt',\n",
              " 'eeenorsv',\n",
              " \"'adors\",\n",
              " 'lnoy',\n",
              " 'eellrst',\n",
              " 'ceirsu',\n",
              " 'deloot',\n",
              " 'ago',\n",
              " 'ceeprst',\n",
              " 'aehpss',\n",
              " 'aelrstv',\n",
              " 'bglo',\n",
              " 'eeiprrss',\n",
              " \"'abells\",\n",
              " 'ekorrw',\n",
              " \"'adelrrs\",\n",
              " 'ceehps',\n",
              " 'ilps',\n",
              " \"'aailsv\",\n",
              " 'aabln',\n",
              " 'enprstu',\n",
              " 'orstt',\n",
              " 'ahlsw',\n",
              " 'eeilnosss',\n",
              " 'eeenprrst',\n",
              " 'ceerssu',\n",
              " \"'gmsu\",\n",
              " \"'aegsst\",\n",
              " 'eeginss',\n",
              " 'egorsu',\n",
              " \"'adinsv\",\n",
              " \"'eipprst\",\n",
              " 'aaeemnst',\n",
              " 'iprsu',\n",
              " 'adim',\n",
              " 'cdeehipr',\n",
              " 'eghin',\n",
              " 'oprsstu',\n",
              " 'aceeinnrt',\n",
              " 'arsty',\n",
              " 'eelrv',\n",
              " 'adelt',\n",
              " 'abinry',\n",
              " 'aelprsst',\n",
              " 'dggilno',\n",
              " 'aegrs',\n",
              " 'eegiknn',\n",
              " 'aborst',\n",
              " 'adert',\n",
              " 'cdeeoprru',\n",
              " 'clost',\n",
              " 'aaginssy',\n",
              " 'aekw',\n",
              " \"'ailorssty\",\n",
              " 'acnnot',\n",
              " 'aehlw',\n",
              " 'films',\n",
              " 'iikw',\n",
              " \"'acelmors\",\n",
              " 'ahlst',\n",
              " 'deersst',\n",
              " 'eehorvw',\n",
              " \"'bnoos\",\n",
              " 'deinor',\n",
              " 'aeelssstt',\n",
              " 'deossu',\n",
              " \"'emoorrs\",\n",
              " 'adeehknr',\n",
              " 'enw',\n",
              " 'eekps',\n",
              " 'aamr',\n",
              " 'agps',\n",
              " 'dehissw',\n",
              " 'aimprst',\n",
              " 'egor',\n",
              " \"'chkssu\",\n",
              " 'abegln',\n",
              " 'abgiknr',\n",
              " 'dens',\n",
              " 'adeilort',\n",
              " 'denorw',\n",
              " 'acnny',\n",
              " \"'ailss\",\n",
              " 'ehorss',\n",
              " 'aamss',\n",
              " 'aehlsw',\n",
              " 'acghinrs',\n",
              " 'elno',\n",
              " \"'aefls\",\n",
              " \"'ceinors\",\n",
              " 'aginnpsw',\n",
              " 'adeelrs',\n",
              " 'degilnu',\n",
              " 'ceelrstu',\n",
              " \"'illst\",\n",
              " \"'bnossu\",\n",
              " \"'eels\",\n",
              " \"'imnoss\",\n",
              " 'kooty',\n",
              " 'adeesv',\n",
              " 'eeirsvw',\n",
              " 'aesstw',\n",
              " 'illt',\n",
              " 'aahks',\n",
              " \"'adeems\",\n",
              " 'deilos',\n",
              " 'eorstt',\n",
              " 'deopsu',\n",
              " 'bbbgilno',\n",
              " 'adm',\n",
              " \"'acerst\",\n",
              " 'deglno',\n",
              " 'eeeinprrsst',\n",
              " 'aeln',\n",
              " 'gloss',\n",
              " 'adnsw',\n",
              " 'deimmrt',\n",
              " \"'emrsstu\",\n",
              " 'inors',\n",
              " 'aabcdkrsw',\n",
              " 'acghinr',\n",
              " \"'aesst\",\n",
              " 'cdlo',\n",
              " 'aeksst',\n",
              " 'aemrssu',\n",
              " \"'aimosst\",\n",
              " \"'ainst\",\n",
              " 'abdegr',\n",
              " 'aginrst',\n",
              " 'acillopty',\n",
              " 'eiopss',\n",
              " 'bdu',\n",
              " 'eilorst',\n",
              " \"'deinsw\",\n",
              " 'eegimnt',\n",
              " 'acellr',\n",
              " \"'klooostu\",\n",
              " 'ainsst',\n",
              " 'eeinprsstt',\n",
              " 'aceilmnsu',\n",
              " 'acgilnps',\n",
              " 'aeerrstu',\n",
              " \"'aelrsstw\",\n",
              " 'abeglr',\n",
              " 'elnors',\n",
              " 'ddeefii',\n",
              " 'eelnor',\n",
              " 'aelst',\n",
              " 'ehilrst',\n",
              " 'cdeeirrt',\n",
              " \"'acdefiiinost\",\n",
              " 'achin',\n",
              " 'abegl',\n",
              " \"'ginrs\",\n",
              " 'afos',\n",
              " 'cehiknt',\n",
              " 'ghotu',\n",
              " 'aelprsy',\n",
              " 'aft',\n",
              " 'agiknst',\n",
              " 'eilpprs',\n",
              " 'aeilmsttu',\n",
              " 'dgo',\n",
              " 'abelr',\n",
              " 'dginorsw',\n",
              " \"'aaginsu\",\n",
              " 'adhny',\n",
              " 'acillost',\n",
              " 'aeiprss',\n",
              " 'amnorst',\n",
              " 'giimnr',\n",
              " 'emors',\n",
              " 'aegmnot',\n",
              " 'eilnoss',\n",
              " 'aelprstt',\n",
              " 'eeloprssty',\n",
              " 'denps',\n",
              " 'aaddms',\n",
              " 'addenr',\n",
              " 'enort',\n",
              " 'aadeilstv',\n",
              " 'ehiknrt',\n",
              " 'deers',\n",
              " 'addemns',\n",
              " 'adegrr',\n",
              " 'delw',\n",
              " \"'aelpsst\",\n",
              " 'addeinr',\n",
              " 'celnooss',\n",
              " 'adeest',\n",
              " \"'eeloprssty\",\n",
              " 'aellorv',\n",
              " 'adeeprt',\n",
              " 'abeirs',\n",
              " 'aeilnot',\n",
              " 'eeeprrsv',\n",
              " \"'cilos\",\n",
              " 'aeinrsstt',\n",
              " 'deerstw',\n",
              " 'efirstu',\n",
              " \"'acllost\",\n",
              " 'benort',\n",
              " \"'epsst\",\n",
              " 'aeijnn',\n",
              " 'aegrt',\n",
              " 'beilrst',\n",
              " 'cenosstu',\n",
              " 'aginoprrt',\n",
              " 'cejnosu',\n",
              " 'cdnoor',\n",
              " 'eor',\n",
              " \"'agrssu\",\n",
              " 'deoprstu',\n",
              " 'hosw',\n",
              " 'deinns',\n",
              " 'aprsst',\n",
              " 'aeinn',\n",
              " \"'abehss\",\n",
              " 'acot',\n",
              " \"'eelrsstw\",\n",
              " 'cdeors',\n",
              " 'anoprt',\n",
              " 'abtu',\n",
              " 'delow',\n",
              " 'eghilrst',\n",
              " \"'eflsu\",\n",
              " \"'emoors\",\n",
              " \"'aelsu\",\n",
              " \"'dillsy\",\n",
              " 'aest',\n",
              " \"'ahstw\",\n",
              " \"'acehsst\",\n",
              " 'afrst',\n",
              " 'aaeiprst',\n",
              " 'jstu',\n",
              " 'cegiilnns',\n",
              " \"'aensv\",\n",
              " 'deiorsw',\n",
              " 'deinrs',\n",
              " \"'aegorst\",\n",
              " \"'aeimnrssu\",\n",
              " \"'aalns\",\n",
              " 'giinrs',\n",
              " 'efginr',\n",
              " 'eeinrst',\n",
              " 'aeeilmnnt',\n",
              " \"'aeeilmnnst\",\n",
              " 'abbeist',\n",
              " 'adeeisstt',\n",
              " 'acry',\n",
              " \"'dehimnoss\",\n",
              " 'adenpsx',\n",
              " 'aegimnr',\n",
              " 'adeenr',\n",
              " 'aeehrstt',\n",
              " 'cceginnort',\n",
              " \"'efginrs\",\n",
              " 'demos',\n",
              " 'aahnsu',\n",
              " 'ceilnu',\n",
              " 'gilno',\n",
              " \"'aahinsst\",\n",
              " 'eilps',\n",
              " 'esstw',\n",
              " 'aailmrt',\n",
              " \"'efghirst\",\n",
              " \"'deeinrssst\",\n",
              " 'aeprrsy',\n",
              " \"'ipst\",\n",
              " 'no',\n",
              " 'ceilmops',\n",
              " 'deksy',\n",
              " 'adeilpsttu',\n",
              " 'aeiprsst',\n",
              " \"'deinorsssw\",\n",
              " \"'eoprs\",\n",
              " 'eprrsuu',\n",
              " 'eeipppr',\n",
              " \"'aeginnst\",\n",
              " 'aegimr',\n",
              " 'celorv',\n",
              " \"'ailnsv\",\n",
              " 'loos',\n",
              " 'es',\n",
              " 'adepst',\n",
              " 'eersst',\n",
              " 'cdlou',\n",
              " 'abenry',\n",
              " \"'eersst\",\n",
              " 'aelnrs',\n",
              " \"'alops\",\n",
              " \"'goops\",\n",
              " 'deggru',\n",
              " \"'aelsz\",\n",
              " \"'arssty\",\n",
              " \"'ghinst\",\n",
              " \"'efirsst\",\n",
              " 'almnor',\n",
              " 'aalru',\n",
              " \"'berstu\",\n",
              " 'ddeiov',\n",
              " \"'anps\",\n",
              " 'egglmsu',\n",
              " 'lost',\n",
              " \"'eloss\",\n",
              " 'ailnpt',\n",
              " 'denopr',\n",
              " 'ainsstu',\n",
              " 'eiorst',\n",
              " \"'eorss\",\n",
              " 'beosss',\n",
              " \"'ehinrs\",\n",
              " 'orty',\n",
              " \"'ehoorsst\",\n",
              " 'eimrss',\n",
              " 'aelsv',\n",
              " 'aeersv',\n",
              " \"'aeginnost\",\n",
              " 'ceirrssu',\n",
              " 'aanrtt',\n",
              " 'efilrs',\n",
              " 'adeiils',\n",
              " 'dehi',\n",
              " 'eorw',\n",
              " 'agllo',\n",
              " 'ikn',\n",
              " 'adestt',\n",
              " 'aiprst',\n",
              " 'eilv',\n",
              " 'acehopr',\n",
              " 'aimost',\n",
              " \"'aehlsw\",\n",
              " 'eeelprss',\n",
              " 'emor',\n",
              " 'adnors',\n",
              " 'amny',\n",
              " 'aginorst',\n",
              " 'deeelrv',\n",
              " 'acgillnor',\n",
              " 'aceinnst',\n",
              " 'adeerrs',\n",
              " 'eersw',\n",
              " 'eno',\n",
              " \"'aprss\",\n",
              " 'ceehiknrt',\n",
              " 'adegln',\n",
              " 'elpprsu',\n",
              " 'giiklnn',\n",
              " 'efflrtu',\n",
              " 'aceinnsst',\n",
              " 'acdeilnoosst',\n",
              " 'aeeenrtv',\n",
              " \"'aersstu\",\n",
              " \"'eilosv\",\n",
              " 'aiopst',\n",
              " 'amp',\n",
              " 'bdelott',\n",
              " \"'aepsst\",\n",
              " 'aehippst',\n",
              " 'enorrtuv',\n",
              " 'ghnostu',\n",
              " 'acginr',\n",
              " 'adelno',\n",
              " \"'ersty\",\n",
              " 'aelmp',\n",
              " 'acginrt',\n",
              " 'ceenorsv',\n",
              " 'alpsy',\n",
              " 'aden',\n",
              " 'acelrst',\n",
              " 'denors',\n",
              " 'accehimst',\n",
              " \"'dmoos\",\n",
              " 'ceorstv',\n",
              " 'aemppr',\n",
              " \"'aegrs\",\n",
              " 'ehnw',\n",
              " \"'aelorsvy\",\n",
              " 'eemt',\n",
              " 'aeinprrst',\n",
              " 'inp',\n",
              " 'agiilnt',\n",
              " 'aimor',\n",
              " 'cenorst',\n",
              " 'egoprru',\n",
              " 'adefmr',\n",
              " 'abdeinrs',\n",
              " 'aeklnr',\n",
              " \"'erssu\",\n",
              " 'dorwy',\n",
              " 'aaceglotu',\n",
              " 'deginns',\n",
              " 'aghinps',\n",
              " 'anps',\n",
              " 'addeil',\n",
              " \"'aerrsstt\",\n",
              " 'eefhrrs',\n",
              " \"'abeglns\",\n",
              " 'moors',\n",
              " 'eel',\n",
              " 'einpss',\n",
              " 'deorstu',\n",
              " 'dellorst',\n",
              " 'eiorrst',\n",
              " \"'aenorsst\",\n",
              " 'acelor',\n",
              " 'delru',\n",
              " 'ceeorrsu',\n",
              " 'adeerr',\n",
              " 'girst',\n",
              " \"'ains\",\n",
              " 'hist',\n",
              " 'eenoprs',\n",
              " \"'abers\",\n",
              " 'egnor',\n",
              " \"'elmos\",\n",
              " 'aceilrst',\n",
              " \"'abelms\",\n",
              " \"'eensss\",\n",
              " 'aefkr',\n",
              " 'acinopt',\n",
              " 'cdeeilns',\n",
              " 'adegmoprr',\n",
              " 'forst',\n",
              " 'bsstu',\n",
              " 'ceehrs',\n",
              " 'abelsy',\n",
              " 'cdhors',\n",
              " 'aegimn',\n",
              " 'deefinr',\n",
              " 'acehkls',\n",
              " \"'aaceimnrs\",\n",
              " \"'eginrss\",\n",
              " 'aabdlorrs',\n",
              " 'dehoop',\n",
              " 'oort',\n",
              " 'acdeg',\n",
              " 'adeegnrr',\n",
              " 'aelpsst',\n",
              " 'bceeehs',\n",
              " 'aehnt',\n",
              " 'beert',\n",
              " 'deilmnss',\n",
              " 'acehrss',\n",
              " \"'aaceirsv\",\n",
              " 'bddeir',\n",
              " 'eilnor',\n",
              " 'eilsv',\n",
              " 'iknss',\n",
              " 'acers',\n",
              " 'acenrsv',\n",
              " 'eeirvw',\n",
              " \"'celorsv\",\n",
              " \"'bdelloors\",\n",
              " 'eegrst',\n",
              " 'aefr',\n",
              " 'acddeent',\n",
              " \"'acdeilms\",\n",
              " 'for',\n",
              " 'llorst',\n",
              " 'einrs',\n",
              " 'eilnpsu',\n",
              " 'beglrsu',\n",
              " 'aersttw',\n",
              " 'derstu',\n",
              " \"'aflos\",\n",
              " 'beinrtu',\n",
              " 'aginrsty',\n",
              " 'cdegiinrt',\n",
              " \"'gstu\",\n",
              " \"'aaeimnnrs\",\n",
              " \"'aacinorst\",\n",
              " 'adinor',\n",
              " 'cino',\n",
              " 'eloorst',\n",
              " 'ahls',\n",
              " 'eemny',\n",
              " 'aeginst',\n",
              " 'hoost',\n",
              " 'ddeelm',\n",
              " 'eglorv',\n",
              " 'deeepr',\n",
              " 'acdeno',\n",
              " 'aegnr',\n",
              " 'degiinnnt',\n",
              " 'adehlt',\n",
              " 'elrstu',\n",
              " 'bnu',\n",
              " \"'enops\",\n",
              " \"'aeghrst\",\n",
              " 'brsu',\n",
              " 'oprst',\n",
              " 'eginnst',\n",
              " 'ehikrss',\n",
              " 'defin',\n",
              " 'cdeeers',\n",
              " 'adqsu',\n",
              " 'eh',\n",
              " \"'almps\",\n",
              " \"'achoos\",\n",
              " 'degilmn',\n",
              " 'ceiostx',\n",
              " 'deilnssw',\n",
              " \"'deirsv\",\n",
              " \"'films\",\n",
              " 'eelsst',\n",
              " 'allmory',\n",
              " 'ailr',\n",
              " 'ddeeit',\n",
              " 'aceisstu',\n",
              " 'bbinor',\n",
              " 'adew',\n",
              " 'bhrsu',\n",
              " 'ags',\n",
              " \"'aggins\",\n",
              " \"'aclpss\",\n",
              " 'aerw',\n",
              " 'elmnos',\n",
              " 'fgiiknn',\n",
              " 'adnor',\n",
              " 'aeeirs',\n",
              " 'ghilst',\n",
              " \"'gnssu\",\n",
              " \"'aeeijnns\",\n",
              " 'aelps',\n",
              " 'deens',\n",
              " 'aepry',\n",
              " 'anors',\n",
              " 'acllot',\n",
              " \"'dis\",\n",
              " 'aelrssv',\n",
              " 'acehlst',\n",
              " 'aefhilsst',\n",
              " \"'ainoorst\",\n",
              " 'aeefmnors',\n",
              " 'anoprs',\n",
              " 'eorrsst',\n",
              " 'ackss',\n",
              " 'acdep',\n",
              " 'aacinr',\n",
              " 'degio',\n",
              " \"'innosu\",\n",
              " \"'aabls\",\n",
              " 'ailty',\n",
              " 'belstu',\n",
              " 'aaeehhimprstt',\n",
              " 'agimnr',\n",
              " \"'giorsv\",\n",
              " 'beor',\n",
              " 'effis',\n",
              " \"'acdelrs\",\n",
              " 'aehmnr',\n",
              " 'aenprt',\n",
              " 'aeelstz',\n",
              " \"'eginrs\",\n",
              " \"'acdeiimnost\",\n",
              " 'aehl',\n",
              " 'adekr',\n",
              " 'abdeos',\n",
              " 'aclopsu',\n",
              " 'aelr',\n",
              " 'adeinr',\n",
              " 'aclos',\n",
              " 'adlu',\n",
              " 'aloprst',\n",
              " 'eoprstt',\n",
              " 'enorsst',\n",
              " \"'hiirsst\",\n",
              " 'ceiimorst',\n",
              " \"'derrsy\",\n",
              " 'degiimnp',\n",
              " 'adeht',\n",
              " 'acerv',\n",
              " 'aehknrs',\n",
              " 'any',\n",
              " 'eillvy',\n",
              " \"'eikrs\",\n",
              " 'eeinrstu',\n",
              " 'eenst',\n",
              " 'amps',\n",
              " \"'eeimnsss\",\n",
              " \"'abeks\",\n",
              " ...}"
            ]
          },
          "metadata": {},
          "execution_count": 73
        }
      ]
    },
    {
      "cell_type": "markdown",
      "metadata": {
        "id": "PYiIjxIkuWty"
      },
      "source": [
        "**Exercise 8:**\n",
        "Find the longest word with at least one anagram. Suggestion: use the `key` argument of `sort` or `sorted` ([see here](https://stackoverflow.com/questions/8966538/syntax-behind-sortedkey-lambda))."
      ]
    },
    {
      "cell_type": "code",
      "execution_count": 97,
      "metadata": {
        "id": "YBd3xYYHuWty"
      },
      "outputs": [],
      "source": [
        "from typing import Dict\n",
        "\n",
        "def longest_word_with_atleast_one_anagram(anagram_map: Dict) -> str:\n",
        "\n",
        "    sorted_anagram_map = sorted(anagram_map, key = len, reverse = True)\n",
        "\n",
        "    print(sorted_anagram_map[0])\n",
        "    print(anagram_map[0])\n",
        "\n",
        "    for key in sorted_anagram_map:\n",
        "        if len(anagram_map[key]) > 1: \n",
        "            return key"
      ]
    },
    {
      "cell_type": "code",
      "source": [
        "longest_word_with_atleast_one_anagram(anagram_map)"
      ],
      "metadata": {
        "id": "QiSxpARYBEzZ",
        "outputId": "923f8c76-c301-4369-b34a-ac8dd5418b08",
        "colab": {
          "base_uri": "https://localhost:8080/",
          "height": 71
        }
      },
      "execution_count": 98,
      "outputs": [
        {
          "output_type": "stream",
          "name": "stdout",
          "text": [
            "'aacceeeeghhllnoopprrst\n",
            "[]\n"
          ]
        },
        {
          "output_type": "execute_result",
          "data": {
            "text/plain": [
              "\"'eeeiimnprsssssv\""
            ],
            "application/vnd.google.colaboratory.intrinsic+json": {
              "type": "string"
            }
          },
          "metadata": {},
          "execution_count": 98
        }
      ]
    },
    {
      "cell_type": "markdown",
      "metadata": {
        "id": "cXkLLxfkuWty"
      },
      "source": [
        "**Exercise 9:**\n",
        "Find the largest list of words that are anagrams of each other."
      ]
    },
    {
      "cell_type": "code",
      "execution_count": null,
      "metadata": {
        "id": "FsvYpBB9uWty"
      },
      "outputs": [],
      "source": []
    },
    {
      "cell_type": "markdown",
      "metadata": {
        "id": "wGRJdIF0uWty"
      },
      "source": [
        "**Exercise 10:**\n",
        "Write a function that takes an integer `word_length` and finds the longest list of words with the given length that are anagrams of each other."
      ]
    },
    {
      "cell_type": "code",
      "execution_count": null,
      "metadata": {
        "id": "4gW5D74suWty"
      },
      "outputs": [],
      "source": []
    },
    {
      "cell_type": "code",
      "execution_count": null,
      "metadata": {
        "id": "SDzQ9iejuWty"
      },
      "outputs": [],
      "source": []
    },
    {
      "cell_type": "markdown",
      "metadata": {
        "id": "oDiqxHxGuWty"
      },
      "source": [
        "**Exercise 11:**\n",
        "At this point we have a data structure that contains lists of words that are anagrams, but we have not actually enumerated all pairs.\n",
        "Write a function that takes `anagram_map` and returns a list of all anagram pairs.\n",
        "How many are there?"
      ]
    },
    {
      "cell_type": "code",
      "execution_count": null,
      "metadata": {
        "id": "t5CdoTKAuWty"
      },
      "outputs": [],
      "source": []
    },
    {
      "cell_type": "code",
      "execution_count": null,
      "metadata": {
        "id": "pdg3e_uPuWty"
      },
      "outputs": [],
      "source": []
    },
    {
      "cell_type": "code",
      "execution_count": null,
      "metadata": {
        "id": "mgr1mo6guWty"
      },
      "outputs": [],
      "source": []
    },
    {
      "cell_type": "code",
      "execution_count": null,
      "metadata": {
        "id": "TPrBJYX6uWtz"
      },
      "outputs": [],
      "source": []
    },
    {
      "cell_type": "markdown",
      "metadata": {
        "id": "vhd34tl6uWtz"
      },
      "source": [
        "*Data Structures and Information Retrieval in Python*\n",
        "\n",
        "Copyright 2021 Allen Downey\n",
        "\n",
        "License: [Creative Commons Attribution-NonCommercial-ShareAlike 4.0 International](https://creativecommons.org/licenses/by-nc-sa/4.0/)"
      ]
    }
  ],
  "metadata": {
    "kernelspec": {
      "display_name": "Python 3 (ipykernel)",
      "language": "python",
      "name": "python3"
    },
    "language_info": {
      "codemirror_mode": {
        "name": "ipython",
        "version": 3
      },
      "file_extension": ".py",
      "mimetype": "text/x-python",
      "name": "python",
      "nbconvert_exporter": "python",
      "pygments_lexer": "ipython3",
      "version": "3.10.1"
    },
    "colab": {
      "provenance": [],
      "include_colab_link": true
    }
  },
  "nbformat": 4,
  "nbformat_minor": 0
}