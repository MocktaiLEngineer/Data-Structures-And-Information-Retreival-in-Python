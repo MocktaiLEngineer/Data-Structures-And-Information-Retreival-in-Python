{
  "cells": [
    {
      "cell_type": "markdown",
      "metadata": {
        "id": "view-in-github",
        "colab_type": "text"
      },
      "source": [
        "<a href=\"https://colab.research.google.com/github/MocktaiLEngineer/Data-Structures-And-Information-Retreival-in-Python/blob/main/notebooks/set.ipynb\" target=\"_parent\"><img src=\"https://colab.research.google.com/assets/colab-badge.svg\" alt=\"Open In Colab\"/></a>"
      ]
    },
    {
      "cell_type": "markdown",
      "id": "c905f415",
      "metadata": {
        "id": "c905f415"
      },
      "source": [
        "# Sets"
      ]
    },
    {
      "cell_type": "markdown",
      "id": "42302f03",
      "metadata": {
        "id": "42302f03"
      },
      "source": [
        "[Click here to run this chapter on Colab](https://colab.research.google.com/github/AllenDowney/DSIRP/blob/main/notebooks/set.ipynb)"
      ]
    },
    {
      "cell_type": "markdown",
      "id": "eca6f225",
      "metadata": {
        "id": "eca6f225"
      },
      "source": [
        "## Set operators and methods\n",
        "\n",
        "The following example is based on Luciano Ramalho's talk, [Set Practice: Learning from Python's set type](https://www.youtube.com/watch?v=tGAngdU_8D8)."
      ]
    },
    {
      "cell_type": "code",
      "execution_count": 1,
      "id": "3bdc7cb9",
      "metadata": {
        "id": "3bdc7cb9"
      },
      "outputs": [],
      "source": [
        "def fibonacci(stop):\n",
        "    a, b = 0, 1\n",
        "    while a < stop:\n",
        "        yield a\n",
        "        a, b = b, a + b"
      ]
    },
    {
      "cell_type": "code",
      "execution_count": 2,
      "id": "a920606a",
      "metadata": {
        "id": "a920606a",
        "outputId": "da1c70c0-1dd4-4271-8f2a-0691d1108250",
        "colab": {
          "base_uri": "https://localhost:8080/"
        }
      },
      "outputs": [
        {
          "output_type": "execute_result",
          "data": {
            "text/plain": [
              "{0, 1, 2, 3, 5, 8}"
            ]
          },
          "metadata": {},
          "execution_count": 2
        }
      ],
      "source": [
        "f = {n for n in fibonacci(10)}\n",
        "f"
      ]
    },
    {
      "cell_type": "code",
      "execution_count": 3,
      "id": "ed70c495",
      "metadata": {
        "id": "ed70c495"
      },
      "outputs": [],
      "source": [
        "def primes(stop):\n",
        "    m = {}\n",
        "    q = 2\n",
        "    while q < stop:\n",
        "        if q not in m:\n",
        "            yield q \n",
        "            m[q*q] = [q]\n",
        "        else:\n",
        "            for p in m[q]:\n",
        "                m.setdefault(p+q, []).append(p)\n",
        "            del m[q]\n",
        "        q += 1"
      ]
    },
    {
      "cell_type": "code",
      "execution_count": 4,
      "id": "a19659df",
      "metadata": {
        "id": "a19659df",
        "outputId": "c437892a-5f1b-46ee-a4f3-76202b16654d",
        "colab": {
          "base_uri": "https://localhost:8080/"
        }
      },
      "outputs": [
        {
          "output_type": "execute_result",
          "data": {
            "text/plain": [
              "{2, 3, 5, 7}"
            ]
          },
          "metadata": {},
          "execution_count": 4
        }
      ],
      "source": [
        "p = {n for n in primes(10)}\n",
        "p"
      ]
    },
    {
      "cell_type": "markdown",
      "id": "a7b8f36b",
      "metadata": {
        "id": "a7b8f36b"
      },
      "source": [
        "Checking membership is constant time."
      ]
    },
    {
      "cell_type": "code",
      "execution_count": 5,
      "id": "5f32fae1",
      "metadata": {
        "tags": [],
        "id": "5f32fae1",
        "outputId": "d26bdda4-0df1-49f7-d1bb-3471bc72ed9f",
        "colab": {
          "base_uri": "https://localhost:8080/"
        }
      },
      "outputs": [
        {
          "output_type": "execute_result",
          "data": {
            "text/plain": [
              "True"
            ]
          },
          "metadata": {},
          "execution_count": 5
        }
      ],
      "source": [
        "8 in f"
      ]
    },
    {
      "cell_type": "code",
      "execution_count": 6,
      "id": "2b7ee8a8",
      "metadata": {
        "tags": [],
        "id": "2b7ee8a8",
        "outputId": "28d417e8-df9e-4792-e566-a956bcdce42d",
        "colab": {
          "base_uri": "https://localhost:8080/"
        }
      },
      "outputs": [
        {
          "output_type": "execute_result",
          "data": {
            "text/plain": [
              "False"
            ]
          },
          "metadata": {},
          "execution_count": 6
        }
      ],
      "source": [
        "8 in p"
      ]
    },
    {
      "cell_type": "markdown",
      "id": "922ab0f2",
      "metadata": {
        "id": "922ab0f2"
      },
      "source": [
        "Intersection is like AND: it returns elements in f AND in p."
      ]
    },
    {
      "cell_type": "code",
      "execution_count": 7,
      "id": "a1df245c",
      "metadata": {
        "tags": [],
        "id": "a1df245c",
        "outputId": "413f4d68-56e3-4076-903c-2a963f16c394",
        "colab": {
          "base_uri": "https://localhost:8080/"
        }
      },
      "outputs": [
        {
          "output_type": "execute_result",
          "data": {
            "text/plain": [
              "{2, 3, 5}"
            ]
          },
          "metadata": {},
          "execution_count": 7
        }
      ],
      "source": [
        "f & p"
      ]
    },
    {
      "cell_type": "markdown",
      "id": "8422b7d2",
      "metadata": {
        "id": "8422b7d2"
      },
      "source": [
        "Union is like OR: it returns elements in f OR in p."
      ]
    },
    {
      "cell_type": "code",
      "execution_count": 8,
      "id": "4f06006b",
      "metadata": {
        "tags": [],
        "id": "4f06006b",
        "outputId": "7a456ec0-4818-4911-a3fc-31a7f187dc1c",
        "colab": {
          "base_uri": "https://localhost:8080/"
        }
      },
      "outputs": [
        {
          "output_type": "execute_result",
          "data": {
            "text/plain": [
              "{0, 1, 2, 3, 5, 7, 8}"
            ]
          },
          "metadata": {},
          "execution_count": 8
        }
      ],
      "source": [
        "f | p"
      ]
    },
    {
      "cell_type": "markdown",
      "id": "1570034f",
      "metadata": {
        "id": "1570034f"
      },
      "source": [
        "Symmetric difference is like XOR: elements from `f` OR `p` but not both."
      ]
    },
    {
      "cell_type": "code",
      "execution_count": 9,
      "id": "adf1edc2",
      "metadata": {
        "tags": [],
        "id": "adf1edc2",
        "outputId": "8a5e2e74-ce41-4a73-e453-2013b3007721",
        "colab": {
          "base_uri": "https://localhost:8080/"
        }
      },
      "outputs": [
        {
          "output_type": "execute_result",
          "data": {
            "text/plain": [
              "{0, 1, 7, 8}"
            ]
          },
          "metadata": {},
          "execution_count": 9
        }
      ],
      "source": [
        "f ^ p"
      ]
    },
    {
      "cell_type": "markdown",
      "id": "3ef0fcb0",
      "metadata": {
        "id": "3ef0fcb0"
      },
      "source": [
        "Here are the Fibonacci numbers that are not prime."
      ]
    },
    {
      "cell_type": "code",
      "execution_count": 10,
      "id": "dd36b7d7",
      "metadata": {
        "tags": [],
        "id": "dd36b7d7",
        "outputId": "3d507a51-b9a2-47bd-f171-883c480d74fd",
        "colab": {
          "base_uri": "https://localhost:8080/"
        }
      },
      "outputs": [
        {
          "output_type": "execute_result",
          "data": {
            "text/plain": [
              "{0, 1, 8}"
            ]
          },
          "metadata": {},
          "execution_count": 10
        }
      ],
      "source": [
        "f - p"
      ]
    },
    {
      "cell_type": "markdown",
      "id": "2ff76ad6",
      "metadata": {
        "id": "2ff76ad6"
      },
      "source": [
        "And the primes that are not Fibonacci numbers."
      ]
    },
    {
      "cell_type": "code",
      "execution_count": 11,
      "id": "022aebe5",
      "metadata": {
        "tags": [],
        "id": "022aebe5",
        "outputId": "7c06d5c7-b139-4361-c37a-b2b19e3a773a",
        "colab": {
          "base_uri": "https://localhost:8080/"
        }
      },
      "outputs": [
        {
          "output_type": "execute_result",
          "data": {
            "text/plain": [
              "{7}"
            ]
          },
          "metadata": {},
          "execution_count": 11
        }
      ],
      "source": [
        "p - f"
      ]
    },
    {
      "cell_type": "markdown",
      "id": "5526ba75",
      "metadata": {
        "id": "5526ba75"
      },
      "source": [
        "The comparison operators check for subset and superset relationships.\n",
        "\n",
        "The Fibonacci numbers are not a superset of the primes."
      ]
    },
    {
      "cell_type": "code",
      "execution_count": 12,
      "id": "d3440917",
      "metadata": {
        "tags": [],
        "id": "d3440917",
        "outputId": "f044fdd5-014e-4d5f-ba72-de3c7876191a",
        "colab": {
          "base_uri": "https://localhost:8080/"
        }
      },
      "outputs": [
        {
          "output_type": "execute_result",
          "data": {
            "text/plain": [
              "False"
            ]
          },
          "metadata": {},
          "execution_count": 12
        }
      ],
      "source": [
        "f >= p"
      ]
    },
    {
      "cell_type": "markdown",
      "id": "35721968",
      "metadata": {
        "id": "35721968"
      },
      "source": [
        "And the primes are not a superset of the Fibonacci numbers."
      ]
    },
    {
      "cell_type": "code",
      "execution_count": 13,
      "id": "a3bc8632",
      "metadata": {
        "tags": [],
        "id": "a3bc8632",
        "outputId": "78c8918a-6643-408d-9af9-435edc665acf",
        "colab": {
          "base_uri": "https://localhost:8080/"
        }
      },
      "outputs": [
        {
          "output_type": "execute_result",
          "data": {
            "text/plain": [
              "False"
            ]
          },
          "metadata": {},
          "execution_count": 13
        }
      ],
      "source": [
        "p >= f"
      ]
    },
    {
      "cell_type": "markdown",
      "id": "8ccf5d7b",
      "metadata": {
        "id": "8ccf5d7b"
      },
      "source": [
        "In that sense, sets are not like numbers: they are only [partially ordered](https://en.wikipedia.org/wiki/Partially_ordered_set).\n",
        "\n",
        "`f` is a superset of `{1, 2, 3}`"
      ]
    },
    {
      "cell_type": "code",
      "execution_count": 14,
      "id": "434dace6",
      "metadata": {
        "tags": [],
        "id": "434dace6",
        "outputId": "a5fd7273-34d6-4ed5-c04f-0cbc79f3ef3a",
        "colab": {
          "base_uri": "https://localhost:8080/"
        }
      },
      "outputs": [
        {
          "output_type": "execute_result",
          "data": {
            "text/plain": [
              "True"
            ]
          },
          "metadata": {},
          "execution_count": 14
        }
      ],
      "source": [
        "f >= {1, 2, 3}"
      ]
    },
    {
      "cell_type": "code",
      "execution_count": 15,
      "id": "01341068",
      "metadata": {
        "tags": [],
        "id": "01341068",
        "outputId": "0659f99a-dd6a-49c4-f709-dc84cdfb32ba",
        "colab": {
          "base_uri": "https://localhost:8080/"
        }
      },
      "outputs": [
        {
          "output_type": "execute_result",
          "data": {
            "text/plain": [
              "False"
            ]
          },
          "metadata": {},
          "execution_count": 15
        }
      ],
      "source": [
        "p >= {1, 2, 3}"
      ]
    },
    {
      "cell_type": "markdown",
      "id": "0bf147a5",
      "metadata": {
        "id": "0bf147a5"
      },
      "source": [
        "Sets provide methods as well as operators. Why?\n",
        "\n",
        "For one thing, the argument you pass to a method can be any iterable, not just a set."
      ]
    },
    {
      "cell_type": "code",
      "execution_count": 16,
      "id": "f175f4a8",
      "metadata": {
        "tags": [],
        "id": "f175f4a8",
        "outputId": "4de2e56c-c274-4aee-914b-668a6fcb7b4f",
        "colab": {
          "base_uri": "https://localhost:8080/"
        }
      },
      "outputs": [
        {
          "output_type": "stream",
          "name": "stdout",
          "text": [
            "'>=' not supported between instances of 'set' and 'list'\n"
          ]
        }
      ],
      "source": [
        "try:\n",
        "    f >= [1, 2, 3]\n",
        "except TypeError as e:\n",
        "    print(e)"
      ]
    },
    {
      "cell_type": "code",
      "execution_count": 17,
      "id": "b724811d",
      "metadata": {
        "tags": [],
        "id": "b724811d",
        "outputId": "363e0edc-8276-4e01-f615-d548fd441a46",
        "colab": {
          "base_uri": "https://localhost:8080/"
        }
      },
      "outputs": [
        {
          "output_type": "execute_result",
          "data": {
            "text/plain": [
              "True"
            ]
          },
          "metadata": {},
          "execution_count": 17
        }
      ],
      "source": [
        "f.issuperset([1,2,3])"
      ]
    },
    {
      "cell_type": "markdown",
      "id": "d1951fd6",
      "metadata": {
        "id": "d1951fd6"
      },
      "source": [
        "Methods also accept more than one argument:"
      ]
    },
    {
      "cell_type": "code",
      "execution_count": 18,
      "id": "eae2b543",
      "metadata": {
        "id": "eae2b543",
        "outputId": "8004a2b6-9deb-4583-9164-69c29fd9c08a",
        "colab": {
          "base_uri": "https://localhost:8080/"
        }
      },
      "outputs": [
        {
          "output_type": "execute_result",
          "data": {
            "text/plain": [
              "{0, 1, 2, 3, 4, 5, 6, 7, 8}"
            ]
          },
          "metadata": {},
          "execution_count": 18
        }
      ],
      "source": [
        "f.union([1,2,3], (3,4,5), {5,6,7}, {7:'a', 8:'b'})"
      ]
    },
    {
      "cell_type": "markdown",
      "id": "44245e99",
      "metadata": {
        "id": "44245e99"
      },
      "source": [
        "If you don't have a set to start with, you can use an empty set."
      ]
    },
    {
      "cell_type": "code",
      "execution_count": 19,
      "id": "09f015ff",
      "metadata": {
        "id": "09f015ff",
        "outputId": "957bd751-dd23-4566-d408-b3598cea10a0",
        "colab": {
          "base_uri": "https://localhost:8080/"
        }
      },
      "outputs": [
        {
          "output_type": "execute_result",
          "data": {
            "text/plain": [
              "{1, 2, 3, 4, 5, 6, 7, 8}"
            ]
          },
          "metadata": {},
          "execution_count": 19
        }
      ],
      "source": [
        "set().union([1,2,3], (3,4,5), {5,6,7}, {7:'a', 8:'b'})"
      ]
    },
    {
      "cell_type": "markdown",
      "id": "34922ec3",
      "metadata": {
        "id": "34922ec3"
      },
      "source": [
        "One small syntax nuisance: `{1, 2, 3}` is a set, but `{}` is an empty dictionary."
      ]
    },
    {
      "cell_type": "markdown",
      "id": "1cb0143e",
      "metadata": {
        "id": "1cb0143e"
      },
      "source": [
        "## Spelling Bee\n",
        "\n",
        "[The New York Times Spelling Bee](https://www.nytimes.com/puzzles/spelling-bee) is a daily puzzle where the goal is to spell as many words as possible using only the given set of seven letters. \n",
        "For example, in a recent Spelling Bee, the available letters were `dehiklo`,\n",
        "so you could spell \"like\" and \"hold\".\n",
        "\n",
        "You can use each of the letters more than once, so \"hook\" and \"deed\" would be allowed, too.\n",
        "\n",
        "To make it a little more interesting, one of the letters is special and must be included in every word.\n",
        "In this example, the special letter is `o`, so \"hood\" would be allowed, but not \"like\".\n",
        "\n",
        "Each word you find scores points depending on it's length, which must be at least four letters.\n",
        "A word that uses all of the letters is called a \"pangram\" and scores extra points.\n",
        "\n",
        "We'll use this puzzle to explore the use of Python sets."
      ]
    },
    {
      "cell_type": "markdown",
      "id": "6e3bd559",
      "metadata": {
        "id": "6e3bd559"
      },
      "source": [
        "Suppose we're given a word and we would like to know whether it can be spelled using only a given set of letters.\n",
        "The following function solves this problem using string operations."
      ]
    },
    {
      "cell_type": "code",
      "execution_count": 20,
      "id": "61880af0",
      "metadata": {
        "id": "61880af0"
      },
      "outputs": [],
      "source": [
        "def uses_only(word, letters):\n",
        "    for letter in word:\n",
        "        if letter not in letters:\n",
        "            return False\n",
        "    return True"
      ]
    },
    {
      "cell_type": "markdown",
      "id": "b691ac21",
      "metadata": {
        "id": "b691ac21"
      },
      "source": [
        "If we find any letters in `word` that are not in the list of letters, we can return `False` immediately.\n",
        "If we get through the word without finding any unavailable letters, we can return `True`.\n",
        "\n",
        "Let's try it out with some examples. In a recent Spelling Bee, the available letters were `dehiklo`.\n",
        "Let's see what we can spell with them."
      ]
    },
    {
      "cell_type": "code",
      "execution_count": 21,
      "id": "e91c8ab5",
      "metadata": {
        "id": "e91c8ab5",
        "outputId": "82238f52-fb96-487f-9441-13d668bce346",
        "colab": {
          "base_uri": "https://localhost:8080/"
        }
      },
      "outputs": [
        {
          "output_type": "execute_result",
          "data": {
            "text/plain": [
              "True"
            ]
          },
          "metadata": {},
          "execution_count": 21
        }
      ],
      "source": [
        "letters = \"dehiklo\"\n",
        "uses_only('lode', letters)"
      ]
    },
    {
      "cell_type": "code",
      "execution_count": 22,
      "id": "2043e70a",
      "metadata": {
        "id": "2043e70a",
        "outputId": "c0e5e9c4-fdad-43dc-f05f-f3b2cd521743",
        "colab": {
          "base_uri": "https://localhost:8080/"
        }
      },
      "outputs": [
        {
          "output_type": "execute_result",
          "data": {
            "text/plain": [
              "False"
            ]
          },
          "metadata": {},
          "execution_count": 22
        }
      ],
      "source": [
        "uses_only('implode', letters)"
      ]
    },
    {
      "cell_type": "markdown",
      "id": "2caed2b8",
      "metadata": {
        "id": "2caed2b8"
      },
      "source": [
        "**Exercise:** It is possible to implement `uses_only` more concisely using set operations rather than list operations. [Read the documentation of the `set` class](https://docs.python.org/3/tutorial/datastructures.html#sets) and rewrite `uses_only` using sets."
      ]
    },
    {
      "cell_type": "code",
      "execution_count": 23,
      "id": "c7826a80",
      "metadata": {
        "id": "c7826a80"
      },
      "outputs": [],
      "source": [
        "def uses_only(word: str, letters: str) -> bool:\n",
        "    if set(word) <= set(letters):\n",
        "        return True\n",
        "    return False"
      ]
    },
    {
      "cell_type": "code",
      "execution_count": 24,
      "id": "62d631b4",
      "metadata": {
        "id": "62d631b4",
        "outputId": "4eb9a0fd-5f08-44b4-d382-764c57d1bc70",
        "colab": {
          "base_uri": "https://localhost:8080/"
        }
      },
      "outputs": [
        {
          "output_type": "execute_result",
          "data": {
            "text/plain": [
              "True"
            ]
          },
          "metadata": {},
          "execution_count": 24
        }
      ],
      "source": [
        "uses_only('lode', letters)"
      ]
    },
    {
      "cell_type": "code",
      "execution_count": 25,
      "id": "c1a84f7d",
      "metadata": {
        "id": "c1a84f7d",
        "outputId": "d2c4892c-e05e-4cd8-b759-d2ca1222d32b",
        "colab": {
          "base_uri": "https://localhost:8080/"
        }
      },
      "outputs": [
        {
          "output_type": "execute_result",
          "data": {
            "text/plain": [
              "False"
            ]
          },
          "metadata": {},
          "execution_count": 25
        }
      ],
      "source": [
        "uses_only('implode', letters)"
      ]
    },
    {
      "cell_type": "markdown",
      "id": "952485c9",
      "metadata": {
        "id": "952485c9"
      },
      "source": [
        "## Word list\n",
        "\n",
        "The following function downloads a list of about 100,000 words in American English."
      ]
    },
    {
      "cell_type": "code",
      "execution_count": 26,
      "id": "14479b61",
      "metadata": {
        "id": "14479b61",
        "outputId": "a79c14cd-2172-45ec-aa93-65ddd289c57b",
        "colab": {
          "base_uri": "https://localhost:8080/"
        }
      },
      "outputs": [
        {
          "output_type": "stream",
          "name": "stdout",
          "text": [
            "Downloaded american-english\n"
          ]
        }
      ],
      "source": [
        "from os.path import basename, exists\n",
        "\n",
        "def download(url):\n",
        "    filename = basename(url)\n",
        "    if not exists(filename):\n",
        "        from urllib.request import urlretrieve\n",
        "        local, _ = urlretrieve(url, filename)\n",
        "        print('Downloaded ' + local)\n",
        "    \n",
        "download('https://github.com/AllenDowney/DSIRP/raw/main/american-english')"
      ]
    },
    {
      "cell_type": "markdown",
      "id": "8ba2793b",
      "metadata": {
        "id": "8ba2793b"
      },
      "source": [
        "The file contains one word per line, so we can read the file and split it into a list of words like this:"
      ]
    },
    {
      "cell_type": "code",
      "execution_count": 27,
      "id": "6f4c8f7b",
      "metadata": {
        "id": "6f4c8f7b",
        "outputId": "5b506795-0c89-45b6-e47f-f52e338a5e14",
        "colab": {
          "base_uri": "https://localhost:8080/"
        }
      },
      "outputs": [
        {
          "output_type": "execute_result",
          "data": {
            "text/plain": [
              "102401"
            ]
          },
          "metadata": {},
          "execution_count": 27
        }
      ],
      "source": [
        "word_list = open('american-english').read().split()\n",
        "len(word_list)"
      ]
    },
    {
      "cell_type": "markdown",
      "id": "a26292b0",
      "metadata": {
        "id": "a26292b0"
      },
      "source": [
        "**Exercise:** Write a loop that iterates through this word list and prints only words \n",
        "\n",
        "* With at least four letters,\n",
        "\n",
        "* That can be spelled using only the letters `dehiklo`, and\n",
        "\n",
        "* That include the letter `o`."
      ]
    },
    {
      "cell_type": "code",
      "execution_count": 28,
      "id": "3ace74e4",
      "metadata": {
        "id": "3ace74e4",
        "outputId": "cbabee9e-053a-4db1-d9e4-e7b52f68fbc5",
        "colab": {
          "base_uri": "https://localhost:8080/"
        }
      },
      "outputs": [
        {
          "output_type": "stream",
          "name": "stdout",
          "text": [
            "diode\n",
            "dodo\n",
            "dole\n",
            "doled\n",
            "doll\n",
            "dolled\n",
            "doodle\n",
            "doodled\n",
            "hellhole\n",
            "hello\n",
            "hoed\n",
            "hold\n",
            "hole\n",
            "holed\n",
            "hood\n",
            "hooded\n",
            "hoodie\n",
            "hoodoo\n",
            "hoodooed\n",
            "hook\n",
            "hooked\n",
            "idol\n",
            "kiddo\n",
            "kilo\n",
            "kook\n",
            "kookie\n",
            "likelihood\n",
            "lode\n",
            "loll\n",
            "lolled\n",
            "look\n",
            "looked\n",
            "oiled\n",
            "oldie\n",
            "oleo\n"
          ]
        }
      ],
      "source": [
        "letters = 'dehiklo'\n",
        "special_char = 'o'\n",
        "\n",
        "letters_set = set(letters)\n",
        "\n",
        "for word in word_list:\n",
        "    word_set = set(word)\n",
        "    if (len(word) >= 4\n",
        "        and word_set <= letters_set\n",
        "        and special_char in word_set):\n",
        "        print(word)\n"
      ]
    },
    {
      "cell_type": "markdown",
      "id": "39a69dc4",
      "metadata": {
        "id": "39a69dc4"
      },
      "source": [
        "**Exercise:** Now let's check for pangrams. \n",
        "Write a function called `uses_all` that takes two strings and returns `True` if the first string uses all of the letters in the second string.\n",
        "Think about how to express this computation using set operations.\n",
        "\n",
        "Test your function with at least one case that returns `True` and one that returns `False`."
      ]
    },
    {
      "cell_type": "code",
      "execution_count": 38,
      "id": "9c84b036",
      "metadata": {
        "id": "9c84b036"
      },
      "outputs": [],
      "source": [
        "def uses_all(word: str,letters: str) -> bool:\n",
        "    word_set = set(word)\n",
        "    letters_set = set(letters)\n",
        "\n",
        "    if word_set >= letters_set:\n",
        "        return True\n",
        "    return False"
      ]
    },
    {
      "cell_type": "code",
      "execution_count": 41,
      "id": "78966218",
      "metadata": {
        "id": "78966218",
        "outputId": "974d6f4e-6c9c-4229-c3a5-0d77bcb3aea1",
        "colab": {
          "base_uri": "https://localhost:8080/"
        }
      },
      "outputs": [
        {
          "output_type": "execute_result",
          "data": {
            "text/plain": [
              "False"
            ]
          },
          "metadata": {},
          "execution_count": 41
        }
      ],
      "source": [
        "uses_all('a','ab')"
      ]
    },
    {
      "cell_type": "code",
      "execution_count": 42,
      "id": "053cef91",
      "metadata": {
        "id": "053cef91",
        "outputId": "70cb7a54-f018-470e-99dc-87a69683d0f2",
        "colab": {
          "base_uri": "https://localhost:8080/"
        }
      },
      "outputs": [
        {
          "output_type": "execute_result",
          "data": {
            "text/plain": [
              "True"
            ]
          },
          "metadata": {},
          "execution_count": 42
        }
      ],
      "source": [
        "uses_all('abc','ab')"
      ]
    },
    {
      "cell_type": "markdown",
      "id": "ac17d8e8",
      "metadata": {
        "id": "ac17d8e8"
      },
      "source": [
        "**Exercise:** Modify the previous loop to search the word list for pangrams using `uses_only` and `uses_all`.\n",
        "\n",
        "Or, as a bonus, write a function called `uses_all_and_only` that checks both conditions using a single `set` operation."
      ]
    },
    {
      "cell_type": "code",
      "execution_count": 52,
      "id": "93f8b775",
      "metadata": {
        "id": "93f8b775"
      },
      "outputs": [],
      "source": [
        "from typing import List\n",
        "\n",
        "def uses_all_and_only(word_list: List, letters: str) -> bool:\n",
        "    for word in word_list:\n",
        "        word_set = set(word)\n",
        "        if word_set == letters_set:\n",
        "            print(word)"
      ]
    },
    {
      "cell_type": "code",
      "execution_count": 53,
      "id": "2e8ae3c2",
      "metadata": {
        "id": "2e8ae3c2",
        "outputId": "530a6493-d02e-43b0-fd6b-eec2cf00c900",
        "colab": {
          "base_uri": "https://localhost:8080/"
        }
      },
      "outputs": [
        {
          "output_type": "stream",
          "name": "stdout",
          "text": [
            "likelihood\n"
          ]
        }
      ],
      "source": [
        "uses_all_and_only(word_list,'dehiklo')"
      ]
    },
    {
      "cell_type": "markdown",
      "id": "7d2eba1a",
      "metadata": {
        "id": "7d2eba1a"
      },
      "source": [
        "## Leftovers\n",
        "\n",
        "So far we've been writing Boolean functions that test specific conditions, but if they return `False`, they don't explain why.\n",
        "As an alternative to `uses_only`, we could write a function called `bad_letters` that takes a word and a set of letters, and returns a new string that contains the letters in words that are not available.  Let's call it `bad_letters`. "
      ]
    },
    {
      "cell_type": "code",
      "execution_count": 54,
      "id": "a023ed32",
      "metadata": {
        "id": "a023ed32"
      },
      "outputs": [],
      "source": [
        "def bad_letters(word, letters):\n",
        "    return set(word) - set(letters)"
      ]
    },
    {
      "cell_type": "markdown",
      "id": "4afd6581",
      "metadata": {
        "id": "4afd6581"
      },
      "source": [
        "Now if we run this function with an illegal word, it will tell us which letters in the word are not available."
      ]
    },
    {
      "cell_type": "code",
      "execution_count": 55,
      "id": "1c78d5c2",
      "metadata": {
        "id": "1c78d5c2",
        "outputId": "beb81f15-4752-42bf-e5c3-3e4ed58b80c8",
        "colab": {
          "base_uri": "https://localhost:8080/"
        }
      },
      "outputs": [
        {
          "output_type": "execute_result",
          "data": {
            "text/plain": [
              "{'f'}"
            ]
          },
          "metadata": {},
          "execution_count": 55
        }
      ],
      "source": [
        "bad_letters('oilfield', letters)"
      ]
    },
    {
      "cell_type": "markdown",
      "id": "5e044976",
      "metadata": {
        "id": "5e044976"
      },
      "source": [
        "**Exercise:** Write a function called `unused_letters` that takes a word and a set of letters and returns the subset of the letters that are not used in `word`."
      ]
    },
    {
      "cell_type": "code",
      "execution_count": 56,
      "id": "b1854ea4",
      "metadata": {
        "id": "b1854ea4"
      },
      "outputs": [],
      "source": [
        "def unused_letters(word: str, letters: str) -> set:\n",
        "    return set(letters) - set(word)\n"
      ]
    },
    {
      "cell_type": "code",
      "execution_count": 57,
      "id": "0a73331a",
      "metadata": {
        "id": "0a73331a",
        "outputId": "95bc2bef-f530-498b-e099-39343bf67e59",
        "colab": {
          "base_uri": "https://localhost:8080/"
        }
      },
      "outputs": [
        {
          "output_type": "execute_result",
          "data": {
            "text/plain": [
              "{'h', 'k'}"
            ]
          },
          "metadata": {},
          "execution_count": 57
        }
      ],
      "source": [
        "unused_letters('oilfield', letters)"
      ]
    },
    {
      "cell_type": "markdown",
      "id": "48be61ac",
      "metadata": {
        "id": "48be61ac"
      },
      "source": [
        "**Exercise:** Write a function called `no_duplicates` that takes a string and returns `True` if each letter appears only once."
      ]
    },
    {
      "cell_type": "code",
      "execution_count": 59,
      "id": "5c8422d4",
      "metadata": {
        "id": "5c8422d4"
      },
      "outputs": [],
      "source": [
        "def no_duplicates(word: str) -> bool:\n",
        "    if len(word) == len(set(word)):\n",
        "        return True\n",
        "    return False"
      ]
    },
    {
      "cell_type": "code",
      "execution_count": 60,
      "id": "7e77124c",
      "metadata": {
        "id": "7e77124c",
        "outputId": "f06e69b1-20aa-4d97-9b8e-9fb824b2d17d",
        "colab": {
          "base_uri": "https://localhost:8080/"
        }
      },
      "outputs": [
        {
          "output_type": "execute_result",
          "data": {
            "text/plain": [
              "False"
            ]
          },
          "metadata": {},
          "execution_count": 60
        }
      ],
      "source": [
        "no_duplicates('oilfield') "
      ]
    },
    {
      "cell_type": "code",
      "execution_count": 61,
      "id": "0200d5a4",
      "metadata": {
        "id": "0200d5a4",
        "outputId": "3d295c3e-2b7a-4b59-fbf8-916b52ea78a6",
        "colab": {
          "base_uri": "https://localhost:8080/"
        }
      },
      "outputs": [
        {
          "output_type": "execute_result",
          "data": {
            "text/plain": [
              "True"
            ]
          },
          "metadata": {},
          "execution_count": 61
        }
      ],
      "source": [
        "no_duplicates('duplicate')"
      ]
    },
    {
      "cell_type": "markdown",
      "id": "d0c54f80",
      "metadata": {
        "id": "d0c54f80"
      },
      "source": [
        "*Data Structures and Information Retrieval in Python*\n",
        "\n",
        "Copyright 2021 Allen Downey\n",
        "\n",
        "License: [Creative Commons Attribution-NonCommercial-ShareAlike 4.0 International](https://creativecommons.org/licenses/by-nc-sa/4.0/)"
      ]
    }
  ],
  "metadata": {
    "celltoolbar": "Tags",
    "kernelspec": {
      "display_name": "Python 3 (ipykernel)",
      "language": "python",
      "name": "python3"
    },
    "language_info": {
      "codemirror_mode": {
        "name": "ipython",
        "version": 3
      },
      "file_extension": ".py",
      "mimetype": "text/x-python",
      "name": "python",
      "nbconvert_exporter": "python",
      "pygments_lexer": "ipython3",
      "version": "3.10.1"
    },
    "colab": {
      "provenance": [],
      "include_colab_link": true
    }
  },
  "nbformat": 4,
  "nbformat_minor": 5
}